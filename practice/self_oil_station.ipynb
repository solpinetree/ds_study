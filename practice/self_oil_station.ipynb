{
 "cells": [
  {
   "cell_type": "markdown",
   "id": "84659d12-1e62-4a17-acc5-153bbe31ccc6",
   "metadata": {},
   "source": [
    "# 휘발유와 경유 가격은 셀프 주유소에서 정말 저렴할까?\n",
    "주유소 분석을 위한 지역은 서울로 제한을 한다."
   ]
  },
  {
   "cell_type": "markdown",
   "id": "20f2b00b-5ee2-4f7c-b58c-07d577de602f",
   "metadata": {},
   "source": [
    "## 문제1. 서울시 구별 주유소 데이터 정보 크롤링\n",
    "- https://www.opinet.co.kr/searRgSelect.do\n",
    "- 목표\n",
    "    - 수집한 데이터들을 pandas 데이터프레임으로 정리 \n",
    "    - 부가 정보 데이터 : Y 또는 N 으로 저장\n",
    "    - 컬럼 이름은 영문으로 작성\n",
    "- 수집 데이터\n",
    "    - 주유소명(StationName)\n",
    "    - 주소(Address)\n",
    "    - 브랜드(Brand)\n",
    "    - 휘발유 가격(GasolinePrice)\n",
    "    - 경유 가격(DieselPrice)\n",
    "    - 셀프 여부(SelfService)\n",
    "    - 세차장 여부(CarWash)\n",
    "    - 충전소 여부(ChargingStation)\n",
    "    - 경정비 여부(Maintenance)\n",
    "    - 편의점 여부(ConvenienceStore)\n",
    "    - 24시간 운영 여부(Open24Hours)\n",
    "    - 구(Gu)\n",
    "    - 위도(Latitude)\n",
    "    - 경도(Longitude)"
   ]
  },
  {
   "cell_type": "code",
   "execution_count": 43,
   "id": "5f275f9a-916c-4bdb-ae09-9e9eace36083",
   "metadata": {},
   "outputs": [],
   "source": [
    "from selenium import webdriver\n",
    "from selenium.webdriver.common.by import By\n",
    "from selenium.webdriver.chrome.options import Options\n",
    "\n",
    "options = Options()\n",
    "options.add_argument(\"start-maximized\")"
   ]
  },
  {
   "cell_type": "code",
   "execution_count": 44,
   "id": "df6fe227-64fa-428f-a638-8ace0def38dc",
   "metadata": {},
   "outputs": [],
   "source": [
    "url = 'https://www.opinet.co.kr/searRgSelect.do'\n",
    "driver = webdriver.Chrome(options=options)\n",
    "driver.get(url)"
   ]
  },
  {
   "cell_type": "markdown",
   "id": "0723826c-c0d2-4b45-ab08-9cd086d7046e",
   "metadata": {},
   "source": [
    "### 부가정보(세차장, 경정비, 편의점, 24시간) 선택"
   ]
  },
  {
   "cell_type": "markdown",
   "id": "397b865f-201b-46e1-9daa-da25ebcc4fea",
   "metadata": {},
   "source": [
    "#### 세차장"
   ]
  },
  {
   "cell_type": "code",
   "execution_count": 45,
   "id": "b3d1610b-4c84-48bd-b1f0-636bb1dbbe12",
   "metadata": {},
   "outputs": [],
   "source": [
    "def check_car_wash_btn():\n",
    "    car_wash_btn = driver.find_element(By.CSS_SELECTOR, '#CWSH_YN')\n",
    "    if not car_wash_btn.is_selected():\n",
    "        car_wash_btn.click()\n",
    "check_car_wash_btn()"
   ]
  },
  {
   "cell_type": "markdown",
   "id": "7c213567-785e-46c6-8622-3bc2a968a6ab",
   "metadata": {},
   "source": [
    "#### 경정비"
   ]
  },
  {
   "cell_type": "code",
   "execution_count": 46,
   "id": "72bd10ed-baa8-4567-985f-c517a6f2452d",
   "metadata": {},
   "outputs": [],
   "source": [
    "def check_maintainance_btn():\n",
    "    maintainance_btn = driver.find_element(By.CSS_SELECTOR, '#MAINT_YN')\n",
    "    if not maintainance_btn.is_selected():\n",
    "        maintainance_btn.click()\n",
    "check_maintainance_btn()"
   ]
  },
  {
   "cell_type": "markdown",
   "id": "335187e6-f447-4439-bd13-501c1030c29d",
   "metadata": {},
   "source": [
    "#### 편의점"
   ]
  },
  {
   "cell_type": "code",
   "execution_count": 47,
   "id": "c8339576-e8da-4bf7-9c8c-1c4cc9f2d7a3",
   "metadata": {},
   "outputs": [],
   "source": [
    "def check_conve_store_btn():\n",
    "    conve_store_btn = driver.find_element(By.CSS_SELECTOR, '#CVS_YN')\n",
    "    if not conve_store_btn.is_selected():\n",
    "        conve_store_btn.click()\n",
    "check_conve_store_btn()"
   ]
  },
  {
   "cell_type": "markdown",
   "id": "c07efcd0-29e7-4eb2-ae86-6df3036879dc",
   "metadata": {},
   "source": [
    "#### 24시간"
   ]
  },
  {
   "cell_type": "code",
   "execution_count": 48,
   "id": "06337ddd-fbae-4463-9b60-8db7b1db5ca0",
   "metadata": {},
   "outputs": [],
   "source": [
    "def check_24hours_btn():\n",
    "    hours_btn = driver.find_element(By.CSS_SELECTOR, '#SEL24_YN')\n",
    "    if not hours_btn.is_selected():\n",
    "        hours_btn.click()\n",
    "check_24hours_btn()"
   ]
  },
  {
   "cell_type": "markdown",
   "id": "5d94a3df-a2fa-49b5-95d0-5ad738acc5ed",
   "metadata": {},
   "source": [
    "### '서울시' 선택"
   ]
  },
  {
   "cell_type": "code",
   "execution_count": 49,
   "id": "403024a9-2c0f-492e-a0af-766624feb174",
   "metadata": {},
   "outputs": [],
   "source": [
    "sido_list_raw = driver.find_element(By.ID, 'SIDO_NM0')\n",
    "sido_list = sido_list_raw.find_elements(By.TAG_NAME, 'option')\n",
    "\n",
    "sido_names = []\n",
    "\n",
    "for option in sido_list:\n",
    "    if option.text != '시/도':\n",
    "        sido_names.append(option.get_attribute(\"value\"))\n",
    "\n",
    "sido_list_raw.send_keys(sido_names[0])"
   ]
  },
  {
   "cell_type": "markdown",
   "id": "5ef29e6e-87d8-4a8a-8fca-c23e6ec2a67e",
   "metadata": {},
   "source": [
    "### 지역: 구 리스트 추출"
   ]
  },
  {
   "cell_type": "code",
   "execution_count": 50,
   "id": "320427b0-4c09-45dd-8cf4-b5f86616f396",
   "metadata": {
    "tags": []
   },
   "outputs": [
    {
     "data": {
      "text/plain": [
       "'시/군/구\\n강남구\\n강동구\\n강북구\\n강서구\\n관악구\\n광진구\\n구로구\\n금천구\\n노원구\\n도봉구\\n동대문구\\n동작구\\n마포구\\n서대문구\\n서초구\\n성동구\\n성북구\\n송파구\\n양천구\\n영등포구\\n용산구\\n은평구\\n종로구\\n중구\\n중랑구'"
      ]
     },
     "execution_count": 50,
     "metadata": {},
     "output_type": "execute_result"
    }
   ],
   "source": [
    "gu_list_raw = driver.find_element(By.ID, 'SIGUNGU_NM0')\n",
    "gu_list_raw.text"
   ]
  },
  {
   "cell_type": "code",
   "execution_count": 51,
   "id": "c3e38e3d-5d36-486e-929e-d4ad840eacac",
   "metadata": {},
   "outputs": [
    {
     "data": {
      "text/plain": [
       "('시/군/구', '강남구')"
      ]
     },
     "execution_count": 51,
     "metadata": {},
     "output_type": "execute_result"
    }
   ],
   "source": [
    "gu_list = gu_list_raw.find_elements(By.TAG_NAME, 'option')\n",
    "gu_list[0].text, gu_list[1].text"
   ]
  },
  {
   "cell_type": "code",
   "execution_count": 52,
   "id": "61441891-203d-4877-bf6d-c6e2204ed037",
   "metadata": {},
   "outputs": [
    {
     "data": {
      "text/plain": [
       "['강남구',\n",
       " '강동구',\n",
       " '강북구',\n",
       " '강서구',\n",
       " '관악구',\n",
       " '광진구',\n",
       " '구로구',\n",
       " '금천구',\n",
       " '노원구',\n",
       " '도봉구',\n",
       " '동대문구',\n",
       " '동작구',\n",
       " '마포구',\n",
       " '서대문구',\n",
       " '서초구',\n",
       " '성동구',\n",
       " '성북구',\n",
       " '송파구',\n",
       " '양천구',\n",
       " '영등포구',\n",
       " '용산구',\n",
       " '은평구',\n",
       " '종로구',\n",
       " '중구',\n",
       " '중랑구']"
      ]
     },
     "execution_count": 52,
     "metadata": {},
     "output_type": "execute_result"
    }
   ],
   "source": [
    "gu_names = []\n",
    "\n",
    "for option in gu_list:\n",
    "    if option.text != '시/군/구':\n",
    "        gu_names.append(option.get_attribute('value'))\n",
    "\n",
    "gu_names"
   ]
  },
  {
   "cell_type": "code",
   "execution_count": 56,
   "id": "afcf0d76-82fd-4503-a6af-afb43da6aa19",
   "metadata": {},
   "outputs": [],
   "source": [
    "gu_list_raw = driver.find_element(By.ID, 'SIGUNGU_NM0')\n",
    "gu_list_raw.send_keys(gu_names[3])"
   ]
  },
  {
   "cell_type": "markdown",
   "id": "10232422-24a7-4a75-8e99-723ae2f876df",
   "metadata": {},
   "source": [
    "### 지역: 구 데이터 모두 수집"
   ]
  },
  {
   "cell_type": "code",
   "execution_count": 72,
   "id": "7e7b31a7-ac12-41fe-b0c1-0141b2f3c4ed",
   "metadata": {},
   "outputs": [],
   "source": [
    "import time\n",
    "from bs4 import BeautifulSoup\n",
    "\n",
    "station_name = []\n",
    "address = []\n",
    "brand = []\n",
    "gasoline_price = []\n",
    "diesel_price = []\n",
    "self_service = []\n",
    "car_wash = []\n",
    "charging_station = []\n",
    "maintainance = []\n",
    "cvs = []\n",
    "open_24hours = []\n",
    "gu = []\n",
    "\n",
    "for gu_name in gu_names:\n",
    "    # 구선택\n",
    "    gu_list_raw = driver.find_element(By.ID, 'SIGUNGU_NM0')\n",
    "    gu_list_raw.send_keys(gu_name)\n",
    "    time.sleep(5)\n",
    "    \n",
    "    soup = BeautifulSoup(driver.page_source, \"html.parser\")\n",
    "    datas = soup.select('#body1 > tr')\n",
    "    \n",
    "    for i in range(0, len(datas)):\n",
    "        # 셀프주유 여부\n",
    "        service_tag = datas[i].select_one('.ico')\n",
    "        tmp = None if service_tag == None else service_tag.text\n",
    "        self_service.append('Y' if tmp == '셀프' else 'N')\n",
    "\n",
    "        # 휘발유 가격\n",
    "        gasoline_price.append(datas[i].select('.price')[0].text.strip())\n",
    "        \n",
    "        # 경유 가격\n",
    "        diesel_price.append(datas[i].select('.price')[1].text.strip())\n",
    "        \n",
    "        # 브랜드\n",
    "        brand.append(datas[i].select_one('.rlist > img')['alt'])\n",
    "        \n",
    "        # 요소 클릭(팝업 데이터 이용 위함)\n",
    "        driver.find_element(By.XPATH, '//*[@id=\"body1\"]/tr['+ str(i+1) +']/td[1]/a').click() \n",
    "        time.sleep(5)\n",
    "        \n",
    "        # 팝업 html\n",
    "        soup = BeautifulSoup(driver.page_source, \"html.parser\")\n",
    "        station_info = soup.select_one('#os_dtail_info > div.inner')\n",
    "        \n",
    "        # 주유소명\n",
    "        station_name.append(station_info.select_one('.inner > .header > label').text)\n",
    "                   \n",
    "        # 주소\n",
    "        address.append(station_info.select_one('#rd_addr').text)\n",
    "                   \n",
    "        # 구\n",
    "        gu.append(address[-1].split()[1])\n",
    "                   \n",
    "        # 세차장 여부\n",
    "        car_wash.append('N' if 'off' in station_info.select_one('#cwsh_yn')['src'] else 'Y')\n",
    "                   \n",
    "        # 충전소 여부\n",
    "        charging_station.append('N' if 'off' in station_info.select_one('#lpg_yn')['src'] else 'Y')\n",
    "                   \n",
    "        # 경정비 여부\n",
    "        maintainance.append('N' if 'off' in station_info.select_one('#maint_yn')['src'] else 'Y')\n",
    "                   \n",
    "        # 편의점 여부\n",
    "        cvs.append('N' if 'off' in station_info.select_one('#cvs_yn')['src'] else 'Y')\n",
    "        \n",
    "        # 24시간 운영 여부\n",
    "        open_24hours.append('N' if 'off' in station_info.select_one('#sel24_yn')['src'] else 'Y')"
   ]
  },
  {
   "cell_type": "code",
   "execution_count": 73,
   "id": "8d408ea4-71d2-4543-87fc-2e6b477fa336",
   "metadata": {},
   "outputs": [
    {
     "data": {
      "text/plain": [
       "(355, 355, 355, 355, 355, 355)"
      ]
     },
     "execution_count": 73,
     "metadata": {},
     "output_type": "execute_result"
    }
   ],
   "source": [
    "len(station_name), len(address), len(brand), len(gasoline_price), len(diesel_price), len(self_service), \n",
    "len(car_wash), len(charging_station), len(maintainance), len(cvs), len(open_24hours), len(gu)"
   ]
  },
  {
   "cell_type": "code",
   "execution_count": 74,
   "id": "b8065588-ef64-4872-88f8-ae7f12379703",
   "metadata": {},
   "outputs": [
    {
     "data": {
      "text/html": [
       "<div>\n",
       "<style scoped>\n",
       "    .dataframe tbody tr th:only-of-type {\n",
       "        vertical-align: middle;\n",
       "    }\n",
       "\n",
       "    .dataframe tbody tr th {\n",
       "        vertical-align: top;\n",
       "    }\n",
       "\n",
       "    .dataframe thead th {\n",
       "        text-align: right;\n",
       "    }\n",
       "</style>\n",
       "<table border=\"1\" class=\"dataframe\">\n",
       "  <thead>\n",
       "    <tr style=\"text-align: right;\">\n",
       "      <th></th>\n",
       "      <th>station_name</th>\n",
       "      <th>address</th>\n",
       "      <th>brand</th>\n",
       "      <th>gasoline_price</th>\n",
       "      <th>diesel_price</th>\n",
       "      <th>self_service</th>\n",
       "      <th>car_wash</th>\n",
       "      <th>charging_station</th>\n",
       "      <th>maintainance</th>\n",
       "      <th>cvs</th>\n",
       "      <th>open_24hours</th>\n",
       "      <th>gu</th>\n",
       "    </tr>\n",
       "  </thead>\n",
       "  <tbody>\n",
       "    <tr>\n",
       "      <th>0</th>\n",
       "      <td>HD현대오일뱅크㈜직영 강남셀프주유소</td>\n",
       "      <td>서울 강남구 도곡로 208</td>\n",
       "      <td>HD현대오일뱅크</td>\n",
       "      <td>1699</td>\n",
       "      <td>1599</td>\n",
       "      <td>Y</td>\n",
       "      <td>Y</td>\n",
       "      <td>N</td>\n",
       "      <td>N</td>\n",
       "      <td>N</td>\n",
       "      <td>N</td>\n",
       "      <td>강남구</td>\n",
       "    </tr>\n",
       "    <tr>\n",
       "      <th>1</th>\n",
       "      <td>(주)보성 세곡주유소</td>\n",
       "      <td>서울 강남구  헌릉로 731 (세곡동)</td>\n",
       "      <td>SK에너지</td>\n",
       "      <td>1709</td>\n",
       "      <td>1578</td>\n",
       "      <td>Y</td>\n",
       "      <td>Y</td>\n",
       "      <td>N</td>\n",
       "      <td>N</td>\n",
       "      <td>N</td>\n",
       "      <td>N</td>\n",
       "      <td>강남구</td>\n",
       "    </tr>\n",
       "    <tr>\n",
       "      <th>2</th>\n",
       "      <td>방죽주유소</td>\n",
       "      <td>서울 강남구 밤고개로 215 (율현동)</td>\n",
       "      <td>GS칼텍스</td>\n",
       "      <td>1717</td>\n",
       "      <td>1599</td>\n",
       "      <td>Y</td>\n",
       "      <td>Y</td>\n",
       "      <td>N</td>\n",
       "      <td>N</td>\n",
       "      <td>N</td>\n",
       "      <td>N</td>\n",
       "      <td>강남구</td>\n",
       "    </tr>\n",
       "    <tr>\n",
       "      <th>3</th>\n",
       "      <td>HD현대오일뱅크㈜직영 산성셀프주유소</td>\n",
       "      <td>서울 강남구 헌릉로 730</td>\n",
       "      <td>HD현대오일뱅크</td>\n",
       "      <td>1717</td>\n",
       "      <td>1578</td>\n",
       "      <td>Y</td>\n",
       "      <td>Y</td>\n",
       "      <td>N</td>\n",
       "      <td>N</td>\n",
       "      <td>N</td>\n",
       "      <td>N</td>\n",
       "      <td>강남구</td>\n",
       "    </tr>\n",
       "    <tr>\n",
       "      <th>4</th>\n",
       "      <td>자곡셀프주유소</td>\n",
       "      <td>서울 강남구 밤고개로 120 (자곡동)</td>\n",
       "      <td>SK에너지</td>\n",
       "      <td>1717</td>\n",
       "      <td>1599</td>\n",
       "      <td>Y</td>\n",
       "      <td>Y</td>\n",
       "      <td>N</td>\n",
       "      <td>N</td>\n",
       "      <td>N</td>\n",
       "      <td>N</td>\n",
       "      <td>강남구</td>\n",
       "    </tr>\n",
       "  </tbody>\n",
       "</table>\n",
       "</div>"
      ],
      "text/plain": [
       "          station_name                address     brand  ... cvs open_24hours   gu\n",
       "0  HD현대오일뱅크㈜직영 강남셀프주유소         서울 강남구 도곡로 208  HD현대오일뱅크  ...   N            N  강남구\n",
       "1          (주)보성 세곡주유소  서울 강남구  헌릉로 731 (세곡동)     SK에너지  ...   N            N  강남구\n",
       "2                방죽주유소  서울 강남구 밤고개로 215 (율현동)     GS칼텍스  ...   N            N  강남구\n",
       "3  HD현대오일뱅크㈜직영 산성셀프주유소         서울 강남구 헌릉로 730  HD현대오일뱅크  ...   N            N  강남구\n",
       "4              자곡셀프주유소  서울 강남구 밤고개로 120 (자곡동)     SK에너지  ...   N            N  강남구\n",
       "\n",
       "[5 rows x 12 columns]"
      ]
     },
     "execution_count": 74,
     "metadata": {},
     "output_type": "execute_result"
    }
   ],
   "source": [
    "import pandas as pd\n",
    "\n",
    "df = pd.DataFrame({\n",
    "    \"station_name\" : station_name,\n",
    "    \"address\": address,\n",
    "    \"brand\": brand,\n",
    "    \"gasoline_price\": gasoline_price,\n",
    "    \"diesel_price\": diesel_price,\n",
    "    \"self_service\": self_service,\n",
    "    \"car_wash\": car_wash,\n",
    "    \"charging_station\": charging_station,\n",
    "    \"maintainance\": maintainance,\n",
    "    \"cvs\": cvs,\n",
    "    \"open_24hours\": open_24hours,\n",
    "    \"gu\": gu\n",
    "})\n",
    "df.head()"
   ]
  },
  {
   "cell_type": "code",
   "execution_count": 78,
   "id": "cf103545-d18b-4e6b-ab7c-4fd606f44e74",
   "metadata": {},
   "outputs": [],
   "source": [
    "driver.close()"
   ]
  },
  {
   "cell_type": "markdown",
   "id": "bca056f4-76c8-4a8a-877f-e75556041f02",
   "metadata": {},
   "source": [
    "### 엑셀에 저장"
   ]
  },
  {
   "cell_type": "code",
   "execution_count": 75,
   "id": "33388234-800f-45b3-8ccc-1a4e22e88276",
   "metadata": {},
   "outputs": [],
   "source": [
    "df.to_csv(\"./data/station\", sep=\",\", encoding=\"utf-8\")"
   ]
  },
  {
   "cell_type": "markdown",
   "id": "35e17002-9340-43d9-b06f-a58d8978857f",
   "metadata": {},
   "source": [
    "## 문제2. 분석 및 분석 결과"
   ]
  },
  {
   "cell_type": "markdown",
   "id": "229a3eaf-6995-486d-94b1-f78927d97bb7",
   "metadata": {},
   "source": [
    "### 데이터 가져옴"
   ]
  },
  {
   "cell_type": "code",
   "execution_count": 77,
   "id": "b5005a08-d36c-4ca5-8cce-b9ead012f7c7",
   "metadata": {},
   "outputs": [
    {
     "data": {
      "text/html": [
       "<div>\n",
       "<style scoped>\n",
       "    .dataframe tbody tr th:only-of-type {\n",
       "        vertical-align: middle;\n",
       "    }\n",
       "\n",
       "    .dataframe tbody tr th {\n",
       "        vertical-align: top;\n",
       "    }\n",
       "\n",
       "    .dataframe thead th {\n",
       "        text-align: right;\n",
       "    }\n",
       "</style>\n",
       "<table border=\"1\" class=\"dataframe\">\n",
       "  <thead>\n",
       "    <tr style=\"text-align: right;\">\n",
       "      <th></th>\n",
       "      <th>station_name</th>\n",
       "      <th>address</th>\n",
       "      <th>brand</th>\n",
       "      <th>gasoline_price</th>\n",
       "      <th>diesel_price</th>\n",
       "      <th>self_service</th>\n",
       "      <th>car_wash</th>\n",
       "      <th>charging_station</th>\n",
       "      <th>maintainance</th>\n",
       "      <th>cvs</th>\n",
       "      <th>open_24hours</th>\n",
       "      <th>gu</th>\n",
       "    </tr>\n",
       "  </thead>\n",
       "  <tbody>\n",
       "    <tr>\n",
       "      <th>0</th>\n",
       "      <td>HD현대오일뱅크㈜직영 강남셀프주유소</td>\n",
       "      <td>서울 강남구 도곡로 208</td>\n",
       "      <td>HD현대오일뱅크</td>\n",
       "      <td>1699</td>\n",
       "      <td>1599</td>\n",
       "      <td>Y</td>\n",
       "      <td>Y</td>\n",
       "      <td>N</td>\n",
       "      <td>N</td>\n",
       "      <td>N</td>\n",
       "      <td>N</td>\n",
       "      <td>강남구</td>\n",
       "    </tr>\n",
       "    <tr>\n",
       "      <th>1</th>\n",
       "      <td>(주)보성 세곡주유소</td>\n",
       "      <td>서울 강남구  헌릉로 731 (세곡동)</td>\n",
       "      <td>SK에너지</td>\n",
       "      <td>1709</td>\n",
       "      <td>1578</td>\n",
       "      <td>Y</td>\n",
       "      <td>Y</td>\n",
       "      <td>N</td>\n",
       "      <td>N</td>\n",
       "      <td>N</td>\n",
       "      <td>N</td>\n",
       "      <td>강남구</td>\n",
       "    </tr>\n",
       "    <tr>\n",
       "      <th>2</th>\n",
       "      <td>방죽주유소</td>\n",
       "      <td>서울 강남구 밤고개로 215 (율현동)</td>\n",
       "      <td>GS칼텍스</td>\n",
       "      <td>1717</td>\n",
       "      <td>1599</td>\n",
       "      <td>Y</td>\n",
       "      <td>Y</td>\n",
       "      <td>N</td>\n",
       "      <td>N</td>\n",
       "      <td>N</td>\n",
       "      <td>N</td>\n",
       "      <td>강남구</td>\n",
       "    </tr>\n",
       "    <tr>\n",
       "      <th>3</th>\n",
       "      <td>HD현대오일뱅크㈜직영 산성셀프주유소</td>\n",
       "      <td>서울 강남구 헌릉로 730</td>\n",
       "      <td>HD현대오일뱅크</td>\n",
       "      <td>1717</td>\n",
       "      <td>1578</td>\n",
       "      <td>Y</td>\n",
       "      <td>Y</td>\n",
       "      <td>N</td>\n",
       "      <td>N</td>\n",
       "      <td>N</td>\n",
       "      <td>N</td>\n",
       "      <td>강남구</td>\n",
       "    </tr>\n",
       "    <tr>\n",
       "      <th>4</th>\n",
       "      <td>자곡셀프주유소</td>\n",
       "      <td>서울 강남구 밤고개로 120 (자곡동)</td>\n",
       "      <td>SK에너지</td>\n",
       "      <td>1717</td>\n",
       "      <td>1599</td>\n",
       "      <td>Y</td>\n",
       "      <td>Y</td>\n",
       "      <td>N</td>\n",
       "      <td>N</td>\n",
       "      <td>N</td>\n",
       "      <td>N</td>\n",
       "      <td>강남구</td>\n",
       "    </tr>\n",
       "  </tbody>\n",
       "</table>\n",
       "</div>"
      ],
      "text/plain": [
       "          station_name                address     brand  ...  cvs  open_24hours   gu\n",
       "0  HD현대오일뱅크㈜직영 강남셀프주유소         서울 강남구 도곡로 208  HD현대오일뱅크  ...    N             N  강남구\n",
       "1          (주)보성 세곡주유소  서울 강남구  헌릉로 731 (세곡동)     SK에너지  ...    N             N  강남구\n",
       "2                방죽주유소  서울 강남구 밤고개로 215 (율현동)     GS칼텍스  ...    N             N  강남구\n",
       "3  HD현대오일뱅크㈜직영 산성셀프주유소         서울 강남구 헌릉로 730  HD현대오일뱅크  ...    N             N  강남구\n",
       "4              자곡셀프주유소  서울 강남구 밤고개로 120 (자곡동)     SK에너지  ...    N             N  강남구\n",
       "\n",
       "[5 rows x 12 columns]"
      ]
     },
     "execution_count": 77,
     "metadata": {},
     "output_type": "execute_result"
    }
   ],
   "source": [
    "df = pd.read_csv(\"./data/station\", encoding=\"utf-8\", index_col=0)\n",
    "df.head()"
   ]
  },
  {
   "cell_type": "markdown",
   "id": "7f4ef150-28e1-4660-81b6-602145c91709",
   "metadata": {},
   "source": [
    "### 휘발유 boxplot"
   ]
  },
  {
   "cell_type": "code",
   "execution_count": 79,
   "id": "755ac534-5458-4fd1-add1-1ecab08b595e",
   "metadata": {},
   "outputs": [],
   "source": [
    "import matplotlib.pyplot as plt\n",
    "import seaborn as sns\n",
    "from matplotlib import font_manager, rc\n",
    "\n",
    "f_path = \"/Library/Fonts/Arial Unicode.ttf\"\n",
    "family = font_manager.FontProperties(fname=f_path).get_name()\n",
    "rc(\"font\", family=family)"
   ]
  },
  {
   "cell_type": "code",
   "execution_count": 80,
   "id": "cc6fa88f-4c88-4df6-a920-d0fbce233e14",
   "metadata": {},
   "outputs": [
    {
     "data": {
      "image/png": "[encoded data removed]",
      "text/plain": [
       "<Figure size 576x432 with 1 Axes>"
      ]
     },
     "metadata": {
      "needs_background": "light"
     },
     "output_type": "display_data"
    }
   ],
   "source": [
    "plt.figure(figsize=(8, 6))\n",
    "sns.boxplot(x=\"self_service\", y=\"gasoline_price\", data=df, palette=\"Set1\")\n",
    "plt.grid(True)\n",
    "plt.show()"
   ]
  },
  {
   "cell_type": "markdown",
   "id": "505ec64d-3ac0-42ae-bd49-d602a361731f",
   "metadata": {},
   "source": [
    "### 경유 boxplot"
   ]
  },
  {
   "cell_type": "code",
   "execution_count": 81,
   "id": "fe3ebf7f-5268-42b2-896b-df4809bf0dc8",
   "metadata": {},
   "outputs": [
    {
     "data": {
      "image/png": "[encoded data removed]",
      "text/plain": [
       "<Figure size 576x432 with 1 Axes>"
      ]
     },
     "metadata": {
      "needs_background": "light"
     },
     "output_type": "display_data"
    }
   ],
   "source": [
    "plt.figure(figsize=(8, 6))\n",
    "sns.boxplot(x=\"self_service\", y=\"diesel_price\", data=df, palette=\"Set1\")\n",
    "plt.grid(True)\n",
    "plt.show()"
   ]
  },
  {
   "cell_type": "markdown",
   "id": "a52c2fd4-fd96-4ad5-9464-480904a56b34",
   "metadata": {},
   "source": [
    "### 구별 휘발유 셀프 비교 막대그래프"
   ]
  },
  {
   "cell_type": "code",
   "execution_count": 99,
   "id": "97cee515-39b0-4daf-806b-0cabe9b10bca",
   "metadata": {},
   "outputs": [
    {
     "data": {
      "text/html": [
       "<div>\n",
       "<style scoped>\n",
       "    .dataframe tbody tr th:only-of-type {\n",
       "        vertical-align: middle;\n",
       "    }\n",
       "\n",
       "    .dataframe tbody tr th {\n",
       "        vertical-align: top;\n",
       "    }\n",
       "\n",
       "    .dataframe thead tr th {\n",
       "        text-align: left;\n",
       "    }\n",
       "\n",
       "    .dataframe thead tr:last-of-type th {\n",
       "        text-align: right;\n",
       "    }\n",
       "</style>\n",
       "<table border=\"1\" class=\"dataframe\">\n",
       "  <thead>\n",
       "    <tr>\n",
       "      <th></th>\n",
       "      <th colspan=\"2\" halign=\"left\">diesel_price</th>\n",
       "      <th colspan=\"2\" halign=\"left\">gasoline_price</th>\n",
       "    </tr>\n",
       "    <tr>\n",
       "      <th>self_service</th>\n",
       "      <th>N</th>\n",
       "      <th>Y</th>\n",
       "      <th>N</th>\n",
       "      <th>Y</th>\n",
       "    </tr>\n",
       "    <tr>\n",
       "      <th>gu</th>\n",
       "      <th></th>\n",
       "      <th></th>\n",
       "      <th></th>\n",
       "      <th></th>\n",
       "    </tr>\n",
       "  </thead>\n",
       "  <tbody>\n",
       "    <tr>\n",
       "      <th>강남구</th>\n",
       "      <td>2076.0</td>\n",
       "      <td>1642.0</td>\n",
       "      <td>2266.0</td>\n",
       "      <td>1780.5</td>\n",
       "    </tr>\n",
       "    <tr>\n",
       "      <th>강동구</th>\n",
       "      <td>1743.5</td>\n",
       "      <td>1638.5</td>\n",
       "      <td>1855.0</td>\n",
       "      <td>1763.0</td>\n",
       "    </tr>\n",
       "    <tr>\n",
       "      <th>강북구</th>\n",
       "      <td>1519.0</td>\n",
       "      <td>1475.0</td>\n",
       "      <td>1679.0</td>\n",
       "      <td>1625.0</td>\n",
       "    </tr>\n",
       "    <tr>\n",
       "      <th>강서구</th>\n",
       "      <td>1603.5</td>\n",
       "      <td>1549.0</td>\n",
       "      <td>1733.0</td>\n",
       "      <td>1686.0</td>\n",
       "    </tr>\n",
       "    <tr>\n",
       "      <th>관악구</th>\n",
       "      <td>1606.5</td>\n",
       "      <td>1579.0</td>\n",
       "      <td>1738.5</td>\n",
       "      <td>1719.0</td>\n",
       "    </tr>\n",
       "  </tbody>\n",
       "</table>\n",
       "</div>"
      ],
      "text/plain": [
       "             diesel_price         gasoline_price        \n",
       "self_service            N       Y              N       Y\n",
       "gu                                                      \n",
       "강남구                2076.0  1642.0         2266.0  1780.5\n",
       "강동구                1743.5  1638.5         1855.0  1763.0\n",
       "강북구                1519.0  1475.0         1679.0  1625.0\n",
       "강서구                1603.5  1549.0         1733.0  1686.0\n",
       "관악구                1606.5  1579.0         1738.5  1719.0"
      ]
     },
     "execution_count": 99,
     "metadata": {},
     "output_type": "execute_result"
    }
   ],
   "source": [
    "import numpy as np\n",
    "\n",
    "gu_data = pd.pivot_table(\n",
    "    data=df, \n",
    "    index=\"gu\", \n",
    "    columns=\"self_service\",\n",
    "    values=[\"gasoline_price\", \"diesel_price\"], \n",
    "    aggfunc=np.median\n",
    ")\n",
    "\n",
    "gu_data.head()"
   ]
  },
  {
   "cell_type": "code",
   "execution_count": 87,
   "id": "89290157-4679-4664-a49f-15ad31e48c90",
   "metadata": {},
   "outputs": [
    {
     "data": {
      "text/plain": [
       "MultiIndex([(  'diesel_price', 'N'),\n",
       "            (  'diesel_price', 'Y'),\n",
       "            ('gasoline_price', 'N'),\n",
       "            ('gasoline_price', 'Y')],\n",
       "           names=[None, 'self_service'])"
      ]
     },
     "execution_count": 87,
     "metadata": {},
     "output_type": "execute_result"
    }
   ],
   "source": [
    "gu_data.columns"
   ]
  },
  {
   "cell_type": "code",
   "execution_count": 98,
   "id": "b770a9a5-9a00-4a1e-8006-ae966ca215b7",
   "metadata": {},
   "outputs": [
    {
     "data": {
      "text/html": [
       "<div>\n",
       "<style scoped>\n",
       "    .dataframe tbody tr th:only-of-type {\n",
       "        vertical-align: middle;\n",
       "    }\n",
       "\n",
       "    .dataframe tbody tr th {\n",
       "        vertical-align: top;\n",
       "    }\n",
       "\n",
       "    .dataframe thead th {\n",
       "        text-align: right;\n",
       "    }\n",
       "</style>\n",
       "<table border=\"1\" class=\"dataframe\">\n",
       "  <thead>\n",
       "    <tr style=\"text-align: right;\">\n",
       "      <th></th>\n",
       "      <th>station_name</th>\n",
       "      <th>address</th>\n",
       "      <th>brand</th>\n",
       "      <th>gasoline_price</th>\n",
       "      <th>diesel_price</th>\n",
       "      <th>self_service</th>\n",
       "      <th>car_wash</th>\n",
       "      <th>charging_station</th>\n",
       "      <th>maintainance</th>\n",
       "      <th>cvs</th>\n",
       "      <th>open_24hours</th>\n",
       "      <th>gu</th>\n",
       "    </tr>\n",
       "  </thead>\n",
       "  <tbody>\n",
       "    <tr>\n",
       "      <th>320</th>\n",
       "      <td>(주)아이에스피에너지(서울서부고속주유소)</td>\n",
       "      <td>서울 은평구 응암로 163</td>\n",
       "      <td>HD현대오일뱅크</td>\n",
       "      <td>1647</td>\n",
       "      <td>1484</td>\n",
       "      <td>Y</td>\n",
       "      <td>N</td>\n",
       "      <td>N</td>\n",
       "      <td>N</td>\n",
       "      <td>N</td>\n",
       "      <td>Y</td>\n",
       "      <td>은평구</td>\n",
       "    </tr>\n",
       "    <tr>\n",
       "      <th>321</th>\n",
       "      <td>타이거주유소</td>\n",
       "      <td>서울 은평구 수색로 188 (증산동)</td>\n",
       "      <td>SK에너지</td>\n",
       "      <td>1649</td>\n",
       "      <td>1524</td>\n",
       "      <td>Y</td>\n",
       "      <td>Y</td>\n",
       "      <td>N</td>\n",
       "      <td>N</td>\n",
       "      <td>N</td>\n",
       "      <td>N</td>\n",
       "      <td>은평구</td>\n",
       "    </tr>\n",
       "    <tr>\n",
       "      <th>322</th>\n",
       "      <td>지에스칼텍스(주)수색뉴타운주유소</td>\n",
       "      <td>서울 은평구 수색로 350 (수색동)</td>\n",
       "      <td>GS칼텍스</td>\n",
       "      <td>1659</td>\n",
       "      <td>1534</td>\n",
       "      <td>Y</td>\n",
       "      <td>Y</td>\n",
       "      <td>N</td>\n",
       "      <td>N</td>\n",
       "      <td>N</td>\n",
       "      <td>N</td>\n",
       "      <td>은평구</td>\n",
       "    </tr>\n",
       "    <tr>\n",
       "      <th>323</th>\n",
       "      <td>(주)디오티디 은평유니콘주유소</td>\n",
       "      <td>서울 은평구 통일로 1151 (진관동)</td>\n",
       "      <td>HD현대오일뱅크</td>\n",
       "      <td>1659</td>\n",
       "      <td>1489</td>\n",
       "      <td>N</td>\n",
       "      <td>Y</td>\n",
       "      <td>N</td>\n",
       "      <td>N</td>\n",
       "      <td>N</td>\n",
       "      <td>N</td>\n",
       "      <td>은평구</td>\n",
       "    </tr>\n",
       "    <tr>\n",
       "      <th>324</th>\n",
       "      <td>불광주유소</td>\n",
       "      <td>서울 은평구 연서로 314 (불광동)</td>\n",
       "      <td>HD현대오일뱅크</td>\n",
       "      <td>1667</td>\n",
       "      <td>1535</td>\n",
       "      <td>Y</td>\n",
       "      <td>Y</td>\n",
       "      <td>N</td>\n",
       "      <td>N</td>\n",
       "      <td>N</td>\n",
       "      <td>N</td>\n",
       "      <td>은평구</td>\n",
       "    </tr>\n",
       "    <tr>\n",
       "      <th>325</th>\n",
       "      <td>지에스칼텍스㈜ 서부주유소</td>\n",
       "      <td>서울 은평구 응암로 210 (응암동)</td>\n",
       "      <td>GS칼텍스</td>\n",
       "      <td>1667</td>\n",
       "      <td>1564</td>\n",
       "      <td>Y</td>\n",
       "      <td>Y</td>\n",
       "      <td>N</td>\n",
       "      <td>Y</td>\n",
       "      <td>N</td>\n",
       "      <td>N</td>\n",
       "      <td>은평구</td>\n",
       "    </tr>\n",
       "    <tr>\n",
       "      <th>326</th>\n",
       "      <td>지에스칼텍스㈜ 신사제일주유소</td>\n",
       "      <td>서울 은평구 증산로 423 (신사동)</td>\n",
       "      <td>GS칼텍스</td>\n",
       "      <td>1669</td>\n",
       "      <td>1564</td>\n",
       "      <td>Y</td>\n",
       "      <td>Y</td>\n",
       "      <td>N</td>\n",
       "      <td>N</td>\n",
       "      <td>N</td>\n",
       "      <td>Y</td>\n",
       "      <td>은평구</td>\n",
       "    </tr>\n",
       "    <tr>\n",
       "      <th>327</th>\n",
       "      <td>대성산업㈜ 대성주유소</td>\n",
       "      <td>서울 은평구 통일로 642</td>\n",
       "      <td>GS칼텍스</td>\n",
       "      <td>1675</td>\n",
       "      <td>1545</td>\n",
       "      <td>Y</td>\n",
       "      <td>Y</td>\n",
       "      <td>N</td>\n",
       "      <td>N</td>\n",
       "      <td>N</td>\n",
       "      <td>Y</td>\n",
       "      <td>은평구</td>\n",
       "    </tr>\n",
       "    <tr>\n",
       "      <th>328</th>\n",
       "      <td>은평뉴타운주유소</td>\n",
       "      <td>서울 은평구 통일로 924 (불광동)</td>\n",
       "      <td>SK에너지</td>\n",
       "      <td>1695</td>\n",
       "      <td>1558</td>\n",
       "      <td>Y</td>\n",
       "      <td>Y</td>\n",
       "      <td>N</td>\n",
       "      <td>Y</td>\n",
       "      <td>N</td>\n",
       "      <td>N</td>\n",
       "      <td>은평구</td>\n",
       "    </tr>\n",
       "    <tr>\n",
       "      <th>329</th>\n",
       "      <td>박석고개주유소</td>\n",
       "      <td>서울 은평구 통일로 945 (갈현동)</td>\n",
       "      <td>SK에너지</td>\n",
       "      <td>1695</td>\n",
       "      <td>1558</td>\n",
       "      <td>Y</td>\n",
       "      <td>Y</td>\n",
       "      <td>N</td>\n",
       "      <td>N</td>\n",
       "      <td>N</td>\n",
       "      <td>Y</td>\n",
       "      <td>은평구</td>\n",
       "    </tr>\n",
       "    <tr>\n",
       "      <th>330</th>\n",
       "      <td>(주)명연에너지 수색훼미리주유소</td>\n",
       "      <td>서울 은평구 수색로 236 (수색동)</td>\n",
       "      <td>HD현대오일뱅크</td>\n",
       "      <td>1695</td>\n",
       "      <td>1595</td>\n",
       "      <td>Y</td>\n",
       "      <td>Y</td>\n",
       "      <td>N</td>\n",
       "      <td>N</td>\n",
       "      <td>N</td>\n",
       "      <td>N</td>\n",
       "      <td>은평구</td>\n",
       "    </tr>\n",
       "    <tr>\n",
       "      <th>331</th>\n",
       "      <td>성원이앤에스(주)은평지점</td>\n",
       "      <td>서울 은평구 통일로 968 (진관동)</td>\n",
       "      <td>GS칼텍스</td>\n",
       "      <td>1715</td>\n",
       "      <td>1578</td>\n",
       "      <td>Y</td>\n",
       "      <td>Y</td>\n",
       "      <td>N</td>\n",
       "      <td>N</td>\n",
       "      <td>N</td>\n",
       "      <td>N</td>\n",
       "      <td>은평구</td>\n",
       "    </tr>\n",
       "  </tbody>\n",
       "</table>\n",
       "</div>"
      ],
      "text/plain": [
       "               station_name                address  ... open_24hours   gu\n",
       "320  (주)아이에스피에너지(서울서부고속주유소)         서울 은평구 응암로 163  ...            Y  은평구\n",
       "321                  타이거주유소   서울 은평구 수색로 188 (증산동)  ...            N  은평구\n",
       "322       지에스칼텍스(주)수색뉴타운주유소   서울 은평구 수색로 350 (수색동)  ...            N  은평구\n",
       "323        (주)디오티디 은평유니콘주유소  서울 은평구 통일로 1151 (진관동)  ...            N  은평구\n",
       "324                   불광주유소   서울 은평구 연서로 314 (불광동)  ...            N  은평구\n",
       "325           지에스칼텍스㈜ 서부주유소   서울 은평구 응암로 210 (응암동)  ...            N  은평구\n",
       "326         지에스칼텍스㈜ 신사제일주유소   서울 은평구 증산로 423 (신사동)  ...            Y  은평구\n",
       "327             대성산업㈜ 대성주유소         서울 은평구 통일로 642  ...            Y  은평구\n",
       "328                은평뉴타운주유소   서울 은평구 통일로 924 (불광동)  ...            N  은평구\n",
       "329                 박석고개주유소   서울 은평구 통일로 945 (갈현동)  ...            Y  은평구\n",
       "330       (주)명연에너지 수색훼미리주유소   서울 은평구 수색로 236 (수색동)  ...            N  은평구\n",
       "331           성원이앤에스(주)은평지점   서울 은평구 통일로 968 (진관동)  ...            N  은평구\n",
       "\n",
       "[12 rows x 12 columns]"
      ]
     },
     "execution_count": 98,
     "metadata": {},
     "output_type": "execute_result"
    }
   ],
   "source": [
    "df[df[\"gu\"]==\"은평구\"]"
   ]
  },
  {
   "cell_type": "code",
   "execution_count": 100,
   "id": "54d382fc-83b9-47bb-928a-2785d7e60fb3",
   "metadata": {},
   "outputs": [
    {
     "data": {
      "image/png": "[encoded data removed]",
      "text/plain": [
       "<Figure size 1008x576 with 1 Axes>"
      ]
     },
     "metadata": {
      "needs_background": "light"
     },
     "output_type": "display_data"
    }
   ],
   "source": [
    "plt.figure(figsize=(14, 8))\n",
    "bar_width = 0.35\n",
    "index = range(len(gu_data))\n",
    "\n",
    "bar1 = plt.bar(index, gu_data['gasoline_price', 'Y'], bar_width, label='휘발유(셀프O)', color=\"red\")\n",
    "bar2 = plt.bar([i + bar_width for i in index], gu_data['gasoline_price', 'N'], bar_width, label='휘발유(셀프X)', color=\"orange\")\n",
    "\n",
    "plt.xlabel('구')\n",
    "plt.ylabel('휘발유 가격')\n",
    "plt.title('서울시 구별 휘발유 가격')\n",
    "plt.xticks([i + bar_width / 2 for i in index], gu_data.index, rotation=90)\n",
    "plt.legend()\n",
    "\n",
    "plt.tight_layout()\n",
    "plt.show()"
   ]
  },
  {
   "cell_type": "markdown",
   "id": "be941c0c-b067-43f5-8e73-d15ba0c893ec",
   "metadata": {},
   "source": [
    "### 구별 경유 셀프 비교 막대그래프"
   ]
  },
  {
   "cell_type": "code",
   "execution_count": 101,
   "id": "25db1b4a-13f3-43b2-bd6b-acebd206124f",
   "metadata": {},
   "outputs": [
    {
     "data": {
      "image/png": "[encoded data removed]",
      "text/plain": [
       "<Figure size 1008x576 with 1 Axes>"
      ]
     },
     "metadata": {
      "needs_background": "light"
     },
     "output_type": "display_data"
    }
   ],
   "source": [
    "plt.figure(figsize=(14, 8))\n",
    "bar_width = 0.35\n",
    "index = range(len(gu_data))\n",
    "\n",
    "bar1 = plt.bar(index, gu_data['diesel_price', 'Y'], bar_width, label='경유(셀프O)', color=\"red\")\n",
    "bar2 = plt.bar([i + bar_width for i in index], gu_data['diesel_price', 'N'], bar_width, label='경유(셀프X)', color=\"orange\")\n",
    "\n",
    "plt.xlabel('구')\n",
    "plt.ylabel('경유 가격')\n",
    "plt.title('서울시 구별 경유 가격')\n",
    "plt.xticks([i + bar_width / 2 for i in index], gu_data.index, rotation=90)\n",
    "plt.legend()\n",
    "\n",
    "plt.tight_layout()\n",
    "plt.show()"
   ]
  },
  {
   "cell_type": "markdown",
   "id": "45de91ae-c2ff-4859-a031-540f21cf922d",
   "metadata": {},
   "source": [
    "### 브랜드별 휘발유 셀프 비교 막대 그래프"
   ]
  },
  {
   "cell_type": "code",
   "execution_count": 102,
   "id": "610dbb4d-f0ac-47e5-931f-f7eafc8d223e",
   "metadata": {},
   "outputs": [
    {
     "data": {
      "text/html": [
       "<div>\n",
       "<style scoped>\n",
       "    .dataframe tbody tr th:only-of-type {\n",
       "        vertical-align: middle;\n",
       "    }\n",
       "\n",
       "    .dataframe tbody tr th {\n",
       "        vertical-align: top;\n",
       "    }\n",
       "\n",
       "    .dataframe thead tr th {\n",
       "        text-align: left;\n",
       "    }\n",
       "\n",
       "    .dataframe thead tr:last-of-type th {\n",
       "        text-align: right;\n",
       "    }\n",
       "</style>\n",
       "<table border=\"1\" class=\"dataframe\">\n",
       "  <thead>\n",
       "    <tr>\n",
       "      <th></th>\n",
       "      <th colspan=\"2\" halign=\"left\">diesel_price</th>\n",
       "      <th colspan=\"2\" halign=\"left\">gasoline_price</th>\n",
       "    </tr>\n",
       "    <tr>\n",
       "      <th>self_service</th>\n",
       "      <th>N</th>\n",
       "      <th>Y</th>\n",
       "      <th>N</th>\n",
       "      <th>Y</th>\n",
       "    </tr>\n",
       "    <tr>\n",
       "      <th>brand</th>\n",
       "      <th></th>\n",
       "      <th></th>\n",
       "      <th></th>\n",
       "      <th></th>\n",
       "    </tr>\n",
       "  </thead>\n",
       "  <tbody>\n",
       "    <tr>\n",
       "      <th>GS칼텍스</th>\n",
       "      <td>1635.0</td>\n",
       "      <td>1563.5</td>\n",
       "      <td>1758.0</td>\n",
       "      <td>1686.0</td>\n",
       "    </tr>\n",
       "    <tr>\n",
       "      <th>HD현대오일뱅크</th>\n",
       "      <td>1608.0</td>\n",
       "      <td>1527.0</td>\n",
       "      <td>1720.0</td>\n",
       "      <td>1668.5</td>\n",
       "    </tr>\n",
       "    <tr>\n",
       "      <th>S-OIL</th>\n",
       "      <td>1672.0</td>\n",
       "      <td>1546.5</td>\n",
       "      <td>1801.5</td>\n",
       "      <td>1693.0</td>\n",
       "    </tr>\n",
       "    <tr>\n",
       "      <th>SK에너지</th>\n",
       "      <td>1680.5</td>\n",
       "      <td>1577.0</td>\n",
       "      <td>1788.0</td>\n",
       "      <td>1709.0</td>\n",
       "    </tr>\n",
       "    <tr>\n",
       "      <th>알뜰</th>\n",
       "      <td>1608.0</td>\n",
       "      <td>1518.5</td>\n",
       "      <td>1736.0</td>\n",
       "      <td>1668.5</td>\n",
       "    </tr>\n",
       "  </tbody>\n",
       "</table>\n",
       "</div>"
      ],
      "text/plain": [
       "             diesel_price         gasoline_price        \n",
       "self_service            N       Y              N       Y\n",
       "brand                                                   \n",
       "GS칼텍스              1635.0  1563.5         1758.0  1686.0\n",
       "HD현대오일뱅크           1608.0  1527.0         1720.0  1668.5\n",
       "S-OIL              1672.0  1546.5         1801.5  1693.0\n",
       "SK에너지              1680.5  1577.0         1788.0  1709.0\n",
       "알뜰                 1608.0  1518.5         1736.0  1668.5"
      ]
     },
     "execution_count": 102,
     "metadata": {},
     "output_type": "execute_result"
    }
   ],
   "source": [
    "import numpy as np\n",
    "\n",
    "brand_data = pd.pivot_table(\n",
    "    data=df, \n",
    "    index=\"brand\", \n",
    "    columns=\"self_service\",\n",
    "    values=[\"gasoline_price\", \"diesel_price\"], \n",
    "    aggfunc=np.median\n",
    ")\n",
    "\n",
    "brand_data.head()"
   ]
  },
  {
   "cell_type": "code",
   "execution_count": 103,
   "id": "efcbe120-a014-4a89-ac73-f36c4cd1edc2",
   "metadata": {},
   "outputs": [
    {
     "data": {
      "image/png": "[encoded data removed]",
      "text/plain": [
       "<Figure size 1008x576 with 1 Axes>"
      ]
     },
     "metadata": {
      "needs_background": "light"
     },
     "output_type": "display_data"
    }
   ],
   "source": [
    "plt.figure(figsize=(14, 8))\n",
    "bar_width = 0.35\n",
    "index = range(len(brand_data))\n",
    "\n",
    "bar1 = plt.bar(index, brand_data['gasoline_price', 'Y'], bar_width, label='휘발유(셀프O)', color=\"red\")\n",
    "bar2 = plt.bar([i + bar_width for i in index], brand_data['gasoline_price', 'N'], bar_width, label='휘발유(셀프X)', color=\"orange\")\n",
    "\n",
    "plt.xlabel('브랜드')\n",
    "plt.ylabel('휘발유 가격')\n",
    "plt.title('서울시 브랜드별 휘발유 가격')\n",
    "plt.xticks([i + bar_width / 2 for i in index], brand_data.index, rotation=90)\n",
    "plt.legend()\n",
    "\n",
    "plt.tight_layout()\n",
    "plt.show()"
   ]
  },
  {
   "cell_type": "markdown",
   "id": "bff46da2-2652-4d04-9c31-f4d2ea083da2",
   "metadata": {},
   "source": [
    "### 브랜드별 경유 셀프 비교 막대 그래프"
   ]
  },
  {
   "cell_type": "code",
   "execution_count": 95,
   "id": "34e303c1-9d26-47fc-8486-bd38614f6090",
   "metadata": {},
   "outputs": [
    {
     "data": {
      "image/png": "[encoded data removed]",
      "text/plain": [
       "<Figure size 1008x576 with 1 Axes>"
      ]
     },
     "metadata": {
      "needs_background": "light"
     },
     "output_type": "display_data"
    }
   ],
   "source": [
    "plt.figure(figsize=(14, 8))\n",
    "bar_width = 0.35\n",
    "index = range(len(brand_data))\n",
    "\n",
    "bar1 = plt.bar(index, brand_data['diesel_price', 'Y'], bar_width, label='경유(셀프O)', color=\"red\")\n",
    "bar2 = plt.bar([i + bar_width for i in index], brand_data['diesel_price', 'N'], bar_width, label='경유(셀프X)', color=\"orange\")\n",
    "\n",
    "plt.xlabel('브랜드')\n",
    "plt.ylabel('경유 가격')\n",
    "plt.title('서울시 브랜드별 경유 가격')\n",
    "plt.xticks([i + bar_width / 2 for i in index], brand_data.index, rotation=90)\n",
    "plt.legend()\n",
    "\n",
    "plt.tight_layout()\n",
    "plt.show()"
   ]
  },
  {
   "cell_type": "markdown",
   "id": "3bb1568c-bcec-49e9-81f2-444e15182844",
   "metadata": {},
   "source": [
    "<a id=\"구별-매장-수-막대-그래프\"></a>"
   ]
  },
  {
   "cell_type": "markdown",
   "id": "246b4817-0767-4920-82d5-3d5a74d6d974",
   "metadata": {},
   "source": [
    "<a id=\"구별-매장-분포도\"></a>"
   ]
  },
  {
   "cell_type": "markdown",
   "id": "2688b516-4cea-4968-9383-bd964f65e7a5",
   "metadata": {},
   "source": [
    "<a id=\"구별-매장-히트맵\"></a>"
   ]
  },
  {
   "cell_type": "markdown",
   "id": "c53d514e-83e3-4832-bcd8-c5c06833b4da",
   "metadata": {},
   "source": [
    "### 분석결과"
   ]
  },
  {
   "cell_type": "markdown",
   "id": "bd7e8bfe-7392-4b25-a8e2-e8a6eb71b6f2",
   "metadata": {},
   "source": [
    "(1) <br>\n",
    "셀프 주유 여부에 따른 휘발유/경유 가격을 보이는 boxplot 에서 셀프 주유소의 휘발유/경유 가격이 비셀프 주유소에 비해 전반적으로 더 낮고 분포가 좁음을 확인했습니다."
   ]
  },
  {
   "attachments": {
    "57c7152b-8c90-4352-bcf8-53ab44131083.png": {
     "image/png": "[encoded data removed]"
    },
    "81f58971-67fb-4f4b-8915-d5724e9bc123.png": {
     "image/png": "[encoded data removed]"
    }
   },
   "cell_type": "markdown",
   "id": "0356e00a-4920-4cab-8098-1a1224d25950",
   "metadata": {},
   "source": [
    "![image.png](attachment:81f58971-67fb-4f4b-8915-d5724e9bc123.png)\n",
    "\n",
    "![image.png](attachment:57c7152b-8c90-4352-bcf8-53ab44131083.png)"
   ]
  },
  {
   "cell_type": "markdown",
   "id": "039e17e9-d822-42be-bc6a-61aae668775b",
   "metadata": {},
   "source": [
    "(2) <br>\n",
    "브랜드별 셀프 주유에 따른 휘발유/경유 가격 막대 그래프에서도 셀프 주유소의 휘발유/경유 가격의 중앙값이 비셀프 주유소의 가격 중앙값보다 더 낮음을 확인했습니다.\n",
    "\n",
    "\n"
   ]
  },
  {
   "attachments": {
    "e7b1fce5-bc0f-47f6-b0c3-2db3eaa8f744.png": {
     "image/png": "[encoded data removed]"
    }
   },
   "cell_type": "markdown",
   "id": "0a8f6a5c-5b0e-4ccc-8096-acae9ec36602",
   "metadata": {},
   "source": [
    "![image.png](attachment:e7b1fce5-bc0f-47f6-b0c3-2db3eaa8f744.png)"
   ]
  },
  {
   "attachments": {
    "a5b6cf09-8a7f-40b8-9f36-d66224b7f7cb.png": {
     "image/png": "[encoded data removed]"
    }
   },
   "cell_type": "markdown",
   "id": "302630b7-a7ea-4287-81d6-06057f61f4dc",
   "metadata": {},
   "source": [
    "![image.png](attachment:a5b6cf09-8a7f-40b8-9f36-d66224b7f7cb.png)"
   ]
  },
  {
   "cell_type": "markdown",
   "id": "86410e06-19ac-42bc-9740-a0a05f3c679d",
   "metadata": {},
   "source": [
    "(1), (2)에 따라 <br>\n",
    "2024년 8월 기준 휘발유와 경유 가격은 셀프 주유소에서 저렴합니다."
   ]
  }
 ],
 "metadata": {
  "kernelspec": {
   "display_name": "Python 3",
   "language": "python",
   "name": "python3"
  },
  "language_info": {
   "codemirror_mode": {
    "name": "ipython",
    "version": 3
   },
   "file_extension": ".py",
   "mimetype": "text/x-python",
   "name": "python",
   "nbconvert_exporter": "python",
   "pygments_lexer": "ipython3",
   "version": "3.6.13"
  }
 },
 "nbformat": 4,
 "nbformat_minor": 5
}
