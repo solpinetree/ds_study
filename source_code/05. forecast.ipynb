{
 "cells": [
  {
   "cell_type": "markdown",
   "id": "263ec507-7d17-4476-9135-ed6a4faaa6d7",
   "metadata": {},
   "source": [
    "# 05. forecast(시계열 분석)"
   ]
  },
  {
   "cell_type": "markdown",
   "id": "af42a463-1fe0-47fd-ad78-56214eefb2f0",
   "metadata": {},
   "source": [
    "## 1. 배경 및 설치\n",
    "- mac(intel)\n",
    "    -  pip install fbprophet"
   ]
  },
  {
   "cell_type": "markdown",
   "id": "1e044bc5-6851-4144-af1e-9b6b33038fcf",
   "metadata": {},
   "source": [
    "---"
   ]
  },
  {
   "cell_type": "markdown",
   "id": "3e0b2971-a5f2-4f97-a3bc-67e2c5f6b742",
   "metadata": {},
   "source": [
    "## 함수(def)의 기초\n",
    "- global 변수를 def 내에서 사용하고 싶다면 global로 선언"
   ]
  },
  {
   "cell_type": "markdown",
   "id": "31cd9e0f-fde8-41f6-8edf-cb0233c3b8b7",
   "metadata": {},
   "source": [
    "$$ y = asin(2\\pi ft + t_0) +b $$"
   ]
  },
  {
   "cell_type": "code",
   "execution_count": 5,
   "id": "11403d66-f94c-4b31-91ca-fab3dd6255cd",
   "metadata": {},
   "outputs": [],
   "source": [
    "import matplotlib.pyplot as plt\n",
    "import numpy as np\n",
    "%matplotlib inline"
   ]
  },
  {
   "cell_type": "code",
   "execution_count": 7,
   "id": "545ca6f6-cd22-49a8-9c0e-e58872fa7f4c",
   "metadata": {},
   "outputs": [
    {
     "ename": "NameError",
     "evalue": "name 'w' is not defined",
     "output_type": "error",
     "traceback": [
      "\u001b[0;31m---------------------------------------------------------------------------\u001b[0m",
      "\u001b[0;31mNameError\u001b[0m                                 Traceback (most recent call last)",
      "\u001b[0;32m<ipython-input-7-95e46c2a7280>\u001b[0m in \u001b[0;36m<module>\u001b[0;34m\u001b[0m\n\u001b[1;32m     22\u001b[0m     \u001b[0mplt\u001b[0m\u001b[0;34m.\u001b[0m\u001b[0mshow\u001b[0m\u001b[0;34m(\u001b[0m\u001b[0;34m)\u001b[0m\u001b[0;34m\u001b[0m\u001b[0;34m\u001b[0m\u001b[0m\n\u001b[1;32m     23\u001b[0m \u001b[0;34m\u001b[0m\u001b[0m\n\u001b[0;32m---> 24\u001b[0;31m \u001b[0mplotSineWave\u001b[0m\u001b[0;34m(\u001b[0m\u001b[0;34m)\u001b[0m\u001b[0;34m\u001b[0m\u001b[0;34m\u001b[0m\u001b[0m\n\u001b[0m",
      "\u001b[0;32m<ipython-input-7-95e46c2a7280>\u001b[0m in \u001b[0;36mplotSineWave\u001b[0;34m(**kwargs)\u001b[0m\n\u001b[1;32m     13\u001b[0m \u001b[0;34m\u001b[0m\u001b[0m\n\u001b[1;32m     14\u001b[0m     \u001b[0mtime\u001b[0m \u001b[0;34m=\u001b[0m \u001b[0mnp\u001b[0m\u001b[0;34m.\u001b[0m\u001b[0marange\u001b[0m\u001b[0;34m(\u001b[0m\u001b[0mstartTime\u001b[0m\u001b[0;34m,\u001b[0m \u001b[0mendTime\u001b[0m\u001b[0;34m,\u001b[0m \u001b[0msampleTime\u001b[0m\u001b[0;34m)\u001b[0m\u001b[0;34m\u001b[0m\u001b[0;34m\u001b[0m\u001b[0m\n\u001b[0;32m---> 15\u001b[0;31m     \u001b[0mresult\u001b[0m \u001b[0;34m=\u001b[0m \u001b[0mamp\u001b[0m \u001b[0;34m*\u001b[0m \u001b[0mnp\u001b[0m\u001b[0;34m.\u001b[0m\u001b[0msin\u001b[0m\u001b[0;34m(\u001b[0m\u001b[0mw\u001b[0m\u001b[0;34m*\u001b[0m\u001b[0mnp\u001b[0m\u001b[0;34m.\u001b[0m\u001b[0mpi\u001b[0m \u001b[0;34m*\u001b[0m \u001b[0mfreq\u001b[0m \u001b[0;34m*\u001b[0m \u001b[0mtime\u001b[0m \u001b[0;34m+\u001b[0m \u001b[0mstartTime\u001b[0m\u001b[0;34m)\u001b[0m \u001b[0;34m+\u001b[0m \u001b[0mbias\u001b[0m\u001b[0;34m\u001b[0m\u001b[0;34m\u001b[0m\u001b[0m\n\u001b[0m\u001b[1;32m     16\u001b[0m \u001b[0;34m\u001b[0m\u001b[0m\n\u001b[1;32m     17\u001b[0m     \u001b[0mplt\u001b[0m\u001b[0;34m.\u001b[0m\u001b[0mfigure\u001b[0m\u001b[0;34m(\u001b[0m\u001b[0mfigsize\u001b[0m\u001b[0;34m=\u001b[0m\u001b[0;34m(\u001b[0m\u001b[0;36m12\u001b[0m\u001b[0;34m,\u001b[0m \u001b[0;36m6\u001b[0m\u001b[0;34m)\u001b[0m\u001b[0;34m)\u001b[0m\u001b[0;34m\u001b[0m\u001b[0;34m\u001b[0m\u001b[0m\n",
      "\u001b[0;31mNameError\u001b[0m: name 'w' is not defined"
     ]
    }
   ],
   "source": [
    "def plotSineWave(**kwargs):\n",
    "    \"\"\"\n",
    "    plot sine wave\n",
    "    y = a sin(2 pi f t + t_0) + b\n",
    "    \"\"\"\n",
    "    endTime = kwargs.get(\"endTime\", 1)\n",
    "    sampleTime = kwargs.get(\"sampleTime\", 0.01)\n",
    "    amp = kwargs.get(\"amp\", 1)\n",
    "    freq = kwargs.get(\"freq\", 1)\n",
    "    startTime = kwargs.get(\"startTime\", 0)\n",
    "    bias = kwargs.get(\"bias\", 0)\n",
    "    figsize = kwargs.get(\"figsize\", (12, 6))\n",
    "    \n",
    "    time = np.arange(startTime, endTime, sampleTime)\n",
    "    result = amp * np.sin(*np.pi * freq * time + startTime) + bias\n",
    "    \n",
    "    plt.figure(figsize=(12, 6))\n",
    "    plt.plot(time, result)\n",
    "    plt.grid(True)\n",
    "    plt.xlabel(\"time\")\n",
    "    plt.ylabel(\"sin\")\n",
    "    plt.show()\n",
    "    \n",
    "plotSineWave()"
   ]
  }
 ],
 "metadata": {
  "kernelspec": {
   "display_name": "Python 3",
   "language": "python",
   "name": "python3"
  },
  "language_info": {
   "codemirror_mode": {
    "name": "ipython",
    "version": 3
   },
   "file_extension": ".py",
   "mimetype": "text/x-python",
   "name": "python",
   "nbconvert_exporter": "python",
   "pygments_lexer": "ipython3",
   "version": "3.6.13"
  }
 },
 "nbformat": 4,
 "nbformat_minor": 5
}
