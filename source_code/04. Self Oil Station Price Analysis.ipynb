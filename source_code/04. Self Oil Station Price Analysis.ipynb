{
 "cells": [
  {
   "cell_type": "markdown",
   "id": "86aae330-e158-4bf3-ad75-e8a88e05f1b1",
   "metadata": {},
   "source": [
    "# 04. Self Oil Station Price Analysis"
   ]
  },
  {
   "cell_type": "markdown",
   "id": "1dd87edb-9471-4449-9383-4986085b4375",
   "metadata": {},
   "source": [
    "[1. 셀레니움 설치](#install-selenium) <br>\n",
    "\n",
    "[Github에서는 toc가 작동안함. nbviewer로 보기👀](https://nbviewer.org/github/solpinetree/ds_study/blob/main/source_code/04.%20Self%20Oil%20Station%20Price%20Analysis.ipynb)"
   ]
  },
  {
   "cell_type": "markdown",
   "id": "34c70764-bc53-428f-8bd1-0424c4fa1ac0",
   "metadata": {},
   "source": [
    "<a id=\"install-selenium\"></a>\n",
    "## 1. 셀레니움 설치\n",
    "- 윈도우, mac(intel)\n",
    "    - ```conda install conda-forge::selenium```\n",
    "- mac(m-)\n",
    "    - ```pip install selenium```"
   ]
  },
  {
   "cell_type": "code",
   "execution_count": 9,
   "id": "091f4453-19d9-40e2-a084-5551adf313e1",
   "metadata": {},
   "outputs": [],
   "source": [
    "from selenium import webdriver\n",
    "import selenium"
   ]
  },
  {
   "cell_type": "code",
   "execution_count": 12,
   "id": "a3ccb119-ca47-4ef1-9aee-c8c208fd2757",
   "metadata": {},
   "outputs": [],
   "source": [
    "driver = webdriver.Chrome()\n",
    "driver.get(\"https://www.naver.com\")"
   ]
  },
  {
   "cell_type": "code",
   "execution_count": 13,
   "id": "ff921419-b4fb-493b-abdd-666f729b6531",
   "metadata": {},
   "outputs": [],
   "source": [
    "driver.quit()"
   ]
  }
 ],
 "metadata": {
  "kernelspec": {
   "display_name": "Python 3 (ipykernel)",
   "language": "python",
   "name": "python3"
  },
  "language_info": {
   "codemirror_mode": {
    "name": "ipython",
    "version": 3
   },
   "file_extension": ".py",
   "mimetype": "text/x-python",
   "name": "python",
   "nbconvert_exporter": "python",
   "pygments_lexer": "ipython3",
   "version": "3.8.19"
  }
 },
 "nbformat": 4,
 "nbformat_minor": 5
}
