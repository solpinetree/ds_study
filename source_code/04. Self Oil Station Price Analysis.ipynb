{
 "cells": [
  {
   "cell_type": "markdown",
   "id": "86aae330-e158-4bf3-ad75-e8a88e05f1b1",
   "metadata": {},
   "source": [
    "# 04. Self Oil Station Price Analysis"
   ]
  },
  {
   "cell_type": "markdown",
   "id": "1dd87edb-9471-4449-9383-4986085b4375",
   "metadata": {},
   "source": [
    "[1. 셀레니움 설치](#install-selenium) <br>\n",
    "[2. 셀프 주유소가 정말 저렴하나요? - 데이터 확보](#데이터-확보) <br>\n",
    "&emsp;    - [페이지 접근](#페이지-접근)<br>\n",
    "&emsp;    - [팝업창 닫기](#팝업창-닫기)<br>\n",
    "&emsp;    - [지역: 시/도](#지역-시도)<br>\n",
    "&emsp;    - [지역: 구](#지역-구)<br>\n",
    "&emsp;    - [데이터 엑셀 저장](#엑셀-저장1)<br>\n",
    "&emsp;    - [서울시 모든 구의 유가 정보 엑셀 저장](#엑셀-저장2)<br>\n",
    "\n",
    "[Github에서는 toc가 작동안함. nbviewer로 보기👀](https://nbviewer.org/github/solpinetree/ds_study/blob/main/source_code/04.%20Self%20Oil%20Station%20Price%20Analysis.ipynb)"
   ]
  },
  {
   "cell_type": "markdown",
   "id": "34c70764-bc53-428f-8bd1-0424c4fa1ac0",
   "metadata": {},
   "source": [
    "<a id=\"install-selenium\"></a>\n",
    "## 1. 셀레니움 설치\n",
    "- 윈도우, mac(intel)\n",
    "    - ```conda install conda-forge::selenium```\n",
    "- mac(m-)\n",
    "    - ```pip install selenium```"
   ]
  },
  {
   "cell_type": "code",
   "execution_count": 9,
   "id": "091f4453-19d9-40e2-a084-5551adf313e1",
   "metadata": {},
   "outputs": [],
   "source": [
    "from selenium import webdriver\n",
    "import selenium"
   ]
  },
  {
   "cell_type": "code",
   "execution_count": 12,
   "id": "a3ccb119-ca47-4ef1-9aee-c8c208fd2757",
   "metadata": {},
   "outputs": [],
   "source": [
    "driver = webdriver.Chrome()\n",
    "driver.get(\"https://www.naver.com\")"
   ]
  },
  {
   "cell_type": "code",
   "execution_count": 13,
   "id": "ff921419-b4fb-493b-abdd-666f729b6531",
   "metadata": {},
   "outputs": [],
   "source": [
    "driver.quit()"
   ]
  },
  {
   "cell_type": "markdown",
   "id": "f7261995-30ae-456b-b629-50e501994077",
   "metadata": {},
   "source": [
    "---"
   ]
  },
  {
   "cell_type": "markdown",
   "id": "9df89fb5-a12d-40f5-8636-36f9bae297e9",
   "metadata": {},
   "source": [
    "<a id=\"데이터-확보\"></a>\n",
    "## 2. 셀프 주유소가 정말 저렴하나요? - 데이터 확보\n",
    "- https://www.opinet.co.kr/searRgSelect.do\n",
    "- 목표 데이터\n",
    "    - 브랜드\n",
    "    - 가격\n",
    "    - 셀프 주유 여부\n",
    "    - 위치"
   ]
  },
  {
   "cell_type": "code",
   "execution_count": 24,
   "id": "b0d1f78d-b042-44b5-ad2c-60cec72866cc",
   "metadata": {},
   "outputs": [],
   "source": [
    "from selenium import webdriver"
   ]
  },
  {
   "cell_type": "code",
   "execution_count": 35,
   "id": "7afc7df1-87f4-4e3d-94b7-9153fe527042",
   "metadata": {},
   "outputs": [],
   "source": [
    "from selenium.webdriver.common.by import By"
   ]
  },
  {
   "cell_type": "markdown",
   "id": "657c89dc-e789-40ee-95eb-6723054408bf",
   "metadata": {},
   "source": [
    "<a id=\"페이지-접근\"></a>\n",
    "### 페이지 접근"
   ]
  },
  {
   "cell_type": "code",
   "execution_count": 32,
   "id": "b9b8a536-b4d4-4d45-90a4-7a9b634b7c4f",
   "metadata": {},
   "outputs": [],
   "source": [
    "url = \"https://www.opinet.co.kr/searRgSelect.do\"\n",
    "driver = webdriver.Chrome()\n",
    "driver.get(url)"
   ]
  },
  {
   "cell_type": "markdown",
   "id": "21108ab6-9b22-4c09-8429-a817330e38c3",
   "metadata": {},
   "source": [
    "<a id=\"팝업창-닫기\"></a>\n",
    "### 팝업창 닫기"
   ]
  },
  {
   "cell_type": "markdown",
   "id": "f43be987-e082-4f72-b35e-64facfc2717a",
   "metadata": {},
   "source": [
    "#### 현재 떠있는 창 확인\n",
    "- `driver.window_handles` 리스트의 첫번째 값이 메인 윈도우 창"
   ]
  },
  {
   "cell_type": "code",
   "execution_count": 26,
   "id": "f122b5d4-5132-4d7c-b103-b238b4b03c86",
   "metadata": {},
   "outputs": [
    {
     "data": {
      "text/plain": [
       "['77DAD6F8DE511189DE98D45E7A89E069']"
      ]
     },
     "execution_count": 26,
     "metadata": {},
     "output_type": "execute_result"
    }
   ],
   "source": [
    "driver.window_handles"
   ]
  },
  {
   "cell_type": "code",
   "execution_count": 33,
   "id": "73f67fc5-99f8-4dc0-9b26-56e8c244fa3b",
   "metadata": {},
   "outputs": [],
   "source": [
    "def get_main():\n",
    "    pages = driver.window_handles\n",
    "\n",
    "    for i in pages:\n",
    "        if i != pages[0]:\n",
    "            driver.switch_to.window(i)\n",
    "            driver.close()\n",
    "    \n",
    "    driver.switch_to.window(pages[0])\n",
    "\n",
    "get_main()"
   ]
  },
  {
   "cell_type": "markdown",
   "id": "b2498980-fe2d-4310-a814-da0c2f598b4c",
   "metadata": {},
   "source": [
    "<a id=\"지역-시도\"></a>\n",
    "### 지역: 시/도"
   ]
  },
  {
   "cell_type": "code",
   "execution_count": 38,
   "id": "62591528-f93b-4e26-87f8-0d6338f574f8",
   "metadata": {},
   "outputs": [
    {
     "data": {
      "text/plain": [
       "'            시/도\\n            \\n             \\n             \\n              서울\\n             \\n            \\n             \\n             \\n              부산\\n             \\n            \\n             \\n             \\n              대구\\n             \\n            \\n             \\n             \\n              인천\\n             \\n            \\n             \\n             \\n              광주\\n             \\n            \\n             \\n             \\n              대전\\n             \\n            \\n             \\n             \\n              울산\\n             \\n            \\n             \\n             \\n              세종\\n             \\n            \\n             \\n              경기\\n             \\n             \\n            \\n             \\n             \\n              강원\\n             \\n            \\n             \\n             \\n              충북\\n             \\n            \\n             \\n             \\n              충남\\n             \\n            \\n             \\n             \\n              전북\\n             \\n            \\n             \\n             \\n              전남\\n             \\n            \\n             \\n             \\n              경북\\n             \\n            \\n             \\n             \\n              경남\\n             \\n            \\n             \\n             \\n              제주\\n             \\n            \\n           '"
      ]
     },
     "execution_count": 38,
     "metadata": {},
     "output_type": "execute_result"
    }
   ],
   "source": [
    "sido_list_raw = driver.find_element(By.ID, 'SIDO_NM0')\n",
    "sido_list_raw.text"
   ]
  },
  {
   "cell_type": "code",
   "execution_count": 46,
   "id": "276553b5-6e04-41bc-b06e-653d5fd4383b",
   "metadata": {},
   "outputs": [
    {
     "data": {
      "text/plain": [
       "(18, '시/도', '서울특별시')"
      ]
     },
     "execution_count": 46,
     "metadata": {},
     "output_type": "execute_result"
    }
   ],
   "source": [
    "sido_list = sido_list_raw.find_elements(By.TAG_NAME, 'option')\n",
    "len(sido_list), sido_list[0].text, sido_list[1].get_attribute(\"value\")"
   ]
  },
  {
   "cell_type": "code",
   "execution_count": 47,
   "id": "35ef19db-adf2-4cb7-b87f-0bb4b15148c2",
   "metadata": {},
   "outputs": [
    {
     "data": {
      "text/plain": [
       "['서울특별시',\n",
       " '부산광역시',\n",
       " '대구광역시',\n",
       " '인천광역시',\n",
       " '광주광역시',\n",
       " '대전광역시',\n",
       " '울산광역시',\n",
       " '세종특별자치시',\n",
       " '경기도',\n",
       " '강원특별자치도',\n",
       " '충청북도',\n",
       " '충청남도',\n",
       " '전북특별자치도',\n",
       " '전라남도',\n",
       " '경상북도',\n",
       " '경상남도',\n",
       " '제주특별자치도']"
      ]
     },
     "execution_count": 47,
     "metadata": {},
     "output_type": "execute_result"
    }
   ],
   "source": [
    "sido_names = []\n",
    "\n",
    "for option in sido_list:\n",
    "    if option.text != '시/도':\n",
    "        sido_names.append(option.get_attribute(\"value\"))\n",
    "\n",
    "sido_names"
   ]
  },
  {
   "cell_type": "code",
   "execution_count": 48,
   "id": "eddf2812-89c4-4c6e-9a0f-d46b96c1c62b",
   "metadata": {},
   "outputs": [],
   "source": [
    "sido_list_raw.send_keys(sido_names[0])"
   ]
  },
  {
   "cell_type": "markdown",
   "id": "8839f48e-ec0e-4422-9e3f-c8f34e157db6",
   "metadata": {},
   "source": [
    "<a id=\"지역-구\"></a>\n",
    "### 지역: 구"
   ]
  },
  {
   "cell_type": "code",
   "execution_count": 52,
   "id": "3682462a-116e-491d-a068-be7f78f7b52e",
   "metadata": {},
   "outputs": [
    {
     "data": {
      "text/plain": [
       "'시/군/구\\n강남구\\n강동구\\n강북구\\n강서구\\n관악구\\n광진구\\n구로구\\n금천구\\n노원구\\n도봉구\\n동대문구\\n동작구\\n마포구\\n서대문구\\n서초구\\n성동구\\n성북구\\n송파구\\n양천구\\n영등포구\\n용산구\\n은평구\\n종로구\\n중구\\n중랑구'"
      ]
     },
     "execution_count": 52,
     "metadata": {},
     "output_type": "execute_result"
    }
   ],
   "source": [
    "gu_list_raw = driver.find_element(By.ID, 'SIGUNGU_NM0')\n",
    "gu_list_raw.text"
   ]
  },
  {
   "cell_type": "code",
   "execution_count": 55,
   "id": "85a48db6-7838-44c6-a26b-bca763a7d403",
   "metadata": {},
   "outputs": [
    {
     "data": {
      "text/plain": [
       "('시/군/구', '강남구')"
      ]
     },
     "execution_count": 55,
     "metadata": {},
     "output_type": "execute_result"
    }
   ],
   "source": [
    "gu_list = gu_list_raw.find_elements(By.TAG_NAME, 'option')\n",
    "gu_list[0].text, gu_list[1].text"
   ]
  },
  {
   "cell_type": "code",
   "execution_count": 56,
   "id": "399edaa3-d7a7-4305-9a2f-d0392a0b4c98",
   "metadata": {},
   "outputs": [
    {
     "data": {
      "text/plain": [
       "['강남구',\n",
       " '강동구',\n",
       " '강북구',\n",
       " '강서구',\n",
       " '관악구',\n",
       " '광진구',\n",
       " '구로구',\n",
       " '금천구',\n",
       " '노원구',\n",
       " '도봉구',\n",
       " '동대문구',\n",
       " '동작구',\n",
       " '마포구',\n",
       " '서대문구',\n",
       " '서초구',\n",
       " '성동구',\n",
       " '성북구',\n",
       " '송파구',\n",
       " '양천구',\n",
       " '영등포구',\n",
       " '용산구',\n",
       " '은평구',\n",
       " '종로구',\n",
       " '중구',\n",
       " '중랑구']"
      ]
     },
     "execution_count": 56,
     "metadata": {},
     "output_type": "execute_result"
    }
   ],
   "source": [
    "gu_names = []\n",
    "\n",
    "for option in gu_list:\n",
    "    if option.text != '시/군/구':\n",
    "        gu_names.append(option.get_attribute('value'))\n",
    "\n",
    "gu_names"
   ]
  },
  {
   "cell_type": "code",
   "execution_count": 57,
   "id": "13a43e03-8584-4034-93aa-91932dc0a257",
   "metadata": {},
   "outputs": [],
   "source": [
    "gu_list_raw.send_keys(gu_names[4])"
   ]
  },
  {
   "cell_type": "markdown",
   "id": "67a10687-416a-4547-b46c-f24ac7d2d746",
   "metadata": {},
   "source": [
    "<a id=\"엑셀-저장1\"></a>\n",
    "### 데이터 엑셀 저장"
   ]
  },
  {
   "cell_type": "code",
   "execution_count": 58,
   "id": "dcf01d0c-97c1-4d3b-b9f5-f5c9c51b4933",
   "metadata": {},
   "outputs": [],
   "source": [
    "excel_btn = driver.find_element(By.CSS_SELECTOR, '#templ_list0 > div:nth-child(7) > div > a')\n",
    "excel_btn.click()"
   ]
  },
  {
   "cell_type": "markdown",
   "id": "590b150e-d933-40ca-8206-67212d7a3ac7",
   "metadata": {},
   "source": [
    "<a id=\"엑셀-저장2\"></a>\n",
    "### 서울시 모든 구의 유가 정보 엑셀 저장"
   ]
  },
  {
   "cell_type": "code",
   "execution_count": 59,
   "id": "0df1c752-b18b-4187-a63e-5fe99408b8fc",
   "metadata": {},
   "outputs": [
    {
     "name": "stderr",
     "output_type": "stream",
     "text": [
      "/var/folders/fs/9jclkm_s0_7cvyj9prcm0z6r0000gn/T/ipykernel_1349/1265379090.py:4: TqdmDeprecationWarning: This function will be removed in tqdm==5.0.0\n",
      "Please use `tqdm.notebook.tqdm` instead of `tqdm.tqdm_notebook`\n",
      "  for gu in tqdm_notebook(gu_names, total = len(gu_names)):\n"
     ]
    },
    {
     "data": {
      "application/vnd.jupyter.widget-view+json": {
       "model_id": "5785dd4d2aa44eb1af6a73368b28ce71",
       "version_major": 2,
       "version_minor": 0
      },
      "text/plain": [
       "  0%|          | 0/25 [00:00<?, ?it/s]"
      ]
     },
     "metadata": {},
     "output_type": "display_data"
    }
   ],
   "source": [
    "import time\n",
    "from tqdm import tqdm_notebook\n",
    "\n",
    "for gu in tqdm_notebook(gu_names, total = len(gu_names)):\n",
    "    element = driver.find_element(By.ID, 'SIGUNGU_NM0')\n",
    "    element.send_keys(gu)\n",
    "    time.sleep(3)\n",
    "\n",
    "    element_get_excel = driver.find_element(By.CSS_SELECTOR, '#templ_list0 > div:nth-child(7) > div > a')\n",
    "    element_get_excel.click()\n",
    "    time.sleep(3)\n"
   ]
  },
  {
   "cell_type": "code",
   "execution_count": 60,
   "id": "fb95e8f2-2820-42b3-83e5-a87acf7aab26",
   "metadata": {},
   "outputs": [],
   "source": [
    "driver.close()"
   ]
  }
 ],
 "metadata": {
  "kernelspec": {
   "display_name": "Python 3 (ipykernel)",
   "language": "python",
   "name": "python3"
  },
  "language_info": {
   "codemirror_mode": {
    "name": "ipython",
    "version": 3
   },
   "file_extension": ".py",
   "mimetype": "text/x-python",
   "name": "python",
   "nbconvert_exporter": "python",
   "pygments_lexer": "ipython3",
   "version": "3.8.19"
  }
 },
 "nbformat": 4,
 "nbformat_minor": 5
}
