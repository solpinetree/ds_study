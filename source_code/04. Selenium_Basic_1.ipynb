{
 "cells": [
  {
   "cell_type": "markdown",
   "id": "4787fffb-5794-4dbb-b2d1-79d12e2b0178",
   "metadata": {},
   "source": [
    "# Selenium Basic\n",
    "\n",
    "https://www.selenium.dev/documentation/"
   ]
  },
  {
   "cell_type": "markdown",
   "id": "80b9c97f-0132-439c-afc9-883058c53f5e",
   "metadata": {},
   "source": [
    "[1. selenium webdriver 사용하기](#1) <br>\n",
    "&emsp;    - [화면 최대 크기 설정](#화면-최대-크기-설정)<br>\n",
    "&emsp;    - [화면 최소 크기 설정](#화면-최소-크기-설정)<br>\n",
    "&emsp;    - [화면 크기 설정](#화면-크기-설정)<br>\n",
    "&emsp;    - [새로고침](#새로고침)<br>\n",
    "&emsp;    - [뒤로가기](#뒤로가기)<br>\n",
    "&emsp;    - [앞으로 가기](#앞으로-가기)<br>\n",
    "&emsp;    - [클릭](#클릭)<br>\n",
    "&emsp;    - [새로운 탭 생성](#새로운-탭-생성)<br>\n",
    "&emsp;    - [탭 이동](#탭-이동)<br>\n",
    "&emsp;    - [탭 개수](#탭-개수)<br>\n",
    "&emsp;    - [탭 닫기](#탭-닫기)<br>\n",
    "&emsp;    - [driver 닫기](#driver-닫기)<br>\n",
    "[2. 화면 스크롤](#화면-스크롤) <br>\n",
    "&emsp;    - [화면 스크롤 하단 이동](#화면-스크롤-하단-이동)<br>\n",
    "&emsp;    - [현재 보이는 화면 스크린샷 저장](#현재-보이는-화면-스크린샷-저장)<br>\n",
    "&emsp;    - [화면 스크롤 상단 이동](#화면-스크롤-상단-이동)<br>\n",
    "&emsp;    - [특정 태그 지점까지 스크롤 이동](#특정-태그-지점까지-스크롤-이동)<br>\n",
    "\n",
    "[Github에서는 toc가 작동안함. nbviewer로 보기👀]()"
   ]
  },
  {
   "cell_type": "markdown",
   "id": "c625ee2d-17c3-4cd6-a977-2f2a208d5d3f",
   "metadata": {},
   "source": [
    "<a id=\"1\"></a>\n",
    "## 1. selenium webdriver 사용하기"
   ]
  },
  {
   "cell_type": "code",
   "execution_count": 32,
   "id": "e9300a7f-9842-40b2-8c60-fa2db929d2fa",
   "metadata": {},
   "outputs": [],
   "source": [
    "from selenium import webdriver\n",
    "from selenium.webdriver.common.by import By\n",
    "\n",
    "driver = webdriver.Chrome()\n",
    "driver.get(\"https://pinkwink.kr\")"
   ]
  },
  {
   "cell_type": "markdown",
   "id": "2bd6f0ab-c37e-46c1-a210-e257562bd5d7",
   "metadata": {},
   "source": [
    "<a id=\"화면-최대-크기-설정\"></a>\n",
    "### 화면 최대 크기 설정"
   ]
  },
  {
   "cell_type": "code",
   "execution_count": 6,
   "id": "b85369fa-63f2-416e-9ecf-4b5405604162",
   "metadata": {},
   "outputs": [],
   "source": [
    "driver.maximize_window()"
   ]
  },
  {
   "cell_type": "markdown",
   "id": "9e2cd15a-d782-407f-a8f1-d31f11041646",
   "metadata": {},
   "source": [
    "<a id=\"화면-최소-크기-설정\"></a>\n",
    "### 화면 최소 크기 설정"
   ]
  },
  {
   "cell_type": "code",
   "execution_count": 5,
   "id": "7b143292-8126-4342-a712-837441c375c1",
   "metadata": {},
   "outputs": [],
   "source": [
    "driver.minimize_window()"
   ]
  },
  {
   "cell_type": "markdown",
   "id": "0991c16a-1a1e-46a6-a025-ae05812b5813",
   "metadata": {},
   "source": [
    "<a id=\"화면-크기-설정\"></a>\n",
    "### 화면 크기 설정"
   ]
  },
  {
   "cell_type": "code",
   "execution_count": 7,
   "id": "9121850f-3c0e-48ca-9f3a-ae9eb63a0e43",
   "metadata": {},
   "outputs": [],
   "source": [
    "driver.set_window_size(600, 600)"
   ]
  },
  {
   "cell_type": "markdown",
   "id": "c89ddca9-1ffb-4d8a-888f-468ef44a26aa",
   "metadata": {},
   "source": [
    "<a id=\"새로고침\"></a>\n",
    "### 새로고침"
   ]
  },
  {
   "cell_type": "code",
   "execution_count": 8,
   "id": "1da5f10d-289d-4e78-addc-91206424ed50",
   "metadata": {},
   "outputs": [],
   "source": [
    "driver.refresh()"
   ]
  },
  {
   "cell_type": "markdown",
   "id": "91f75353-d755-4333-9ad7-a72cefcd156d",
   "metadata": {},
   "source": [
    "<a id=\"뒤로가기\"></a>\n",
    "### 뒤로가기"
   ]
  },
  {
   "cell_type": "code",
   "execution_count": 9,
   "id": "f81a20e0-6888-4dbc-a881-4d827f2eb380",
   "metadata": {},
   "outputs": [],
   "source": [
    "driver.back()"
   ]
  },
  {
   "cell_type": "markdown",
   "id": "97d84b9f-fb38-4970-86e4-9d373855e28d",
   "metadata": {},
   "source": [
    "<a id=\"앞으로-가기\"></a>\n",
    "### 앞으로 가기"
   ]
  },
  {
   "cell_type": "code",
   "execution_count": 10,
   "id": "570e07cc-7f1b-4ad3-99c8-b842363bd791",
   "metadata": {},
   "outputs": [],
   "source": [
    "driver.forward()"
   ]
  },
  {
   "cell_type": "markdown",
   "id": "796b1373-6f19-4d8f-b10e-e7c1439767a3",
   "metadata": {},
   "source": [
    "<a id=\"클릭\"></a>\n",
    "### 클릭"
   ]
  },
  {
   "cell_type": "code",
   "execution_count": 13,
   "id": "8247d47d-9f5a-4110-a411-bf58c0d38c96",
   "metadata": {},
   "outputs": [],
   "source": [
    "first_content = driver.find_element(By.CSS_SELECTOR, '#content > div.cover-masonry > div > ul > li:nth-child(1)')\n",
    "first_content.click()"
   ]
  },
  {
   "cell_type": "markdown",
   "id": "b5e3fb4c-cb61-4313-b75b-6a680d1bc60e",
   "metadata": {},
   "source": [
    "<a id=\"새로운-탭-생성\"></a>\n",
    "### 새로운 탭 생성"
   ]
  },
  {
   "cell_type": "code",
   "execution_count": 23,
   "id": "627fd9d4-f7d3-475e-acf3-68fd32f06bb8",
   "metadata": {},
   "outputs": [],
   "source": [
    "driver.execute_script('window.open(\"https://www.naver.com\")')"
   ]
  },
  {
   "cell_type": "markdown",
   "id": "2147fd3b-1462-4d16-a389-1851cb9900be",
   "metadata": {},
   "source": [
    "<a id=\"탭-이동\"></a>\n",
    "### 탭 이동"
   ]
  },
  {
   "cell_type": "code",
   "execution_count": 30,
   "id": "0655f2ee-20c7-4f68-a56d-1aa4efeef805",
   "metadata": {},
   "outputs": [],
   "source": [
    "driver.switch_to.window(driver.window_handles[0])"
   ]
  },
  {
   "cell_type": "markdown",
   "id": "7a91d5d5-4973-426d-888a-26c89e54d3fe",
   "metadata": {},
   "source": [
    "<a id=\"탭-개수\"></a>\n",
    "### 탭 개수"
   ]
  },
  {
   "cell_type": "code",
   "execution_count": 24,
   "id": "a30545aa-760e-49c1-99f5-602c0a266cd7",
   "metadata": {},
   "outputs": [
    {
     "data": {
      "text/plain": [
       "4"
      ]
     },
     "execution_count": 24,
     "metadata": {},
     "output_type": "execute_result"
    }
   ],
   "source": [
    "len(driver.window_handles)"
   ]
  },
  {
   "cell_type": "markdown",
   "id": "e7906a3c-5069-4456-96fe-a9f4448ec091",
   "metadata": {},
   "source": [
    "<a id=\"탭-닫기\"></a>\n",
    "### 탭 닫기"
   ]
  },
  {
   "cell_type": "code",
   "execution_count": 29,
   "id": "e0aaf6be-9c27-4e51-9632-713606afe1a2",
   "metadata": {},
   "outputs": [],
   "source": [
    "driver.close()"
   ]
  },
  {
   "cell_type": "markdown",
   "id": "a23b75cf-d58f-46a9-96c4-b85a13461c8a",
   "metadata": {},
   "source": [
    "<a id=\"driver-닫기\"></a>\n",
    "### driver 닫기"
   ]
  },
  {
   "cell_type": "code",
   "execution_count": 31,
   "id": "2eab109c-222d-40d1-895e-40d848242963",
   "metadata": {},
   "outputs": [],
   "source": [
    "driver.quit()"
   ]
  },
  {
   "cell_type": "markdown",
   "id": "b847dfa7-13f5-4aef-83c6-4300a1a8dd07",
   "metadata": {},
   "source": [
    "---"
   ]
  },
  {
   "cell_type": "markdown",
   "id": "5a53d6e5-a0fe-4500-bca4-d3d941c2b287",
   "metadata": {},
   "source": [
    "<a id=\"화면-스크롤\"></a>\n",
    "## 2. 화면 스크롤"
   ]
  },
  {
   "cell_type": "code",
   "execution_count": 34,
   "id": "a4f5edba-5a1c-43d7-8e16-15a36c16b27d",
   "metadata": {},
   "outputs": [
    {
     "data": {
      "text/plain": [
       "5809"
      ]
     },
     "execution_count": 34,
     "metadata": {},
     "output_type": "execute_result"
    }
   ],
   "source": [
    "# 스크롤 가능한 높이(길이)\n",
    "# 자바스크립트 코드 실행\n",
    "driver.execute_script('return document.body.scrollHeight')"
   ]
  },
  {
   "cell_type": "markdown",
   "id": "47c80248-0087-481f-8e9f-853cc42c4b7e",
   "metadata": {},
   "source": [
    "<a id=\"화면-스크롤-하단-이동\"></a>\n",
    "### 화면 스크롤 하단 이동"
   ]
  },
  {
   "cell_type": "code",
   "execution_count": 35,
   "id": "815f7451-aae0-4c9c-9a23-a7573edfee83",
   "metadata": {},
   "outputs": [],
   "source": [
    "driver.execute_script('window.scrollTo(0, document.body.scrollHeight);')"
   ]
  },
  {
   "cell_type": "markdown",
   "id": "8ada89b1-af2e-4c2a-921a-fe25c7baf738",
   "metadata": {},
   "source": [
    "<a id=\"현재-보이는-화면-스크린샷-저장\"></a>\n",
    "### 현재 보이는 화면 스크린샷 저장"
   ]
  },
  {
   "cell_type": "code",
   "execution_count": 36,
   "id": "90db7e4a-0aa2-4f56-b374-bd95680ab95a",
   "metadata": {},
   "outputs": [
    {
     "data": {
      "text/plain": [
       "True"
      ]
     },
     "execution_count": 36,
     "metadata": {},
     "output_type": "execute_result"
    }
   ],
   "source": [
    "driver.save_screenshot('./last_height.png')"
   ]
  },
  {
   "cell_type": "markdown",
   "id": "47ae26b4-f42b-4f64-9cf0-3d62f40aa0d9",
   "metadata": {},
   "source": [
    "<a id=\"화면-스크롤-상단-이동\"></a>\n",
    "### 화면 스크롤 상단 이동"
   ]
  },
  {
   "cell_type": "code",
   "execution_count": 38,
   "id": "bbf17da2-4275-4b08-be5d-01470ad54892",
   "metadata": {},
   "outputs": [],
   "source": [
    "driver.execute_script('window.scrollTo(0, 0);')"
   ]
  },
  {
   "cell_type": "markdown",
   "id": "cd3e77c8-df1e-4cb1-96ea-7b27d629fab8",
   "metadata": {},
   "source": [
    "<a id=\"특정-태그-지점까지-스크롤-이동\"></a>\n",
    "### 특정 태그 지점까지 스크롤 이동"
   ]
  },
  {
   "cell_type": "code",
   "execution_count": 39,
   "id": "ca7d6160-946d-4538-9ed6-7f61882aa094",
   "metadata": {},
   "outputs": [],
   "source": [
    "from selenium.webdriver import ActionChains\n",
    "\n",
    "some_tag = driver.find_element(By.CSS_SELECTOR, \"#content > div.cover-list > div > ul > li:nth-child(1)\")\n",
    "action = ActionChains(driver)\n",
    "action.move_to_element(some_tag).perform()"
   ]
  }
 ],
 "metadata": {
  "kernelspec": {
   "display_name": "Python 3 (ipykernel)",
   "language": "python",
   "name": "python3"
  },
  "language_info": {
   "codemirror_mode": {
    "name": "ipython",
    "version": 3
   },
   "file_extension": ".py",
   "mimetype": "text/x-python",
   "name": "python",
   "nbconvert_exporter": "python",
   "pygments_lexer": "ipython3",
   "version": "3.8.19"
  }
 },
 "nbformat": 4,
 "nbformat_minor": 5
}
