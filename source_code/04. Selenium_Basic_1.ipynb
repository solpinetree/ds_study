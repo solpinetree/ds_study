{
 "cells": [
  {
   "cell_type": "markdown",
   "id": "4787fffb-5794-4dbb-b2d1-79d12e2b0178",
   "metadata": {},
   "source": [
    "# Selenium Basic\n",
    "\n",
    "https://www.selenium.dev/documentation/"
   ]
  },
  {
   "cell_type": "markdown",
   "id": "80b9c97f-0132-439c-afc9-883058c53f5e",
   "metadata": {},
   "source": [
    "[1. selenium webdriver 사용하기](#1) <br>\n",
    "&emsp;    - [화면 최대 크기 설정](#화면-최대-크기-설정)<br>\n",
    "&emsp;    - [화면 최소 크기 설정](#화면-최소-크기-설정)<br>\n",
    "&emsp;    - [화면 크기 설정](#화면-크기-설정)<br>\n",
    "&emsp;    - [새로고침](#새로고침)<br>\n",
    "&emsp;    - [뒤로가기](#뒤로가기)<br>\n",
    "&emsp;    - [앞으로 가기](#앞으로-가기)<br>\n",
    "&emsp;    - [클릭](#클릭)<br>\n",
    "&emsp;    - [새로운 탭 생성](#새로운-탭-생성)<br>\n",
    "&emsp;    - [탭 이동](#탭-이동)<br>\n",
    "&emsp;    - [탭 개수](#탭-개수)<br>\n",
    "&emsp;    - [탭 닫기](#탭-닫기)<br>\n",
    "&emsp;    - [driver 닫기](#driver-닫기)<br>\n",
    "\n",
    "[Github에서는 toc가 작동안함. nbviewer로 보기👀]()"
   ]
  },
  {
   "cell_type": "markdown",
   "id": "c625ee2d-17c3-4cd6-a977-2f2a208d5d3f",
   "metadata": {},
   "source": [
    "<a id=\"1\"></a>\n",
    "## 1. selenium webdriver 사용하기"
   ]
  },
  {
   "cell_type": "code",
   "execution_count": 12,
   "id": "e9300a7f-9842-40b2-8c60-fa2db929d2fa",
   "metadata": {},
   "outputs": [],
   "source": [
    "from selenium import webdriver\n",
    "from selenium.webdriver.common.by import By\n",
    "\n",
    "driver = webdriver.Chrome()\n",
    "driver.get(\"https://pinkwink.kr\")"
   ]
  },
  {
   "cell_type": "markdown",
   "id": "2bd6f0ab-c37e-46c1-a210-e257562bd5d7",
   "metadata": {},
   "source": [
    "<a id=\"화면-최대-크기-설정\"></a>\n",
    "### 화면 최대 크기 설정"
   ]
  },
  {
   "cell_type": "code",
   "execution_count": 6,
   "id": "b85369fa-63f2-416e-9ecf-4b5405604162",
   "metadata": {},
   "outputs": [],
   "source": [
    "driver.maximize_window()"
   ]
  },
  {
   "cell_type": "markdown",
   "id": "9e2cd15a-d782-407f-a8f1-d31f11041646",
   "metadata": {},
   "source": [
    "<a id=\"화면-최소-크기-설정\"></a>\n",
    "### 화면 최소 크기 설정"
   ]
  },
  {
   "cell_type": "code",
   "execution_count": 5,
   "id": "7b143292-8126-4342-a712-837441c375c1",
   "metadata": {},
   "outputs": [],
   "source": [
    "driver.minimize_window()"
   ]
  },
  {
   "cell_type": "markdown",
   "id": "0991c16a-1a1e-46a6-a025-ae05812b5813",
   "metadata": {},
   "source": [
    "<a id=\"화면-크기-설정\"></a>\n",
    "### 화면 크기 설정"
   ]
  },
  {
   "cell_type": "code",
   "execution_count": 7,
   "id": "9121850f-3c0e-48ca-9f3a-ae9eb63a0e43",
   "metadata": {},
   "outputs": [],
   "source": [
    "driver.set_window_size(600, 600)"
   ]
  },
  {
   "cell_type": "markdown",
   "id": "c89ddca9-1ffb-4d8a-888f-468ef44a26aa",
   "metadata": {},
   "source": [
    "<a id=\"새로고침\"></a>\n",
    "### 새로고침"
   ]
  },
  {
   "cell_type": "code",
   "execution_count": 8,
   "id": "1da5f10d-289d-4e78-addc-91206424ed50",
   "metadata": {},
   "outputs": [],
   "source": [
    "driver.refresh()"
   ]
  },
  {
   "cell_type": "markdown",
   "id": "91f75353-d755-4333-9ad7-a72cefcd156d",
   "metadata": {},
   "source": [
    "<a id=\"뒤로가기\"></a>\n",
    "### 뒤로가기"
   ]
  },
  {
   "cell_type": "code",
   "execution_count": 9,
   "id": "f81a20e0-6888-4dbc-a881-4d827f2eb380",
   "metadata": {},
   "outputs": [],
   "source": [
    "driver.back()"
   ]
  },
  {
   "cell_type": "markdown",
   "id": "97d84b9f-fb38-4970-86e4-9d373855e28d",
   "metadata": {},
   "source": [
    "<a id=\"앞으로-가기\"></a>\n",
    "### 앞으로 가기"
   ]
  },
  {
   "cell_type": "code",
   "execution_count": 10,
   "id": "570e07cc-7f1b-4ad3-99c8-b842363bd791",
   "metadata": {},
   "outputs": [],
   "source": [
    "driver.forward()"
   ]
  },
  {
   "cell_type": "markdown",
   "id": "796b1373-6f19-4d8f-b10e-e7c1439767a3",
   "metadata": {},
   "source": [
    "<a id=\"클릭\"></a>\n",
    "### 클릭"
   ]
  },
  {
   "cell_type": "code",
   "execution_count": 13,
   "id": "8247d47d-9f5a-4110-a411-bf58c0d38c96",
   "metadata": {},
   "outputs": [],
   "source": [
    "first_content = driver.find_element(By.CSS_SELECTOR, '#content > div.cover-masonry > div > ul > li:nth-child(1)')\n",
    "first_content.click()"
   ]
  },
  {
   "cell_type": "markdown",
   "id": "b5e3fb4c-cb61-4313-b75b-6a680d1bc60e",
   "metadata": {},
   "source": [
    "<a id=\"새로운-탭-생성\"></a>\n",
    "### 새로운 탭 생성"
   ]
  },
  {
   "cell_type": "code",
   "execution_count": 23,
   "id": "627fd9d4-f7d3-475e-acf3-68fd32f06bb8",
   "metadata": {},
   "outputs": [],
   "source": [
    "driver.execute_script('window.open(\"https://www.naver.com\")')"
   ]
  },
  {
   "cell_type": "markdown",
   "id": "2147fd3b-1462-4d16-a389-1851cb9900be",
   "metadata": {},
   "source": [
    "<a id=\"탭-이동\"></a>\n",
    "### 탭 이동"
   ]
  },
  {
   "cell_type": "code",
   "execution_count": 30,
   "id": "0655f2ee-20c7-4f68-a56d-1aa4efeef805",
   "metadata": {},
   "outputs": [],
   "source": [
    "driver.switch_to.window(driver.window_handles[0])"
   ]
  },
  {
   "cell_type": "markdown",
   "id": "7a91d5d5-4973-426d-888a-26c89e54d3fe",
   "metadata": {},
   "source": [
    "<a id=\"탭-개수\"></a>\n",
    "### 탭 개수"
   ]
  },
  {
   "cell_type": "code",
   "execution_count": 24,
   "id": "a30545aa-760e-49c1-99f5-602c0a266cd7",
   "metadata": {},
   "outputs": [
    {
     "data": {
      "text/plain": [
       "4"
      ]
     },
     "execution_count": 24,
     "metadata": {},
     "output_type": "execute_result"
    }
   ],
   "source": [
    "len(driver.window_handles)"
   ]
  },
  {
   "cell_type": "markdown",
   "id": "e7906a3c-5069-4456-96fe-a9f4448ec091",
   "metadata": {},
   "source": [
    "<a id=\"탭-닫기\"></a>\n",
    "### 탭 닫기"
   ]
  },
  {
   "cell_type": "code",
   "execution_count": 29,
   "id": "e0aaf6be-9c27-4e51-9632-713606afe1a2",
   "metadata": {},
   "outputs": [],
   "source": [
    "driver.close()"
   ]
  },
  {
   "cell_type": "markdown",
   "id": "a23b75cf-d58f-46a9-96c4-b85a13461c8a",
   "metadata": {},
   "source": [
    "<a id=\"driver-닫기\"></a>\n",
    "### driver 닫기"
   ]
  },
  {
   "cell_type": "code",
   "execution_count": 31,
   "id": "2eab109c-222d-40d1-895e-40d848242963",
   "metadata": {},
   "outputs": [],
   "source": [
    "driver.quit()"
   ]
  }
 ],
 "metadata": {
  "kernelspec": {
   "display_name": "Python 3 (ipykernel)",
   "language": "python",
   "name": "python3"
  },
  "language_info": {
   "codemirror_mode": {
    "name": "ipython",
    "version": 3
   },
   "file_extension": ".py",
   "mimetype": "text/x-python",
   "name": "python",
   "nbconvert_exporter": "python",
   "pygments_lexer": "ipython3",
   "version": "3.8.19"
  }
 },
 "nbformat": 4,
 "nbformat_minor": 5
}
