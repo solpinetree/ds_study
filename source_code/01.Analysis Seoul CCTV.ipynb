{
 "cells": [
  {
   "cell_type": "code",
   "execution_count": 4,
   "id": "82272efd-ef9e-41b8-bdd5-b0502a734a66",
   "metadata": {},
   "outputs": [],
   "source": [
    "import pandas as pd"
   ]
  },
  {
   "cell_type": "code",
   "execution_count": 5,
   "id": "8bee16e0-eee7-4a4a-8f9b-f976a1607fe5",
   "metadata": {},
   "outputs": [
    {
     "data": {
      "text/html": [
       "<div>\n",
       "<style scoped>\n",
       "    .dataframe tbody tr th:only-of-type {\n",
       "        vertical-align: middle;\n",
       "    }\n",
       "\n",
       "    .dataframe tbody tr th {\n",
       "        vertical-align: top;\n",
       "    }\n",
       "\n",
       "    .dataframe thead th {\n",
       "        text-align: right;\n",
       "    }\n",
       "</style>\n",
       "<table border=\"1\" class=\"dataframe\">\n",
       "  <thead>\n",
       "    <tr style=\"text-align: right;\">\n",
       "      <th></th>\n",
       "      <th>Unnamed: 0</th>\n",
       "      <th>Unnamed: 1</th>\n",
       "      <th>Unnamed: 2</th>\n",
       "      <th>Unnamed: 3</th>\n",
       "      <th>Unnamed: 4</th>\n",
       "      <th>Unnamed: 5</th>\n",
       "      <th>Unnamed: 6</th>\n",
       "      <th>Unnamed: 7</th>\n",
       "      <th>Unnamed: 8</th>\n",
       "      <th>Unnamed: 9</th>\n",
       "      <th>Unnamed: 10</th>\n",
       "      <th>Unnamed: 11</th>\n",
       "      <th>Unnamed: 12</th>\n",
       "      <th>Unnamed: 13</th>\n",
       "    </tr>\n",
       "  </thead>\n",
       "  <tbody>\n",
       "    <tr>\n",
       "      <th>0</th>\n",
       "      <td>NaN</td>\n",
       "      <td>(단위 : 대, '23.12.31.일 기준)</td>\n",
       "      <td>NaN</td>\n",
       "      <td>NaN</td>\n",
       "      <td>NaN</td>\n",
       "      <td>NaN</td>\n",
       "      <td>NaN</td>\n",
       "      <td>NaN</td>\n",
       "      <td>NaN</td>\n",
       "      <td>NaN</td>\n",
       "      <td>NaN</td>\n",
       "      <td>NaN</td>\n",
       "      <td>NaN</td>\n",
       "      <td>NaN</td>\n",
       "    </tr>\n",
       "    <tr>\n",
       "      <th>1</th>\n",
       "      <td>NaN</td>\n",
       "      <td>순번</td>\n",
       "      <td>구분</td>\n",
       "      <td>총 계</td>\n",
       "      <td>2015년 이전\\n설치된 CCTV</td>\n",
       "      <td>2015년</td>\n",
       "      <td>2016년</td>\n",
       "      <td>2017년</td>\n",
       "      <td>2018년</td>\n",
       "      <td>2019년</td>\n",
       "      <td>2020년</td>\n",
       "      <td>2021년</td>\n",
       "      <td>2022년</td>\n",
       "      <td>2023년</td>\n",
       "    </tr>\n",
       "    <tr>\n",
       "      <th>2</th>\n",
       "      <td>NaN</td>\n",
       "      <td>NaN</td>\n",
       "      <td>계</td>\n",
       "      <td>99515</td>\n",
       "      <td>8759</td>\n",
       "      <td>5725</td>\n",
       "      <td>8537</td>\n",
       "      <td>10770</td>\n",
       "      <td>10619</td>\n",
       "      <td>12855</td>\n",
       "      <td>11525</td>\n",
       "      <td>9358</td>\n",
       "      <td>9379</td>\n",
       "      <td>11988</td>\n",
       "    </tr>\n",
       "    <tr>\n",
       "      <th>3</th>\n",
       "      <td>NaN</td>\n",
       "      <td>1</td>\n",
       "      <td>종로구</td>\n",
       "      <td>2031</td>\n",
       "      <td>549</td>\n",
       "      <td>158</td>\n",
       "      <td>128</td>\n",
       "      <td>143</td>\n",
       "      <td>142</td>\n",
       "      <td>67</td>\n",
       "      <td>237</td>\n",
       "      <td>82</td>\n",
       "      <td>225</td>\n",
       "      <td>300</td>\n",
       "    </tr>\n",
       "    <tr>\n",
       "      <th>4</th>\n",
       "      <td>NaN</td>\n",
       "      <td>2</td>\n",
       "      <td>중 구</td>\n",
       "      <td>2718</td>\n",
       "      <td>275</td>\n",
       "      <td>236</td>\n",
       "      <td>239</td>\n",
       "      <td>372</td>\n",
       "      <td>386</td>\n",
       "      <td>155</td>\n",
       "      <td>364</td>\n",
       "      <td>419</td>\n",
       "      <td>137</td>\n",
       "      <td>135</td>\n",
       "    </tr>\n",
       "  </tbody>\n",
       "</table>\n",
       "</div>"
      ],
      "text/plain": [
       "   Unnamed: 0                Unnamed: 1 Unnamed: 2 Unnamed: 3  \\\n",
       "0         NaN  (단위 : 대, '23.12.31.일 기준)        NaN        NaN   \n",
       "1         NaN                        순번         구분        총 계   \n",
       "2         NaN                       NaN          계      99515   \n",
       "3         NaN                         1        종로구       2031   \n",
       "4         NaN                         2        중 구       2718   \n",
       "\n",
       "           Unnamed: 4 Unnamed: 5 Unnamed: 6 Unnamed: 7 Unnamed: 8 Unnamed: 9  \\\n",
       "0                 NaN        NaN        NaN        NaN        NaN        NaN   \n",
       "1  2015년 이전\\n설치된 CCTV      2015년      2016년      2017년      2018년      2019년   \n",
       "2                8759       5725       8537      10770      10619      12855   \n",
       "3                 549        158        128        143        142         67   \n",
       "4                 275        236        239        372        386        155   \n",
       "\n",
       "  Unnamed: 10 Unnamed: 11 Unnamed: 12 Unnamed: 13  \n",
       "0         NaN         NaN         NaN         NaN  \n",
       "1       2020년       2021년       2022년       2023년  \n",
       "2       11525        9358        9379       11988  \n",
       "3         237          82         225         300  \n",
       "4         364         419         137         135  "
      ]
     },
     "execution_count": 5,
     "metadata": {},
     "output_type": "execute_result"
    }
   ],
   "source": [
    "CCTV_Seoul = pd.read_excel(\"../data/01.Seoul_CCTV.xlsx\")\n",
    "CCTV_Seoul.head()"
   ]
  },
  {
   "cell_type": "code",
   "execution_count": 6,
   "id": "fa9c1d0d-4fd2-48fd-8249-b46d6eee8cf1",
   "metadata": {},
   "outputs": [
    {
     "data": {
      "text/html": [
       "<div>\n",
       "<style scoped>\n",
       "    .dataframe tbody tr th:only-of-type {\n",
       "        vertical-align: middle;\n",
       "    }\n",
       "\n",
       "    .dataframe tbody tr th {\n",
       "        vertical-align: top;\n",
       "    }\n",
       "\n",
       "    .dataframe thead th {\n",
       "        text-align: right;\n",
       "    }\n",
       "</style>\n",
       "<table border=\"1\" class=\"dataframe\">\n",
       "  <thead>\n",
       "    <tr style=\"text-align: right;\">\n",
       "      <th></th>\n",
       "      <th>구분</th>\n",
       "      <th>총 계</th>\n",
       "      <th>2015년 이전\\n설치된 CCTV</th>\n",
       "      <th>2015년</th>\n",
       "      <th>2016년</th>\n",
       "      <th>2017년</th>\n",
       "      <th>2018년</th>\n",
       "      <th>2019년</th>\n",
       "      <th>2020년</th>\n",
       "      <th>2021년</th>\n",
       "      <th>2022년</th>\n",
       "      <th>2023년</th>\n",
       "    </tr>\n",
       "  </thead>\n",
       "  <tbody>\n",
       "    <tr>\n",
       "      <th>0</th>\n",
       "      <td>계</td>\n",
       "      <td>99515</td>\n",
       "      <td>8759</td>\n",
       "      <td>5725</td>\n",
       "      <td>8537</td>\n",
       "      <td>10770</td>\n",
       "      <td>10619</td>\n",
       "      <td>12855</td>\n",
       "      <td>11525</td>\n",
       "      <td>9358</td>\n",
       "      <td>9379</td>\n",
       "      <td>11988</td>\n",
       "    </tr>\n",
       "    <tr>\n",
       "      <th>1</th>\n",
       "      <td>종로구</td>\n",
       "      <td>2031</td>\n",
       "      <td>549</td>\n",
       "      <td>158</td>\n",
       "      <td>128</td>\n",
       "      <td>143</td>\n",
       "      <td>142</td>\n",
       "      <td>67</td>\n",
       "      <td>237</td>\n",
       "      <td>82</td>\n",
       "      <td>225</td>\n",
       "      <td>300</td>\n",
       "    </tr>\n",
       "    <tr>\n",
       "      <th>2</th>\n",
       "      <td>중 구</td>\n",
       "      <td>2718</td>\n",
       "      <td>275</td>\n",
       "      <td>236</td>\n",
       "      <td>239</td>\n",
       "      <td>372</td>\n",
       "      <td>386</td>\n",
       "      <td>155</td>\n",
       "      <td>364</td>\n",
       "      <td>419</td>\n",
       "      <td>137</td>\n",
       "      <td>135</td>\n",
       "    </tr>\n",
       "    <tr>\n",
       "      <th>3</th>\n",
       "      <td>용산구</td>\n",
       "      <td>3258</td>\n",
       "      <td>88</td>\n",
       "      <td>38</td>\n",
       "      <td>295</td>\n",
       "      <td>491</td>\n",
       "      <td>147</td>\n",
       "      <td>335</td>\n",
       "      <td>473</td>\n",
       "      <td>486</td>\n",
       "      <td>500</td>\n",
       "      <td>405</td>\n",
       "    </tr>\n",
       "    <tr>\n",
       "      <th>4</th>\n",
       "      <td>성동구</td>\n",
       "      <td>4409</td>\n",
       "      <td>190</td>\n",
       "      <td>352</td>\n",
       "      <td>278</td>\n",
       "      <td>939</td>\n",
       "      <td>457</td>\n",
       "      <td>640</td>\n",
       "      <td>483</td>\n",
       "      <td>366</td>\n",
       "      <td>233</td>\n",
       "      <td>471</td>\n",
       "    </tr>\n",
       "  </tbody>\n",
       "</table>\n",
       "</div>"
      ],
      "text/plain": [
       "    구분    총 계  2015년 이전\\n설치된 CCTV  2015년  2016년  2017년  2018년  2019년  2020년  \\\n",
       "0    계  99515                8759   5725   8537  10770  10619  12855  11525   \n",
       "1  종로구   2031                 549    158    128    143    142     67    237   \n",
       "2  중 구   2718                 275    236    239    372    386    155    364   \n",
       "3  용산구   3258                  88     38    295    491    147    335    473   \n",
       "4  성동구   4409                 190    352    278    939    457    640    483   \n",
       "\n",
       "   2021년  2022년  2023년  \n",
       "0   9358   9379  11988  \n",
       "1     82    225    300  \n",
       "2    419    137    135  \n",
       "3    486    500    405  \n",
       "4    366    233    471  "
      ]
     },
     "execution_count": 6,
     "metadata": {},
     "output_type": "execute_result"
    }
   ],
   "source": [
    "CCTV_Seoul = pd.read_excel(\"../data/01.Seoul_CCTV.xlsx\", header = 2, usecols=\"C:N\")\n",
    "CCTV_Seoul.head()"
   ]
  },
  {
   "cell_type": "code",
   "execution_count": 7,
   "id": "506e58a9-f969-4fd2-ae96-32202a3ab61c",
   "metadata": {},
   "outputs": [
    {
     "data": {
      "text/plain": [
       "Index(['구분', '총 계', '2015년 이전\\n설치된 CCTV', '2015년', '2016년', '2017년', '2018년',\n",
       "       '2019년', '2020년', '2021년', '2022년', '2023년'],\n",
       "      dtype='object')"
      ]
     },
     "execution_count": 7,
     "metadata": {},
     "output_type": "execute_result"
    }
   ],
   "source": [
    "CCTV_Seoul.columns"
   ]
  },
  {
   "cell_type": "code",
   "execution_count": 8,
   "id": "3aac2345-4792-4225-9656-7fbd4b3f8e0a",
   "metadata": {},
   "outputs": [
    {
     "data": {
      "text/html": [
       "<div>\n",
       "<style scoped>\n",
       "    .dataframe tbody tr th:only-of-type {\n",
       "        vertical-align: middle;\n",
       "    }\n",
       "\n",
       "    .dataframe tbody tr th {\n",
       "        vertical-align: top;\n",
       "    }\n",
       "\n",
       "    .dataframe thead th {\n",
       "        text-align: right;\n",
       "    }\n",
       "</style>\n",
       "<table border=\"1\" class=\"dataframe\">\n",
       "  <thead>\n",
       "    <tr style=\"text-align: right;\">\n",
       "      <th></th>\n",
       "      <th>구별</th>\n",
       "      <th>총 계</th>\n",
       "      <th>2015년도 이전</th>\n",
       "      <th>2015년</th>\n",
       "      <th>2016년</th>\n",
       "      <th>2017년</th>\n",
       "      <th>2018년</th>\n",
       "      <th>2019년</th>\n",
       "      <th>2020년</th>\n",
       "      <th>2021년</th>\n",
       "      <th>2022년</th>\n",
       "      <th>2023년</th>\n",
       "    </tr>\n",
       "  </thead>\n",
       "  <tbody>\n",
       "    <tr>\n",
       "      <th>0</th>\n",
       "      <td>계</td>\n",
       "      <td>99515</td>\n",
       "      <td>8759</td>\n",
       "      <td>5725</td>\n",
       "      <td>8537</td>\n",
       "      <td>10770</td>\n",
       "      <td>10619</td>\n",
       "      <td>12855</td>\n",
       "      <td>11525</td>\n",
       "      <td>9358</td>\n",
       "      <td>9379</td>\n",
       "      <td>11988</td>\n",
       "    </tr>\n",
       "    <tr>\n",
       "      <th>1</th>\n",
       "      <td>종로구</td>\n",
       "      <td>2031</td>\n",
       "      <td>549</td>\n",
       "      <td>158</td>\n",
       "      <td>128</td>\n",
       "      <td>143</td>\n",
       "      <td>142</td>\n",
       "      <td>67</td>\n",
       "      <td>237</td>\n",
       "      <td>82</td>\n",
       "      <td>225</td>\n",
       "      <td>300</td>\n",
       "    </tr>\n",
       "    <tr>\n",
       "      <th>2</th>\n",
       "      <td>중 구</td>\n",
       "      <td>2718</td>\n",
       "      <td>275</td>\n",
       "      <td>236</td>\n",
       "      <td>239</td>\n",
       "      <td>372</td>\n",
       "      <td>386</td>\n",
       "      <td>155</td>\n",
       "      <td>364</td>\n",
       "      <td>419</td>\n",
       "      <td>137</td>\n",
       "      <td>135</td>\n",
       "    </tr>\n",
       "    <tr>\n",
       "      <th>3</th>\n",
       "      <td>용산구</td>\n",
       "      <td>3258</td>\n",
       "      <td>88</td>\n",
       "      <td>38</td>\n",
       "      <td>295</td>\n",
       "      <td>491</td>\n",
       "      <td>147</td>\n",
       "      <td>335</td>\n",
       "      <td>473</td>\n",
       "      <td>486</td>\n",
       "      <td>500</td>\n",
       "      <td>405</td>\n",
       "    </tr>\n",
       "    <tr>\n",
       "      <th>4</th>\n",
       "      <td>성동구</td>\n",
       "      <td>4409</td>\n",
       "      <td>190</td>\n",
       "      <td>352</td>\n",
       "      <td>278</td>\n",
       "      <td>939</td>\n",
       "      <td>457</td>\n",
       "      <td>640</td>\n",
       "      <td>483</td>\n",
       "      <td>366</td>\n",
       "      <td>233</td>\n",
       "      <td>471</td>\n",
       "    </tr>\n",
       "  </tbody>\n",
       "</table>\n",
       "</div>"
      ],
      "text/plain": [
       "    구별    총 계  2015년도 이전  2015년  2016년  2017년  2018년  2019년  2020년  2021년  \\\n",
       "0    계  99515       8759   5725   8537  10770  10619  12855  11525   9358   \n",
       "1  종로구   2031        549    158    128    143    142     67    237     82   \n",
       "2  중 구   2718        275    236    239    372    386    155    364    419   \n",
       "3  용산구   3258         88     38    295    491    147    335    473    486   \n",
       "4  성동구   4409        190    352    278    939    457    640    483    366   \n",
       "\n",
       "   2022년  2023년  \n",
       "0   9379  11988  \n",
       "1    225    300  \n",
       "2    137    135  \n",
       "3    500    405  \n",
       "4    233    471  "
      ]
     },
     "execution_count": 8,
     "metadata": {},
     "output_type": "execute_result"
    }
   ],
   "source": [
    "CCTV_Seoul.rename(columns = {CCTV_Seoul.columns[0]: \"구별\"}, inplace=True)\n",
    "CCTV_Seoul.rename(columns = {CCTV_Seoul.columns[2]: \"2015년도 이전\"}, inplace=True)\n",
    "CCTV_Seoul.head()"
   ]
  },
  {
   "cell_type": "code",
   "execution_count": 9,
   "id": "0fdbbb5a-64a2-497c-95e5-113a19bf10e9",
   "metadata": {},
   "outputs": [
    {
     "data": {
      "text/html": [
       "<div>\n",
       "<style scoped>\n",
       "    .dataframe tbody tr th:only-of-type {\n",
       "        vertical-align: middle;\n",
       "    }\n",
       "\n",
       "    .dataframe tbody tr th {\n",
       "        vertical-align: top;\n",
       "    }\n",
       "\n",
       "    .dataframe thead th {\n",
       "        text-align: right;\n",
       "    }\n",
       "</style>\n",
       "<table border=\"1\" class=\"dataframe\">\n",
       "  <thead>\n",
       "    <tr style=\"text-align: right;\">\n",
       "      <th></th>\n",
       "      <th>구별</th>\n",
       "      <th>총 계</th>\n",
       "      <th>2015년도 이전</th>\n",
       "      <th>2015년</th>\n",
       "      <th>2016년</th>\n",
       "      <th>2017년</th>\n",
       "      <th>2018년</th>\n",
       "      <th>2019년</th>\n",
       "      <th>2020년</th>\n",
       "      <th>2021년</th>\n",
       "      <th>2022년</th>\n",
       "      <th>2023년</th>\n",
       "    </tr>\n",
       "  </thead>\n",
       "  <tbody>\n",
       "    <tr>\n",
       "      <th>21</th>\n",
       "      <td>관악구</td>\n",
       "      <td>5772</td>\n",
       "      <td>774</td>\n",
       "      <td>447</td>\n",
       "      <td>607</td>\n",
       "      <td>675</td>\n",
       "      <td>663</td>\n",
       "      <td>889</td>\n",
       "      <td>404</td>\n",
       "      <td>549</td>\n",
       "      <td>135</td>\n",
       "      <td>629</td>\n",
       "    </tr>\n",
       "    <tr>\n",
       "      <th>22</th>\n",
       "      <td>서초구</td>\n",
       "      <td>5395</td>\n",
       "      <td>227</td>\n",
       "      <td>552</td>\n",
       "      <td>514</td>\n",
       "      <td>1022</td>\n",
       "      <td>422</td>\n",
       "      <td>339</td>\n",
       "      <td>419</td>\n",
       "      <td>565</td>\n",
       "      <td>878</td>\n",
       "      <td>457</td>\n",
       "    </tr>\n",
       "    <tr>\n",
       "      <th>23</th>\n",
       "      <td>강남구</td>\n",
       "      <td>7721</td>\n",
       "      <td>672</td>\n",
       "      <td>814</td>\n",
       "      <td>1280</td>\n",
       "      <td>981</td>\n",
       "      <td>735</td>\n",
       "      <td>787</td>\n",
       "      <td>913</td>\n",
       "      <td>505</td>\n",
       "      <td>588</td>\n",
       "      <td>446</td>\n",
       "    </tr>\n",
       "    <tr>\n",
       "      <th>24</th>\n",
       "      <td>송파구</td>\n",
       "      <td>4031</td>\n",
       "      <td>223</td>\n",
       "      <td>183</td>\n",
       "      <td>126</td>\n",
       "      <td>227</td>\n",
       "      <td>526</td>\n",
       "      <td>1050</td>\n",
       "      <td>237</td>\n",
       "      <td>151</td>\n",
       "      <td>431</td>\n",
       "      <td>877</td>\n",
       "    </tr>\n",
       "    <tr>\n",
       "      <th>25</th>\n",
       "      <td>강동구</td>\n",
       "      <td>3549</td>\n",
       "      <td>571</td>\n",
       "      <td>154</td>\n",
       "      <td>202</td>\n",
       "      <td>273</td>\n",
       "      <td>377</td>\n",
       "      <td>356</td>\n",
       "      <td>614</td>\n",
       "      <td>262</td>\n",
       "      <td>381</td>\n",
       "      <td>359</td>\n",
       "    </tr>\n",
       "  </tbody>\n",
       "</table>\n",
       "</div>"
      ],
      "text/plain": [
       "     구별   총 계  2015년도 이전  2015년  2016년  2017년  2018년  2019년  2020년  2021년  \\\n",
       "21  관악구  5772        774    447    607    675    663    889    404    549   \n",
       "22  서초구  5395        227    552    514   1022    422    339    419    565   \n",
       "23  강남구  7721        672    814   1280    981    735    787    913    505   \n",
       "24  송파구  4031        223    183    126    227    526   1050    237    151   \n",
       "25  강동구  3549        571    154    202    273    377    356    614    262   \n",
       "\n",
       "    2022년  2023년  \n",
       "21    135    629  \n",
       "22    878    457  \n",
       "23    588    446  \n",
       "24    431    877  \n",
       "25    381    359  "
      ]
     },
     "execution_count": 9,
     "metadata": {},
     "output_type": "execute_result"
    }
   ],
   "source": [
    "CCTV_Seoul.tail()"
   ]
  },
  {
   "cell_type": "code",
   "execution_count": 10,
   "id": "cdf5c982-a5e3-4ba7-a1f2-62b4cad673b4",
   "metadata": {},
   "outputs": [
    {
     "name": "stderr",
     "output_type": "stream",
     "text": [
      "/usr/local/Caskroom/miniconda/base/envs/ds_study/lib/python3.8/site-packages/openpyxl/styles/stylesheet.py:226: UserWarning: Workbook contains no default style, apply openpyxl's default\n",
      "  warn(\"Workbook contains no default style, apply openpyxl's default\")\n"
     ]
    },
    {
     "data": {
      "text/html": [
       "<div>\n",
       "<style scoped>\n",
       "    .dataframe tbody tr th:only-of-type {\n",
       "        vertical-align: middle;\n",
       "    }\n",
       "\n",
       "    .dataframe tbody tr th {\n",
       "        vertical-align: top;\n",
       "    }\n",
       "\n",
       "    .dataframe thead th {\n",
       "        text-align: right;\n",
       "    }\n",
       "</style>\n",
       "<table border=\"1\" class=\"dataframe\">\n",
       "  <thead>\n",
       "    <tr style=\"text-align: right;\">\n",
       "      <th></th>\n",
       "      <th>동별(1)</th>\n",
       "      <th>동별(2)</th>\n",
       "      <th>2024 1/4</th>\n",
       "      <th>2024 1/4.1</th>\n",
       "      <th>2024 1/4.2</th>\n",
       "      <th>2024 1/4.3</th>\n",
       "      <th>2024 1/4.4</th>\n",
       "      <th>2024 1/4.5</th>\n",
       "      <th>2024 1/4.6</th>\n",
       "      <th>2024 1/4.7</th>\n",
       "      <th>2024 1/4.8</th>\n",
       "      <th>2024 1/4.9</th>\n",
       "      <th>2024 1/4.10</th>\n",
       "      <th>2024 1/4.11</th>\n",
       "    </tr>\n",
       "  </thead>\n",
       "  <tbody>\n",
       "    <tr>\n",
       "      <th>0</th>\n",
       "      <td>동별(1)</td>\n",
       "      <td>동별(2)</td>\n",
       "      <td>세대 (세대)</td>\n",
       "      <td>계 (명)</td>\n",
       "      <td>계 (명)</td>\n",
       "      <td>계 (명)</td>\n",
       "      <td>한국인 (명)</td>\n",
       "      <td>한국인 (명)</td>\n",
       "      <td>한국인 (명)</td>\n",
       "      <td>등록외국인 (명)</td>\n",
       "      <td>등록외국인 (명)</td>\n",
       "      <td>등록외국인 (명)</td>\n",
       "      <td>세대당인구 (명)</td>\n",
       "      <td>65세이상고령자 (명)</td>\n",
       "    </tr>\n",
       "    <tr>\n",
       "      <th>1</th>\n",
       "      <td>동별(1)</td>\n",
       "      <td>동별(2)</td>\n",
       "      <td>소계</td>\n",
       "      <td>소계</td>\n",
       "      <td>남자</td>\n",
       "      <td>여자</td>\n",
       "      <td>소계</td>\n",
       "      <td>남자</td>\n",
       "      <td>여자</td>\n",
       "      <td>소계</td>\n",
       "      <td>남자</td>\n",
       "      <td>여자</td>\n",
       "      <td>소계</td>\n",
       "      <td>소계</td>\n",
       "    </tr>\n",
       "    <tr>\n",
       "      <th>2</th>\n",
       "      <td>합계</td>\n",
       "      <td>소계</td>\n",
       "      <td>4485819</td>\n",
       "      <td>9635445</td>\n",
       "      <td>4644729</td>\n",
       "      <td>4990716</td>\n",
       "      <td>9384739</td>\n",
       "      <td>4536128</td>\n",
       "      <td>4848611</td>\n",
       "      <td>250706</td>\n",
       "      <td>108601</td>\n",
       "      <td>142105</td>\n",
       "      <td>2.09</td>\n",
       "      <td>1768948</td>\n",
       "    </tr>\n",
       "    <tr>\n",
       "      <th>3</th>\n",
       "      <td>합계</td>\n",
       "      <td>종로구</td>\n",
       "      <td>72404</td>\n",
       "      <td>150550</td>\n",
       "      <td>71861</td>\n",
       "      <td>78689</td>\n",
       "      <td>139498</td>\n",
       "      <td>67228</td>\n",
       "      <td>72270</td>\n",
       "      <td>11052</td>\n",
       "      <td>4633</td>\n",
       "      <td>6419</td>\n",
       "      <td>1.93</td>\n",
       "      <td>29127</td>\n",
       "    </tr>\n",
       "    <tr>\n",
       "      <th>4</th>\n",
       "      <td>합계</td>\n",
       "      <td>중구</td>\n",
       "      <td>65132</td>\n",
       "      <td>131812</td>\n",
       "      <td>63506</td>\n",
       "      <td>68306</td>\n",
       "      <td>121602</td>\n",
       "      <td>58767</td>\n",
       "      <td>62835</td>\n",
       "      <td>10210</td>\n",
       "      <td>4739</td>\n",
       "      <td>5471</td>\n",
       "      <td>1.87</td>\n",
       "      <td>26302</td>\n",
       "    </tr>\n",
       "  </tbody>\n",
       "</table>\n",
       "</div>"
      ],
      "text/plain": [
       "   동별(1)  동별(2) 2024 1/4 2024 1/4.1 2024 1/4.2 2024 1/4.3 2024 1/4.4  \\\n",
       "0  동별(1)  동별(2)  세대 (세대)      계 (명)      계 (명)      계 (명)    한국인 (명)   \n",
       "1  동별(1)  동별(2)       소계         소계         남자         여자         소계   \n",
       "2     합계     소계  4485819    9635445    4644729    4990716    9384739   \n",
       "3     합계    종로구    72404     150550      71861      78689     139498   \n",
       "4     합계     중구    65132     131812      63506      68306     121602   \n",
       "\n",
       "  2024 1/4.5 2024 1/4.6 2024 1/4.7 2024 1/4.8 2024 1/4.9 2024 1/4.10  \\\n",
       "0    한국인 (명)    한국인 (명)  등록외국인 (명)  등록외국인 (명)  등록외국인 (명)   세대당인구 (명)   \n",
       "1         남자         여자         소계         남자         여자          소계   \n",
       "2    4536128    4848611     250706     108601     142105        2.09   \n",
       "3      67228      72270      11052       4633       6419        1.93   \n",
       "4      58767      62835      10210       4739       5471        1.87   \n",
       "\n",
       "    2024 1/4.11  \n",
       "0  65세이상고령자 (명)  \n",
       "1            소계  \n",
       "2       1768948  \n",
       "3         29127  \n",
       "4         26302  "
      ]
     },
     "execution_count": 10,
     "metadata": {},
     "output_type": "execute_result"
    }
   ],
   "source": [
    "pop_Seoul = pd.read_excel(\"../data/01.Seoul_Population.xlsx\")\n",
    "pop_Seoul.head()"
   ]
  },
  {
   "cell_type": "code",
   "execution_count": 11,
   "id": "4e77a5e9-e723-4580-861e-4acd2a92e808",
   "metadata": {},
   "outputs": [
    {
     "name": "stderr",
     "output_type": "stream",
     "text": [
      "/usr/local/Caskroom/miniconda/base/envs/ds_study/lib/python3.8/site-packages/openpyxl/styles/stylesheet.py:226: UserWarning: Workbook contains no default style, apply openpyxl's default\n",
      "  warn(\"Workbook contains no default style, apply openpyxl's default\")\n"
     ]
    },
    {
     "data": {
      "text/html": [
       "<div>\n",
       "<style scoped>\n",
       "    .dataframe tbody tr th:only-of-type {\n",
       "        vertical-align: middle;\n",
       "    }\n",
       "\n",
       "    .dataframe tbody tr th {\n",
       "        vertical-align: top;\n",
       "    }\n",
       "\n",
       "    .dataframe thead th {\n",
       "        text-align: right;\n",
       "    }\n",
       "</style>\n",
       "<table border=\"1\" class=\"dataframe\">\n",
       "  <thead>\n",
       "    <tr style=\"text-align: right;\">\n",
       "      <th></th>\n",
       "      <th>동별(2)</th>\n",
       "      <th>계 (명)</th>\n",
       "      <th>한국인 (명)</th>\n",
       "      <th>등록외국인 (명)</th>\n",
       "      <th>65세이상고령자 (명)</th>\n",
       "    </tr>\n",
       "  </thead>\n",
       "  <tbody>\n",
       "    <tr>\n",
       "      <th>0</th>\n",
       "      <td>동별(2)</td>\n",
       "      <td>소계</td>\n",
       "      <td>소계</td>\n",
       "      <td>소계</td>\n",
       "      <td>소계</td>\n",
       "    </tr>\n",
       "    <tr>\n",
       "      <th>1</th>\n",
       "      <td>소계</td>\n",
       "      <td>9635445</td>\n",
       "      <td>9384739</td>\n",
       "      <td>250706</td>\n",
       "      <td>1768948</td>\n",
       "    </tr>\n",
       "    <tr>\n",
       "      <th>2</th>\n",
       "      <td>종로구</td>\n",
       "      <td>150550</td>\n",
       "      <td>139498</td>\n",
       "      <td>11052</td>\n",
       "      <td>29127</td>\n",
       "    </tr>\n",
       "    <tr>\n",
       "      <th>3</th>\n",
       "      <td>중구</td>\n",
       "      <td>131812</td>\n",
       "      <td>121602</td>\n",
       "      <td>10210</td>\n",
       "      <td>26302</td>\n",
       "    </tr>\n",
       "    <tr>\n",
       "      <th>4</th>\n",
       "      <td>용산구</td>\n",
       "      <td>223433</td>\n",
       "      <td>209849</td>\n",
       "      <td>13584</td>\n",
       "      <td>39671</td>\n",
       "    </tr>\n",
       "  </tbody>\n",
       "</table>\n",
       "</div>"
      ],
      "text/plain": [
       "   동별(2)    계 (명)  한국인 (명) 등록외국인 (명) 65세이상고령자 (명)\n",
       "0  동별(2)       소계       소계        소계           소계\n",
       "1     소계  9635445  9384739    250706      1768948\n",
       "2    종로구   150550   139498     11052        29127\n",
       "3     중구   131812   121602     10210        26302\n",
       "4    용산구   223433   209849     13584        39671"
      ]
     },
     "execution_count": 11,
     "metadata": {},
     "output_type": "execute_result"
    }
   ],
   "source": [
    "pop_Seoul = pd.read_excel(\"../data/01.Seoul_Population.xlsx\", header = 1, usecols=\"B, D, G, J, N\")\n",
    "pop_Seoul.head()"
   ]
  },
  {
   "cell_type": "code",
   "execution_count": 12,
   "id": "5c0db149-9420-4cc8-9896-d1e0ccb62e3c",
   "metadata": {},
   "outputs": [
    {
     "data": {
      "text/html": [
       "<div>\n",
       "<style scoped>\n",
       "    .dataframe tbody tr th:only-of-type {\n",
       "        vertical-align: middle;\n",
       "    }\n",
       "\n",
       "    .dataframe tbody tr th {\n",
       "        vertical-align: top;\n",
       "    }\n",
       "\n",
       "    .dataframe thead th {\n",
       "        text-align: right;\n",
       "    }\n",
       "</style>\n",
       "<table border=\"1\" class=\"dataframe\">\n",
       "  <thead>\n",
       "    <tr style=\"text-align: right;\">\n",
       "      <th></th>\n",
       "      <th>구별</th>\n",
       "      <th>인구수</th>\n",
       "      <th>한국인</th>\n",
       "      <th>외국인</th>\n",
       "      <th>고령자</th>\n",
       "    </tr>\n",
       "  </thead>\n",
       "  <tbody>\n",
       "    <tr>\n",
       "      <th>0</th>\n",
       "      <td>동별(2)</td>\n",
       "      <td>소계</td>\n",
       "      <td>소계</td>\n",
       "      <td>소계</td>\n",
       "      <td>소계</td>\n",
       "    </tr>\n",
       "    <tr>\n",
       "      <th>1</th>\n",
       "      <td>소계</td>\n",
       "      <td>9635445</td>\n",
       "      <td>9384739</td>\n",
       "      <td>250706</td>\n",
       "      <td>1768948</td>\n",
       "    </tr>\n",
       "    <tr>\n",
       "      <th>2</th>\n",
       "      <td>종로구</td>\n",
       "      <td>150550</td>\n",
       "      <td>139498</td>\n",
       "      <td>11052</td>\n",
       "      <td>29127</td>\n",
       "    </tr>\n",
       "    <tr>\n",
       "      <th>3</th>\n",
       "      <td>중구</td>\n",
       "      <td>131812</td>\n",
       "      <td>121602</td>\n",
       "      <td>10210</td>\n",
       "      <td>26302</td>\n",
       "    </tr>\n",
       "    <tr>\n",
       "      <th>4</th>\n",
       "      <td>용산구</td>\n",
       "      <td>223433</td>\n",
       "      <td>209849</td>\n",
       "      <td>13584</td>\n",
       "      <td>39671</td>\n",
       "    </tr>\n",
       "  </tbody>\n",
       "</table>\n",
       "</div>"
      ],
      "text/plain": [
       "      구별      인구수      한국인     외국인      고령자\n",
       "0  동별(2)       소계       소계      소계       소계\n",
       "1     소계  9635445  9384739  250706  1768948\n",
       "2    종로구   150550   139498   11052    29127\n",
       "3     중구   131812   121602   10210    26302\n",
       "4    용산구   223433   209849   13584    39671"
      ]
     },
     "execution_count": 12,
     "metadata": {},
     "output_type": "execute_result"
    }
   ],
   "source": [
    "pop_Seoul.rename(\n",
    "    columns = {\n",
    "        pop_Seoul.columns[0]: \"구별\",\n",
    "        pop_Seoul.columns[1]: \"인구수\",\n",
    "        pop_Seoul.columns[2]: \"한국인\",\n",
    "        pop_Seoul.columns[3]: \"외국인\",\n",
    "        pop_Seoul.columns[4]: \"고령자\",\n",
    "    },\n",
    "    inplace = True\n",
    ")\n",
    "pop_Seoul.head()"
   ]
  },
  {
   "cell_type": "markdown",
   "id": "d4142cf7-db26-4b47-981c-4740668fb8b4",
   "metadata": {},
   "source": [
    "## Pandas 기초"
   ]
  },
  {
   "cell_type": "code",
   "execution_count": 13,
   "id": "a01dacbf-ef12-4c05-90dc-c4acb612401c",
   "metadata": {},
   "outputs": [],
   "source": [
    "import pandas as pd\n",
    "import numpy as np"
   ]
  },
  {
   "cell_type": "markdown",
   "id": "e335cba1-3eba-4680-b85f-b329b74595aa",
   "metadata": {},
   "source": [
    "- pandas는 통상 pd\n",
    "- numpy는 통상 np"
   ]
  },
  {
   "cell_type": "markdown",
   "id": "fc2f05fa-f43d-4ac8-9cd1-489b2384cab8",
   "metadata": {},
   "source": [
    "### Series\n",
    "- index 와 value 로 이루어져 있다.\n",
    "- 한 가지 데이터 타입만 가질 수 있다."
   ]
  },
  {
   "cell_type": "code",
   "execution_count": 14,
   "id": "0c7839c6-8509-49b1-94b8-6bab485548eb",
   "metadata": {},
   "outputs": [
    {
     "data": {
      "text/plain": [
       "0    1\n",
       "1    2\n",
       "2    3\n",
       "3    4\n",
       "dtype: int64"
      ]
     },
     "execution_count": 14,
     "metadata": {},
     "output_type": "execute_result"
    }
   ],
   "source": [
    "pd.Series([1, 2, 3, 4])"
   ]
  },
  {
   "cell_type": "code",
   "execution_count": 15,
   "id": "ddf7d273-97f1-4acb-b9fd-6d49e205b913",
   "metadata": {},
   "outputs": [
    {
     "data": {
      "text/plain": [
       "0    1.0\n",
       "1    2.0\n",
       "2    3.0\n",
       "3    4.0\n",
       "dtype: float64"
      ]
     },
     "execution_count": 15,
     "metadata": {},
     "output_type": "execute_result"
    }
   ],
   "source": [
    "pd.Series([1, 2, 3, 4], dtype=np.float64)"
   ]
  },
  {
   "cell_type": "code",
   "execution_count": 16,
   "id": "1f365bae-1952-4387-9302-d381bc13b9f9",
   "metadata": {},
   "outputs": [
    {
     "data": {
      "text/plain": [
       "0    1\n",
       "1    2\n",
       "2    3\n",
       "3    4\n",
       "dtype: object"
      ]
     },
     "execution_count": 16,
     "metadata": {},
     "output_type": "execute_result"
    }
   ],
   "source": [
    "pd.Series([1, 2, 3, 4], dtype=str)"
   ]
  },
  {
   "cell_type": "code",
   "execution_count": 17,
   "id": "3ee88af4-7062-41c9-b91d-60c427c3e532",
   "metadata": {},
   "outputs": [
    {
     "data": {
      "text/plain": [
       "Key    Value\n",
       "dtype: object"
      ]
     },
     "execution_count": 17,
     "metadata": {},
     "output_type": "execute_result"
    }
   ],
   "source": [
    "pd.Series({\"Key\": \"Value\"})"
   ]
  },
  {
   "cell_type": "code",
   "execution_count": 18,
   "id": "5c6c8295-268b-4df5-b4ab-e795c84a8dfa",
   "metadata": {},
   "outputs": [
    {
     "data": {
      "text/plain": [
       "0    1\n",
       "1    2\n",
       "2    3\n",
       "3    4\n",
       "dtype: int64"
      ]
     },
     "execution_count": 18,
     "metadata": {},
     "output_type": "execute_result"
    }
   ],
   "source": [
    "data = pd.Series([1, 2, 3, 4])\n",
    "data"
   ]
  },
  {
   "cell_type": "code",
   "execution_count": 19,
   "id": "3e06778b-4432-4ca9-9793-04679efb41d9",
   "metadata": {},
   "outputs": [
    {
     "data": {
      "text/plain": [
       "0    1\n",
       "1    0\n",
       "2    1\n",
       "3    0\n",
       "dtype: int64"
      ]
     },
     "execution_count": 19,
     "metadata": {},
     "output_type": "execute_result"
    }
   ],
   "source": [
    "data % 2"
   ]
  },
  {
   "cell_type": "markdown",
   "id": "88867334-7867-480c-8ba2-86045bfc80cc",
   "metadata": {},
   "source": [
    "### 날짜 데이터"
   ]
  },
  {
   "cell_type": "code",
   "execution_count": 28,
   "id": "46d305f5-159e-45c1-97e0-8d5dc9c01b1c",
   "metadata": {},
   "outputs": [
    {
     "data": {
      "text/plain": [
       "DatetimeIndex(['2021-01-01', '2021-01-02', '2021-01-03', '2021-01-04',\n",
       "               '2021-01-05', '2021-01-06'],\n",
       "              dtype='datetime64[ns]', freq='D')"
      ]
     },
     "execution_count": 28,
     "metadata": {},
     "output_type": "execute_result"
    }
   ],
   "source": [
    "dates = pd.date_range(\"20210101\", periods = 6)\n",
    "dates"
   ]
  },
  {
   "cell_type": "markdown",
   "id": "f8b8d33b-e61f-460d-86b1-dfc2efe1bf11",
   "metadata": {},
   "source": [
    "### DataFrame\n",
    "- pd.Serires()\n",
    "    - index, value 로 구성\n",
    "- pd.DataFrame()\n",
    "    - index, value, column 으로 구성 "
   ]
  },
  {
   "cell_type": "code",
   "execution_count": 24,
   "id": "2c2c196b-eae3-4d04-9835-e441c79ac1ef",
   "metadata": {},
   "outputs": [
    {
     "data": {
      "text/plain": [
       "array([[-0.8949434 , -0.55485455, -0.1605549 , -0.24915404],\n",
       "       [ 0.98903756, -0.25215259,  0.35612287, -0.33706887],\n",
       "       [ 1.2637027 ,  1.04631991,  0.26373277,  0.10804648],\n",
       "       [-1.51193665, -1.65693454, -0.3476639 , -1.62507589],\n",
       "       [-0.03472219,  0.59910413, -0.93853509, -0.91162667],\n",
       "       [ 0.07871935,  0.127529  , -0.24164099,  0.25604657]])"
      ]
     },
     "execution_count": 24,
     "metadata": {},
     "output_type": "execute_result"
    }
   ],
   "source": [
    "# 표준정규분포에서 샘플링한 난수 생성\n",
    "data = np.random.randn(6, 4)\n",
    "data"
   ]
  },
  {
   "cell_type": "code",
   "execution_count": 30,
   "id": "92e5b6fc-2036-480b-a34f-91be8748f958",
   "metadata": {},
   "outputs": [
    {
     "data": {
      "text/html": [
       "<div>\n",
       "<style scoped>\n",
       "    .dataframe tbody tr th:only-of-type {\n",
       "        vertical-align: middle;\n",
       "    }\n",
       "\n",
       "    .dataframe tbody tr th {\n",
       "        vertical-align: top;\n",
       "    }\n",
       "\n",
       "    .dataframe thead th {\n",
       "        text-align: right;\n",
       "    }\n",
       "</style>\n",
       "<table border=\"1\" class=\"dataframe\">\n",
       "  <thead>\n",
       "    <tr style=\"text-align: right;\">\n",
       "      <th></th>\n",
       "      <th>A</th>\n",
       "      <th>B</th>\n",
       "      <th>C</th>\n",
       "      <th>D</th>\n",
       "    </tr>\n",
       "  </thead>\n",
       "  <tbody>\n",
       "    <tr>\n",
       "      <th>2021-01-01</th>\n",
       "      <td>-0.894943</td>\n",
       "      <td>-0.554855</td>\n",
       "      <td>-0.160555</td>\n",
       "      <td>-0.249154</td>\n",
       "    </tr>\n",
       "    <tr>\n",
       "      <th>2021-01-02</th>\n",
       "      <td>0.989038</td>\n",
       "      <td>-0.252153</td>\n",
       "      <td>0.356123</td>\n",
       "      <td>-0.337069</td>\n",
       "    </tr>\n",
       "    <tr>\n",
       "      <th>2021-01-03</th>\n",
       "      <td>1.263703</td>\n",
       "      <td>1.046320</td>\n",
       "      <td>0.263733</td>\n",
       "      <td>0.108046</td>\n",
       "    </tr>\n",
       "    <tr>\n",
       "      <th>2021-01-04</th>\n",
       "      <td>-1.511937</td>\n",
       "      <td>-1.656935</td>\n",
       "      <td>-0.347664</td>\n",
       "      <td>-1.625076</td>\n",
       "    </tr>\n",
       "    <tr>\n",
       "      <th>2021-01-05</th>\n",
       "      <td>-0.034722</td>\n",
       "      <td>0.599104</td>\n",
       "      <td>-0.938535</td>\n",
       "      <td>-0.911627</td>\n",
       "    </tr>\n",
       "    <tr>\n",
       "      <th>2021-01-06</th>\n",
       "      <td>0.078719</td>\n",
       "      <td>0.127529</td>\n",
       "      <td>-0.241641</td>\n",
       "      <td>0.256047</td>\n",
       "    </tr>\n",
       "  </tbody>\n",
       "</table>\n",
       "</div>"
      ],
      "text/plain": [
       "                   A         B         C         D\n",
       "2021-01-01 -0.894943 -0.554855 -0.160555 -0.249154\n",
       "2021-01-02  0.989038 -0.252153  0.356123 -0.337069\n",
       "2021-01-03  1.263703  1.046320  0.263733  0.108046\n",
       "2021-01-04 -1.511937 -1.656935 -0.347664 -1.625076\n",
       "2021-01-05 -0.034722  0.599104 -0.938535 -0.911627\n",
       "2021-01-06  0.078719  0.127529 -0.241641  0.256047"
      ]
     },
     "execution_count": 30,
     "metadata": {},
     "output_type": "execute_result"
    }
   ],
   "source": [
    "# DataFrame(data, index, columns)\n",
    "df = pd.DataFrame(data, index = dates, columns = [\"A\", \"B\", \"C\", \"D\"])\n",
    "df"
   ]
  },
  {
   "cell_type": "markdown",
   "id": "b4cba949-6f3b-44e2-a7ea-8de5b265dfd5",
   "metadata": {},
   "source": [
    "#### 데이터 프레임 정보 탐색"
   ]
  },
  {
   "cell_type": "code",
   "execution_count": 33,
   "id": "8de0c11e-90db-4491-9ce3-fb81a3279266",
   "metadata": {},
   "outputs": [
    {
     "data": {
      "text/html": [
       "<div>\n",
       "<style scoped>\n",
       "    .dataframe tbody tr th:only-of-type {\n",
       "        vertical-align: middle;\n",
       "    }\n",
       "\n",
       "    .dataframe tbody tr th {\n",
       "        vertical-align: top;\n",
       "    }\n",
       "\n",
       "    .dataframe thead th {\n",
       "        text-align: right;\n",
       "    }\n",
       "</style>\n",
       "<table border=\"1\" class=\"dataframe\">\n",
       "  <thead>\n",
       "    <tr style=\"text-align: right;\">\n",
       "      <th></th>\n",
       "      <th>A</th>\n",
       "      <th>B</th>\n",
       "      <th>C</th>\n",
       "      <th>D</th>\n",
       "    </tr>\n",
       "  </thead>\n",
       "  <tbody>\n",
       "    <tr>\n",
       "      <th>2021-01-01</th>\n",
       "      <td>-0.894943</td>\n",
       "      <td>-0.554855</td>\n",
       "      <td>-0.160555</td>\n",
       "      <td>-0.249154</td>\n",
       "    </tr>\n",
       "    <tr>\n",
       "      <th>2021-01-02</th>\n",
       "      <td>0.989038</td>\n",
       "      <td>-0.252153</td>\n",
       "      <td>0.356123</td>\n",
       "      <td>-0.337069</td>\n",
       "    </tr>\n",
       "    <tr>\n",
       "      <th>2021-01-03</th>\n",
       "      <td>1.263703</td>\n",
       "      <td>1.046320</td>\n",
       "      <td>0.263733</td>\n",
       "      <td>0.108046</td>\n",
       "    </tr>\n",
       "    <tr>\n",
       "      <th>2021-01-04</th>\n",
       "      <td>-1.511937</td>\n",
       "      <td>-1.656935</td>\n",
       "      <td>-0.347664</td>\n",
       "      <td>-1.625076</td>\n",
       "    </tr>\n",
       "    <tr>\n",
       "      <th>2021-01-05</th>\n",
       "      <td>-0.034722</td>\n",
       "      <td>0.599104</td>\n",
       "      <td>-0.938535</td>\n",
       "      <td>-0.911627</td>\n",
       "    </tr>\n",
       "  </tbody>\n",
       "</table>\n",
       "</div>"
      ],
      "text/plain": [
       "                   A         B         C         D\n",
       "2021-01-01 -0.894943 -0.554855 -0.160555 -0.249154\n",
       "2021-01-02  0.989038 -0.252153  0.356123 -0.337069\n",
       "2021-01-03  1.263703  1.046320  0.263733  0.108046\n",
       "2021-01-04 -1.511937 -1.656935 -0.347664 -1.625076\n",
       "2021-01-05 -0.034722  0.599104 -0.938535 -0.911627"
      ]
     },
     "execution_count": 33,
     "metadata": {},
     "output_type": "execute_result"
    }
   ],
   "source": [
    "# df.head(default = 5)\n",
    "df.head()"
   ]
  },
  {
   "cell_type": "code",
   "execution_count": 34,
   "id": "f72215f9-05d4-4787-8c0b-90eda5fe31c6",
   "metadata": {},
   "outputs": [
    {
     "data": {
      "text/html": [
       "<div>\n",
       "<style scoped>\n",
       "    .dataframe tbody tr th:only-of-type {\n",
       "        vertical-align: middle;\n",
       "    }\n",
       "\n",
       "    .dataframe tbody tr th {\n",
       "        vertical-align: top;\n",
       "    }\n",
       "\n",
       "    .dataframe thead th {\n",
       "        text-align: right;\n",
       "    }\n",
       "</style>\n",
       "<table border=\"1\" class=\"dataframe\">\n",
       "  <thead>\n",
       "    <tr style=\"text-align: right;\">\n",
       "      <th></th>\n",
       "      <th>A</th>\n",
       "      <th>B</th>\n",
       "      <th>C</th>\n",
       "      <th>D</th>\n",
       "    </tr>\n",
       "  </thead>\n",
       "  <tbody>\n",
       "    <tr>\n",
       "      <th>2021-01-02</th>\n",
       "      <td>0.989038</td>\n",
       "      <td>-0.252153</td>\n",
       "      <td>0.356123</td>\n",
       "      <td>-0.337069</td>\n",
       "    </tr>\n",
       "    <tr>\n",
       "      <th>2021-01-03</th>\n",
       "      <td>1.263703</td>\n",
       "      <td>1.046320</td>\n",
       "      <td>0.263733</td>\n",
       "      <td>0.108046</td>\n",
       "    </tr>\n",
       "    <tr>\n",
       "      <th>2021-01-04</th>\n",
       "      <td>-1.511937</td>\n",
       "      <td>-1.656935</td>\n",
       "      <td>-0.347664</td>\n",
       "      <td>-1.625076</td>\n",
       "    </tr>\n",
       "    <tr>\n",
       "      <th>2021-01-05</th>\n",
       "      <td>-0.034722</td>\n",
       "      <td>0.599104</td>\n",
       "      <td>-0.938535</td>\n",
       "      <td>-0.911627</td>\n",
       "    </tr>\n",
       "    <tr>\n",
       "      <th>2021-01-06</th>\n",
       "      <td>0.078719</td>\n",
       "      <td>0.127529</td>\n",
       "      <td>-0.241641</td>\n",
       "      <td>0.256047</td>\n",
       "    </tr>\n",
       "  </tbody>\n",
       "</table>\n",
       "</div>"
      ],
      "text/plain": [
       "                   A         B         C         D\n",
       "2021-01-02  0.989038 -0.252153  0.356123 -0.337069\n",
       "2021-01-03  1.263703  1.046320  0.263733  0.108046\n",
       "2021-01-04 -1.511937 -1.656935 -0.347664 -1.625076\n",
       "2021-01-05 -0.034722  0.599104 -0.938535 -0.911627\n",
       "2021-01-06  0.078719  0.127529 -0.241641  0.256047"
      ]
     },
     "execution_count": 34,
     "metadata": {},
     "output_type": "execute_result"
    }
   ],
   "source": [
    "df.tail()"
   ]
  },
  {
   "cell_type": "code",
   "execution_count": 36,
   "id": "b9fd780f-b93f-4a52-83c3-474a08fccf93",
   "metadata": {},
   "outputs": [
    {
     "data": {
      "text/plain": [
       "DatetimeIndex(['2021-01-01', '2021-01-02', '2021-01-03', '2021-01-04',\n",
       "               '2021-01-05', '2021-01-06'],\n",
       "              dtype='datetime64[ns]', freq='D')"
      ]
     },
     "execution_count": 36,
     "metadata": {},
     "output_type": "execute_result"
    }
   ],
   "source": [
    "df.index"
   ]
  },
  {
   "cell_type": "code",
   "execution_count": 37,
   "id": "2b055c6a-0219-4565-a4e0-d863ba73170e",
   "metadata": {},
   "outputs": [
    {
     "data": {
      "text/plain": [
       "Index(['A', 'B', 'C', 'D'], dtype='object')"
      ]
     },
     "execution_count": 37,
     "metadata": {},
     "output_type": "execute_result"
    }
   ],
   "source": [
    "df.columns"
   ]
  },
  {
   "cell_type": "code",
   "execution_count": 38,
   "id": "6dad0823-f3a6-4c6a-8979-69bd774ffa51",
   "metadata": {},
   "outputs": [
    {
     "data": {
      "text/plain": [
       "array([[-0.8949434 , -0.55485455, -0.1605549 , -0.24915404],\n",
       "       [ 0.98903756, -0.25215259,  0.35612287, -0.33706887],\n",
       "       [ 1.2637027 ,  1.04631991,  0.26373277,  0.10804648],\n",
       "       [-1.51193665, -1.65693454, -0.3476639 , -1.62507589],\n",
       "       [-0.03472219,  0.59910413, -0.93853509, -0.91162667],\n",
       "       [ 0.07871935,  0.127529  , -0.24164099,  0.25604657]])"
      ]
     },
     "execution_count": 38,
     "metadata": {},
     "output_type": "execute_result"
    }
   ],
   "source": [
    "df.values"
   ]
  },
  {
   "cell_type": "markdown",
   "id": "4fb02d7e-ce8f-426f-82b3-46e95d177e70",
   "metadata": {},
   "source": [
    "- df.info(): 데이터 프레임의 기본 정보 확인"
   ]
  },
  {
   "cell_type": "code",
   "execution_count": 39,
   "id": "164d55bc-b4f8-4f86-83b2-a8807730d40e",
   "metadata": {},
   "outputs": [
    {
     "name": "stdout",
     "output_type": "stream",
     "text": [
      "<class 'pandas.core.frame.DataFrame'>\n",
      "DatetimeIndex: 6 entries, 2021-01-01 to 2021-01-06\n",
      "Freq: D\n",
      "Data columns (total 4 columns):\n",
      " #   Column  Non-Null Count  Dtype  \n",
      "---  ------  --------------  -----  \n",
      " 0   A       6 non-null      float64\n",
      " 1   B       6 non-null      float64\n",
      " 2   C       6 non-null      float64\n",
      " 3   D       6 non-null      float64\n",
      "dtypes: float64(4)\n",
      "memory usage: 240.0 bytes\n"
     ]
    }
   ],
   "source": [
    "df.info()"
   ]
  },
  {
   "cell_type": "markdown",
   "id": "fdc54ce5-7a96-4275-8dd3-f3cd5984fd64",
   "metadata": {},
   "source": [
    "- df.describe() : 데이터 프레임의 기술통계 정보 확인"
   ]
  },
  {
   "cell_type": "code",
   "execution_count": 40,
   "id": "29131ce3-6ee9-42fc-9173-de67a812145b",
   "metadata": {},
   "outputs": [
    {
     "data": {
      "text/html": [
       "<div>\n",
       "<style scoped>\n",
       "    .dataframe tbody tr th:only-of-type {\n",
       "        vertical-align: middle;\n",
       "    }\n",
       "\n",
       "    .dataframe tbody tr th {\n",
       "        vertical-align: top;\n",
       "    }\n",
       "\n",
       "    .dataframe thead th {\n",
       "        text-align: right;\n",
       "    }\n",
       "</style>\n",
       "<table border=\"1\" class=\"dataframe\">\n",
       "  <thead>\n",
       "    <tr style=\"text-align: right;\">\n",
       "      <th></th>\n",
       "      <th>A</th>\n",
       "      <th>B</th>\n",
       "      <th>C</th>\n",
       "      <th>D</th>\n",
       "    </tr>\n",
       "  </thead>\n",
       "  <tbody>\n",
       "    <tr>\n",
       "      <th>count</th>\n",
       "      <td>6.000000</td>\n",
       "      <td>6.000000</td>\n",
       "      <td>6.000000</td>\n",
       "      <td>6.000000</td>\n",
       "    </tr>\n",
       "    <tr>\n",
       "      <th>mean</th>\n",
       "      <td>-0.018357</td>\n",
       "      <td>-0.115165</td>\n",
       "      <td>-0.178090</td>\n",
       "      <td>-0.459805</td>\n",
       "    </tr>\n",
       "    <tr>\n",
       "      <th>std</th>\n",
       "      <td>1.064650</td>\n",
       "      <td>0.949450</td>\n",
       "      <td>0.467326</td>\n",
       "      <td>0.700905</td>\n",
       "    </tr>\n",
       "    <tr>\n",
       "      <th>min</th>\n",
       "      <td>-1.511937</td>\n",
       "      <td>-1.656935</td>\n",
       "      <td>-0.938535</td>\n",
       "      <td>-1.625076</td>\n",
       "    </tr>\n",
       "    <tr>\n",
       "      <th>25%</th>\n",
       "      <td>-0.679888</td>\n",
       "      <td>-0.479179</td>\n",
       "      <td>-0.321158</td>\n",
       "      <td>-0.767987</td>\n",
       "    </tr>\n",
       "    <tr>\n",
       "      <th>50%</th>\n",
       "      <td>0.021999</td>\n",
       "      <td>-0.062312</td>\n",
       "      <td>-0.201098</td>\n",
       "      <td>-0.293111</td>\n",
       "    </tr>\n",
       "    <tr>\n",
       "      <th>75%</th>\n",
       "      <td>0.761458</td>\n",
       "      <td>0.481210</td>\n",
       "      <td>0.157661</td>\n",
       "      <td>0.018746</td>\n",
       "    </tr>\n",
       "    <tr>\n",
       "      <th>max</th>\n",
       "      <td>1.263703</td>\n",
       "      <td>1.046320</td>\n",
       "      <td>0.356123</td>\n",
       "      <td>0.256047</td>\n",
       "    </tr>\n",
       "  </tbody>\n",
       "</table>\n",
       "</div>"
      ],
      "text/plain": [
       "              A         B         C         D\n",
       "count  6.000000  6.000000  6.000000  6.000000\n",
       "mean  -0.018357 -0.115165 -0.178090 -0.459805\n",
       "std    1.064650  0.949450  0.467326  0.700905\n",
       "min   -1.511937 -1.656935 -0.938535 -1.625076\n",
       "25%   -0.679888 -0.479179 -0.321158 -0.767987\n",
       "50%    0.021999 -0.062312 -0.201098 -0.293111\n",
       "75%    0.761458  0.481210  0.157661  0.018746\n",
       "max    1.263703  1.046320  0.356123  0.256047"
      ]
     },
     "execution_count": 40,
     "metadata": {},
     "output_type": "execute_result"
    }
   ],
   "source": [
    "df.describe()"
   ]
  },
  {
   "cell_type": "markdown",
   "id": "c67bfbdb-38c0-47e0-9b02-acbfb29012ab",
   "metadata": {},
   "source": [
    "#### 데이터 정렬\n",
    "- sort_values()\n",
    "    - 특정 컬럼을 기준으로 데이터를 정렬"
   ]
  },
  {
   "cell_type": "code",
   "execution_count": 41,
   "id": "abc013a8-c13f-4443-964a-9a8e4b304819",
   "metadata": {},
   "outputs": [
    {
     "data": {
      "text/html": [
       "<div>\n",
       "<style scoped>\n",
       "    .dataframe tbody tr th:only-of-type {\n",
       "        vertical-align: middle;\n",
       "    }\n",
       "\n",
       "    .dataframe tbody tr th {\n",
       "        vertical-align: top;\n",
       "    }\n",
       "\n",
       "    .dataframe thead th {\n",
       "        text-align: right;\n",
       "    }\n",
       "</style>\n",
       "<table border=\"1\" class=\"dataframe\">\n",
       "  <thead>\n",
       "    <tr style=\"text-align: right;\">\n",
       "      <th></th>\n",
       "      <th>A</th>\n",
       "      <th>B</th>\n",
       "      <th>C</th>\n",
       "      <th>D</th>\n",
       "    </tr>\n",
       "  </thead>\n",
       "  <tbody>\n",
       "    <tr>\n",
       "      <th>2021-01-01</th>\n",
       "      <td>-0.894943</td>\n",
       "      <td>-0.554855</td>\n",
       "      <td>-0.160555</td>\n",
       "      <td>-0.249154</td>\n",
       "    </tr>\n",
       "    <tr>\n",
       "      <th>2021-01-02</th>\n",
       "      <td>0.989038</td>\n",
       "      <td>-0.252153</td>\n",
       "      <td>0.356123</td>\n",
       "      <td>-0.337069</td>\n",
       "    </tr>\n",
       "    <tr>\n",
       "      <th>2021-01-03</th>\n",
       "      <td>1.263703</td>\n",
       "      <td>1.046320</td>\n",
       "      <td>0.263733</td>\n",
       "      <td>0.108046</td>\n",
       "    </tr>\n",
       "    <tr>\n",
       "      <th>2021-01-04</th>\n",
       "      <td>-1.511937</td>\n",
       "      <td>-1.656935</td>\n",
       "      <td>-0.347664</td>\n",
       "      <td>-1.625076</td>\n",
       "    </tr>\n",
       "    <tr>\n",
       "      <th>2021-01-05</th>\n",
       "      <td>-0.034722</td>\n",
       "      <td>0.599104</td>\n",
       "      <td>-0.938535</td>\n",
       "      <td>-0.911627</td>\n",
       "    </tr>\n",
       "    <tr>\n",
       "      <th>2021-01-06</th>\n",
       "      <td>0.078719</td>\n",
       "      <td>0.127529</td>\n",
       "      <td>-0.241641</td>\n",
       "      <td>0.256047</td>\n",
       "    </tr>\n",
       "  </tbody>\n",
       "</table>\n",
       "</div>"
      ],
      "text/plain": [
       "                   A         B         C         D\n",
       "2021-01-01 -0.894943 -0.554855 -0.160555 -0.249154\n",
       "2021-01-02  0.989038 -0.252153  0.356123 -0.337069\n",
       "2021-01-03  1.263703  1.046320  0.263733  0.108046\n",
       "2021-01-04 -1.511937 -1.656935 -0.347664 -1.625076\n",
       "2021-01-05 -0.034722  0.599104 -0.938535 -0.911627\n",
       "2021-01-06  0.078719  0.127529 -0.241641  0.256047"
      ]
     },
     "execution_count": 41,
     "metadata": {},
     "output_type": "execute_result"
    }
   ],
   "source": [
    "df"
   ]
  },
  {
   "cell_type": "code",
   "execution_count": 45,
   "id": "421a9148-cae7-4b24-bf45-39a1fa1ade8f",
   "metadata": {},
   "outputs": [],
   "source": [
    "df.sort_values(by=\"B\", ascending=False, inplace = True)"
   ]
  },
  {
   "cell_type": "code",
   "execution_count": 46,
   "id": "0b5108a7-167d-43f5-978a-3460ffd6a6b0",
   "metadata": {},
   "outputs": [
    {
     "data": {
      "text/html": [
       "<div>\n",
       "<style scoped>\n",
       "    .dataframe tbody tr th:only-of-type {\n",
       "        vertical-align: middle;\n",
       "    }\n",
       "\n",
       "    .dataframe tbody tr th {\n",
       "        vertical-align: top;\n",
       "    }\n",
       "\n",
       "    .dataframe thead th {\n",
       "        text-align: right;\n",
       "    }\n",
       "</style>\n",
       "<table border=\"1\" class=\"dataframe\">\n",
       "  <thead>\n",
       "    <tr style=\"text-align: right;\">\n",
       "      <th></th>\n",
       "      <th>A</th>\n",
       "      <th>B</th>\n",
       "      <th>C</th>\n",
       "      <th>D</th>\n",
       "    </tr>\n",
       "  </thead>\n",
       "  <tbody>\n",
       "    <tr>\n",
       "      <th>2021-01-03</th>\n",
       "      <td>1.263703</td>\n",
       "      <td>1.046320</td>\n",
       "      <td>0.263733</td>\n",
       "      <td>0.108046</td>\n",
       "    </tr>\n",
       "    <tr>\n",
       "      <th>2021-01-05</th>\n",
       "      <td>-0.034722</td>\n",
       "      <td>0.599104</td>\n",
       "      <td>-0.938535</td>\n",
       "      <td>-0.911627</td>\n",
       "    </tr>\n",
       "    <tr>\n",
       "      <th>2021-01-06</th>\n",
       "      <td>0.078719</td>\n",
       "      <td>0.127529</td>\n",
       "      <td>-0.241641</td>\n",
       "      <td>0.256047</td>\n",
       "    </tr>\n",
       "    <tr>\n",
       "      <th>2021-01-02</th>\n",
       "      <td>0.989038</td>\n",
       "      <td>-0.252153</td>\n",
       "      <td>0.356123</td>\n",
       "      <td>-0.337069</td>\n",
       "    </tr>\n",
       "    <tr>\n",
       "      <th>2021-01-01</th>\n",
       "      <td>-0.894943</td>\n",
       "      <td>-0.554855</td>\n",
       "      <td>-0.160555</td>\n",
       "      <td>-0.249154</td>\n",
       "    </tr>\n",
       "    <tr>\n",
       "      <th>2021-01-04</th>\n",
       "      <td>-1.511937</td>\n",
       "      <td>-1.656935</td>\n",
       "      <td>-0.347664</td>\n",
       "      <td>-1.625076</td>\n",
       "    </tr>\n",
       "  </tbody>\n",
       "</table>\n",
       "</div>"
      ],
      "text/plain": [
       "                   A         B         C         D\n",
       "2021-01-03  1.263703  1.046320  0.263733  0.108046\n",
       "2021-01-05 -0.034722  0.599104 -0.938535 -0.911627\n",
       "2021-01-06  0.078719  0.127529 -0.241641  0.256047\n",
       "2021-01-02  0.989038 -0.252153  0.356123 -0.337069\n",
       "2021-01-01 -0.894943 -0.554855 -0.160555 -0.249154\n",
       "2021-01-04 -1.511937 -1.656935 -0.347664 -1.625076"
      ]
     },
     "execution_count": 46,
     "metadata": {},
     "output_type": "execute_result"
    }
   ],
   "source": [
    "df"
   ]
  },
  {
   "cell_type": "markdown",
   "id": "a111b280-f98b-4921-a8a0-b7271adcc668",
   "metadata": {},
   "source": [
    "#### 데이터 선택"
   ]
  },
  {
   "cell_type": "code",
   "execution_count": 47,
   "id": "a6a6b1c8-0efb-4ca6-9da3-956f39965b16",
   "metadata": {},
   "outputs": [
    {
     "data": {
      "text/html": [
       "<div>\n",
       "<style scoped>\n",
       "    .dataframe tbody tr th:only-of-type {\n",
       "        vertical-align: middle;\n",
       "    }\n",
       "\n",
       "    .dataframe tbody tr th {\n",
       "        vertical-align: top;\n",
       "    }\n",
       "\n",
       "    .dataframe thead th {\n",
       "        text-align: right;\n",
       "    }\n",
       "</style>\n",
       "<table border=\"1\" class=\"dataframe\">\n",
       "  <thead>\n",
       "    <tr style=\"text-align: right;\">\n",
       "      <th></th>\n",
       "      <th>A</th>\n",
       "      <th>B</th>\n",
       "      <th>C</th>\n",
       "      <th>D</th>\n",
       "    </tr>\n",
       "  </thead>\n",
       "  <tbody>\n",
       "    <tr>\n",
       "      <th>2021-01-03</th>\n",
       "      <td>1.263703</td>\n",
       "      <td>1.046320</td>\n",
       "      <td>0.263733</td>\n",
       "      <td>0.108046</td>\n",
       "    </tr>\n",
       "    <tr>\n",
       "      <th>2021-01-05</th>\n",
       "      <td>-0.034722</td>\n",
       "      <td>0.599104</td>\n",
       "      <td>-0.938535</td>\n",
       "      <td>-0.911627</td>\n",
       "    </tr>\n",
       "    <tr>\n",
       "      <th>2021-01-06</th>\n",
       "      <td>0.078719</td>\n",
       "      <td>0.127529</td>\n",
       "      <td>-0.241641</td>\n",
       "      <td>0.256047</td>\n",
       "    </tr>\n",
       "    <tr>\n",
       "      <th>2021-01-02</th>\n",
       "      <td>0.989038</td>\n",
       "      <td>-0.252153</td>\n",
       "      <td>0.356123</td>\n",
       "      <td>-0.337069</td>\n",
       "    </tr>\n",
       "    <tr>\n",
       "      <th>2021-01-01</th>\n",
       "      <td>-0.894943</td>\n",
       "      <td>-0.554855</td>\n",
       "      <td>-0.160555</td>\n",
       "      <td>-0.249154</td>\n",
       "    </tr>\n",
       "    <tr>\n",
       "      <th>2021-01-04</th>\n",
       "      <td>-1.511937</td>\n",
       "      <td>-1.656935</td>\n",
       "      <td>-0.347664</td>\n",
       "      <td>-1.625076</td>\n",
       "    </tr>\n",
       "  </tbody>\n",
       "</table>\n",
       "</div>"
      ],
      "text/plain": [
       "                   A         B         C         D\n",
       "2021-01-03  1.263703  1.046320  0.263733  0.108046\n",
       "2021-01-05 -0.034722  0.599104 -0.938535 -0.911627\n",
       "2021-01-06  0.078719  0.127529 -0.241641  0.256047\n",
       "2021-01-02  0.989038 -0.252153  0.356123 -0.337069\n",
       "2021-01-01 -0.894943 -0.554855 -0.160555 -0.249154\n",
       "2021-01-04 -1.511937 -1.656935 -0.347664 -1.625076"
      ]
     },
     "execution_count": 47,
     "metadata": {},
     "output_type": "execute_result"
    }
   ],
   "source": [
    "df"
   ]
  },
  {
   "cell_type": "code",
   "execution_count": 48,
   "id": "cce7ee7b-3e34-4ab0-b5b2-bd19c9e73038",
   "metadata": {},
   "outputs": [
    {
     "data": {
      "text/plain": [
       "2021-01-03    1.263703\n",
       "2021-01-05   -0.034722\n",
       "2021-01-06    0.078719\n",
       "2021-01-02    0.989038\n",
       "2021-01-01   -0.894943\n",
       "2021-01-04   -1.511937\n",
       "Name: A, dtype: float64"
      ]
     },
     "execution_count": 48,
     "metadata": {},
     "output_type": "execute_result"
    }
   ],
   "source": [
    "# 한 개 컬럼 선택\n",
    "df[\"A\"]"
   ]
  },
  {
   "cell_type": "code",
   "execution_count": 49,
   "id": "2418c6d7-3681-42fa-a676-658d3a92250d",
   "metadata": {},
   "outputs": [
    {
     "data": {
      "text/plain": [
       "pandas.core.series.Series"
      ]
     },
     "execution_count": 49,
     "metadata": {},
     "output_type": "execute_result"
    }
   ],
   "source": [
    "type(df[\"A\"])"
   ]
  },
  {
   "cell_type": "code",
   "execution_count": 50,
   "id": "6a6d9b81-42bf-4a1a-ae98-71ee5ced10e3",
   "metadata": {},
   "outputs": [
    {
     "data": {
      "text/plain": [
       "2021-01-03    1.263703\n",
       "2021-01-05   -0.034722\n",
       "2021-01-06    0.078719\n",
       "2021-01-02    0.989038\n",
       "2021-01-01   -0.894943\n",
       "2021-01-04   -1.511937\n",
       "Name: A, dtype: float64"
      ]
     },
     "execution_count": 50,
     "metadata": {},
     "output_type": "execute_result"
    }
   ],
   "source": [
    "df.A # 컬럼명이 문자인 경우는 \"\" 괄호 제거 가능"
   ]
  },
  {
   "cell_type": "code",
   "execution_count": 51,
   "id": "f1081d3b-eb80-4dfc-8a2b-5ea8e186b9d0",
   "metadata": {},
   "outputs": [
    {
     "data": {
      "text/html": [
       "<div>\n",
       "<style scoped>\n",
       "    .dataframe tbody tr th:only-of-type {\n",
       "        vertical-align: middle;\n",
       "    }\n",
       "\n",
       "    .dataframe tbody tr th {\n",
       "        vertical-align: top;\n",
       "    }\n",
       "\n",
       "    .dataframe thead th {\n",
       "        text-align: right;\n",
       "    }\n",
       "</style>\n",
       "<table border=\"1\" class=\"dataframe\">\n",
       "  <thead>\n",
       "    <tr style=\"text-align: right;\">\n",
       "      <th></th>\n",
       "      <th>A</th>\n",
       "      <th>B</th>\n",
       "    </tr>\n",
       "  </thead>\n",
       "  <tbody>\n",
       "    <tr>\n",
       "      <th>2021-01-03</th>\n",
       "      <td>1.263703</td>\n",
       "      <td>1.046320</td>\n",
       "    </tr>\n",
       "    <tr>\n",
       "      <th>2021-01-05</th>\n",
       "      <td>-0.034722</td>\n",
       "      <td>0.599104</td>\n",
       "    </tr>\n",
       "    <tr>\n",
       "      <th>2021-01-06</th>\n",
       "      <td>0.078719</td>\n",
       "      <td>0.127529</td>\n",
       "    </tr>\n",
       "    <tr>\n",
       "      <th>2021-01-02</th>\n",
       "      <td>0.989038</td>\n",
       "      <td>-0.252153</td>\n",
       "    </tr>\n",
       "    <tr>\n",
       "      <th>2021-01-01</th>\n",
       "      <td>-0.894943</td>\n",
       "      <td>-0.554855</td>\n",
       "    </tr>\n",
       "    <tr>\n",
       "      <th>2021-01-04</th>\n",
       "      <td>-1.511937</td>\n",
       "      <td>-1.656935</td>\n",
       "    </tr>\n",
       "  </tbody>\n",
       "</table>\n",
       "</div>"
      ],
      "text/plain": [
       "                   A         B\n",
       "2021-01-03  1.263703  1.046320\n",
       "2021-01-05 -0.034722  0.599104\n",
       "2021-01-06  0.078719  0.127529\n",
       "2021-01-02  0.989038 -0.252153\n",
       "2021-01-01 -0.894943 -0.554855\n",
       "2021-01-04 -1.511937 -1.656935"
      ]
     },
     "execution_count": 51,
     "metadata": {},
     "output_type": "execute_result"
    }
   ],
   "source": [
    "# 두 개 이상 컬럼 선택\n",
    "df[[\"A\", \"B\"]]"
   ]
  },
  {
   "cell_type": "markdown",
   "id": "d0b56dd6-88ce-43ce-bed8-40f878669400",
   "metadata": {},
   "source": [
    "#### offset index\n",
    "- [n:m] : n부터 m-1 까지\n",
    "- 인덱스나 컬럼의 이름으로 slice 하는 경우는 끝을 포함한다."
   ]
  },
  {
   "cell_type": "code",
   "execution_count": 52,
   "id": "bb5eeb2e-496b-4346-afce-69f52d9911c2",
   "metadata": {},
   "outputs": [
    {
     "data": {
      "text/html": [
       "<div>\n",
       "<style scoped>\n",
       "    .dataframe tbody tr th:only-of-type {\n",
       "        vertical-align: middle;\n",
       "    }\n",
       "\n",
       "    .dataframe tbody tr th {\n",
       "        vertical-align: top;\n",
       "    }\n",
       "\n",
       "    .dataframe thead th {\n",
       "        text-align: right;\n",
       "    }\n",
       "</style>\n",
       "<table border=\"1\" class=\"dataframe\">\n",
       "  <thead>\n",
       "    <tr style=\"text-align: right;\">\n",
       "      <th></th>\n",
       "      <th>A</th>\n",
       "      <th>B</th>\n",
       "      <th>C</th>\n",
       "      <th>D</th>\n",
       "    </tr>\n",
       "  </thead>\n",
       "  <tbody>\n",
       "    <tr>\n",
       "      <th>2021-01-03</th>\n",
       "      <td>1.263703</td>\n",
       "      <td>1.046320</td>\n",
       "      <td>0.263733</td>\n",
       "      <td>0.108046</td>\n",
       "    </tr>\n",
       "    <tr>\n",
       "      <th>2021-01-05</th>\n",
       "      <td>-0.034722</td>\n",
       "      <td>0.599104</td>\n",
       "      <td>-0.938535</td>\n",
       "      <td>-0.911627</td>\n",
       "    </tr>\n",
       "    <tr>\n",
       "      <th>2021-01-06</th>\n",
       "      <td>0.078719</td>\n",
       "      <td>0.127529</td>\n",
       "      <td>-0.241641</td>\n",
       "      <td>0.256047</td>\n",
       "    </tr>\n",
       "    <tr>\n",
       "      <th>2021-01-02</th>\n",
       "      <td>0.989038</td>\n",
       "      <td>-0.252153</td>\n",
       "      <td>0.356123</td>\n",
       "      <td>-0.337069</td>\n",
       "    </tr>\n",
       "    <tr>\n",
       "      <th>2021-01-01</th>\n",
       "      <td>-0.894943</td>\n",
       "      <td>-0.554855</td>\n",
       "      <td>-0.160555</td>\n",
       "      <td>-0.249154</td>\n",
       "    </tr>\n",
       "    <tr>\n",
       "      <th>2021-01-04</th>\n",
       "      <td>-1.511937</td>\n",
       "      <td>-1.656935</td>\n",
       "      <td>-0.347664</td>\n",
       "      <td>-1.625076</td>\n",
       "    </tr>\n",
       "  </tbody>\n",
       "</table>\n",
       "</div>"
      ],
      "text/plain": [
       "                   A         B         C         D\n",
       "2021-01-03  1.263703  1.046320  0.263733  0.108046\n",
       "2021-01-05 -0.034722  0.599104 -0.938535 -0.911627\n",
       "2021-01-06  0.078719  0.127529 -0.241641  0.256047\n",
       "2021-01-02  0.989038 -0.252153  0.356123 -0.337069\n",
       "2021-01-01 -0.894943 -0.554855 -0.160555 -0.249154\n",
       "2021-01-04 -1.511937 -1.656935 -0.347664 -1.625076"
      ]
     },
     "execution_count": 52,
     "metadata": {},
     "output_type": "execute_result"
    }
   ],
   "source": [
    "df"
   ]
  },
  {
   "cell_type": "code",
   "execution_count": 53,
   "id": "0d7424bc-1880-425a-b9d5-a59aae31f47b",
   "metadata": {},
   "outputs": [
    {
     "data": {
      "text/html": [
       "<div>\n",
       "<style scoped>\n",
       "    .dataframe tbody tr th:only-of-type {\n",
       "        vertical-align: middle;\n",
       "    }\n",
       "\n",
       "    .dataframe tbody tr th {\n",
       "        vertical-align: top;\n",
       "    }\n",
       "\n",
       "    .dataframe thead th {\n",
       "        text-align: right;\n",
       "    }\n",
       "</style>\n",
       "<table border=\"1\" class=\"dataframe\">\n",
       "  <thead>\n",
       "    <tr style=\"text-align: right;\">\n",
       "      <th></th>\n",
       "      <th>A</th>\n",
       "      <th>B</th>\n",
       "      <th>C</th>\n",
       "      <th>D</th>\n",
       "    </tr>\n",
       "  </thead>\n",
       "  <tbody>\n",
       "    <tr>\n",
       "      <th>2021-01-03</th>\n",
       "      <td>1.263703</td>\n",
       "      <td>1.046320</td>\n",
       "      <td>0.263733</td>\n",
       "      <td>0.108046</td>\n",
       "    </tr>\n",
       "    <tr>\n",
       "      <th>2021-01-05</th>\n",
       "      <td>-0.034722</td>\n",
       "      <td>0.599104</td>\n",
       "      <td>-0.938535</td>\n",
       "      <td>-0.911627</td>\n",
       "    </tr>\n",
       "    <tr>\n",
       "      <th>2021-01-06</th>\n",
       "      <td>0.078719</td>\n",
       "      <td>0.127529</td>\n",
       "      <td>-0.241641</td>\n",
       "      <td>0.256047</td>\n",
       "    </tr>\n",
       "  </tbody>\n",
       "</table>\n",
       "</div>"
      ],
      "text/plain": [
       "                   A         B         C         D\n",
       "2021-01-03  1.263703  1.046320  0.263733  0.108046\n",
       "2021-01-05 -0.034722  0.599104 -0.938535 -0.911627\n",
       "2021-01-06  0.078719  0.127529 -0.241641  0.256047"
      ]
     },
     "execution_count": 53,
     "metadata": {},
     "output_type": "execute_result"
    }
   ],
   "source": [
    "df[0:3]"
   ]
  },
  {
   "cell_type": "code",
   "execution_count": 54,
   "id": "16075d92-3979-4dee-8d59-23ee2d684345",
   "metadata": {},
   "outputs": [
    {
     "data": {
      "text/html": [
       "<div>\n",
       "<style scoped>\n",
       "    .dataframe tbody tr th:only-of-type {\n",
       "        vertical-align: middle;\n",
       "    }\n",
       "\n",
       "    .dataframe tbody tr th {\n",
       "        vertical-align: top;\n",
       "    }\n",
       "\n",
       "    .dataframe thead th {\n",
       "        text-align: right;\n",
       "    }\n",
       "</style>\n",
       "<table border=\"1\" class=\"dataframe\">\n",
       "  <thead>\n",
       "    <tr style=\"text-align: right;\">\n",
       "      <th></th>\n",
       "      <th>A</th>\n",
       "      <th>B</th>\n",
       "      <th>C</th>\n",
       "      <th>D</th>\n",
       "    </tr>\n",
       "  </thead>\n",
       "  <tbody>\n",
       "    <tr>\n",
       "      <th>2021-01-03</th>\n",
       "      <td>1.263703</td>\n",
       "      <td>1.046320</td>\n",
       "      <td>0.263733</td>\n",
       "      <td>0.108046</td>\n",
       "    </tr>\n",
       "    <tr>\n",
       "      <th>2021-01-02</th>\n",
       "      <td>0.989038</td>\n",
       "      <td>-0.252153</td>\n",
       "      <td>0.356123</td>\n",
       "      <td>-0.337069</td>\n",
       "    </tr>\n",
       "    <tr>\n",
       "      <th>2021-01-01</th>\n",
       "      <td>-0.894943</td>\n",
       "      <td>-0.554855</td>\n",
       "      <td>-0.160555</td>\n",
       "      <td>-0.249154</td>\n",
       "    </tr>\n",
       "    <tr>\n",
       "      <th>2021-01-04</th>\n",
       "      <td>-1.511937</td>\n",
       "      <td>-1.656935</td>\n",
       "      <td>-0.347664</td>\n",
       "      <td>-1.625076</td>\n",
       "    </tr>\n",
       "  </tbody>\n",
       "</table>\n",
       "</div>"
      ],
      "text/plain": [
       "                   A         B         C         D\n",
       "2021-01-03  1.263703  1.046320  0.263733  0.108046\n",
       "2021-01-02  0.989038 -0.252153  0.356123 -0.337069\n",
       "2021-01-01 -0.894943 -0.554855 -0.160555 -0.249154\n",
       "2021-01-04 -1.511937 -1.656935 -0.347664 -1.625076"
      ]
     },
     "execution_count": 54,
     "metadata": {},
     "output_type": "execute_result"
    }
   ],
   "source": [
    "df[\"20210101\":\"20210104\"]"
   ]
  },
  {
   "cell_type": "markdown",
   "id": "46e2ceb4-bc00-4d22-8537-91ae2ee9a846",
   "metadata": {},
   "source": [
    "- loc : location\n",
    "    - index 이름으로 특정 행, 열을 선택"
   ]
  },
  {
   "cell_type": "code",
   "execution_count": 55,
   "id": "ce3351b7-b3a6-4359-ac4a-ca53dacec3f4",
   "metadata": {},
   "outputs": [
    {
     "data": {
      "text/html": [
       "<div>\n",
       "<style scoped>\n",
       "    .dataframe tbody tr th:only-of-type {\n",
       "        vertical-align: middle;\n",
       "    }\n",
       "\n",
       "    .dataframe tbody tr th {\n",
       "        vertical-align: top;\n",
       "    }\n",
       "\n",
       "    .dataframe thead th {\n",
       "        text-align: right;\n",
       "    }\n",
       "</style>\n",
       "<table border=\"1\" class=\"dataframe\">\n",
       "  <thead>\n",
       "    <tr style=\"text-align: right;\">\n",
       "      <th></th>\n",
       "      <th>A</th>\n",
       "      <th>B</th>\n",
       "      <th>C</th>\n",
       "      <th>D</th>\n",
       "    </tr>\n",
       "  </thead>\n",
       "  <tbody>\n",
       "    <tr>\n",
       "      <th>2021-01-03</th>\n",
       "      <td>1.263703</td>\n",
       "      <td>1.046320</td>\n",
       "      <td>0.263733</td>\n",
       "      <td>0.108046</td>\n",
       "    </tr>\n",
       "    <tr>\n",
       "      <th>2021-01-05</th>\n",
       "      <td>-0.034722</td>\n",
       "      <td>0.599104</td>\n",
       "      <td>-0.938535</td>\n",
       "      <td>-0.911627</td>\n",
       "    </tr>\n",
       "    <tr>\n",
       "      <th>2021-01-06</th>\n",
       "      <td>0.078719</td>\n",
       "      <td>0.127529</td>\n",
       "      <td>-0.241641</td>\n",
       "      <td>0.256047</td>\n",
       "    </tr>\n",
       "    <tr>\n",
       "      <th>2021-01-02</th>\n",
       "      <td>0.989038</td>\n",
       "      <td>-0.252153</td>\n",
       "      <td>0.356123</td>\n",
       "      <td>-0.337069</td>\n",
       "    </tr>\n",
       "    <tr>\n",
       "      <th>2021-01-01</th>\n",
       "      <td>-0.894943</td>\n",
       "      <td>-0.554855</td>\n",
       "      <td>-0.160555</td>\n",
       "      <td>-0.249154</td>\n",
       "    </tr>\n",
       "    <tr>\n",
       "      <th>2021-01-04</th>\n",
       "      <td>-1.511937</td>\n",
       "      <td>-1.656935</td>\n",
       "      <td>-0.347664</td>\n",
       "      <td>-1.625076</td>\n",
       "    </tr>\n",
       "  </tbody>\n",
       "</table>\n",
       "</div>"
      ],
      "text/plain": [
       "                   A         B         C         D\n",
       "2021-01-03  1.263703  1.046320  0.263733  0.108046\n",
       "2021-01-05 -0.034722  0.599104 -0.938535 -0.911627\n",
       "2021-01-06  0.078719  0.127529 -0.241641  0.256047\n",
       "2021-01-02  0.989038 -0.252153  0.356123 -0.337069\n",
       "2021-01-01 -0.894943 -0.554855 -0.160555 -0.249154\n",
       "2021-01-04 -1.511937 -1.656935 -0.347664 -1.625076"
      ]
     },
     "execution_count": 55,
     "metadata": {},
     "output_type": "execute_result"
    }
   ],
   "source": [
    "df"
   ]
  },
  {
   "cell_type": "code",
   "execution_count": 57,
   "id": "803c7166-3d70-4442-93fd-a9afaa7ec8a6",
   "metadata": {},
   "outputs": [
    {
     "data": {
      "text/html": [
       "<div>\n",
       "<style scoped>\n",
       "    .dataframe tbody tr th:only-of-type {\n",
       "        vertical-align: middle;\n",
       "    }\n",
       "\n",
       "    .dataframe tbody tr th {\n",
       "        vertical-align: top;\n",
       "    }\n",
       "\n",
       "    .dataframe thead th {\n",
       "        text-align: right;\n",
       "    }\n",
       "</style>\n",
       "<table border=\"1\" class=\"dataframe\">\n",
       "  <thead>\n",
       "    <tr style=\"text-align: right;\">\n",
       "      <th></th>\n",
       "      <th>A</th>\n",
       "      <th>B</th>\n",
       "    </tr>\n",
       "  </thead>\n",
       "  <tbody>\n",
       "    <tr>\n",
       "      <th>2021-01-03</th>\n",
       "      <td>1.263703</td>\n",
       "      <td>1.046320</td>\n",
       "    </tr>\n",
       "    <tr>\n",
       "      <th>2021-01-05</th>\n",
       "      <td>-0.034722</td>\n",
       "      <td>0.599104</td>\n",
       "    </tr>\n",
       "    <tr>\n",
       "      <th>2021-01-06</th>\n",
       "      <td>0.078719</td>\n",
       "      <td>0.127529</td>\n",
       "    </tr>\n",
       "    <tr>\n",
       "      <th>2021-01-02</th>\n",
       "      <td>0.989038</td>\n",
       "      <td>-0.252153</td>\n",
       "    </tr>\n",
       "    <tr>\n",
       "      <th>2021-01-01</th>\n",
       "      <td>-0.894943</td>\n",
       "      <td>-0.554855</td>\n",
       "    </tr>\n",
       "    <tr>\n",
       "      <th>2021-01-04</th>\n",
       "      <td>-1.511937</td>\n",
       "      <td>-1.656935</td>\n",
       "    </tr>\n",
       "  </tbody>\n",
       "</table>\n",
       "</div>"
      ],
      "text/plain": [
       "                   A         B\n",
       "2021-01-03  1.263703  1.046320\n",
       "2021-01-05 -0.034722  0.599104\n",
       "2021-01-06  0.078719  0.127529\n",
       "2021-01-02  0.989038 -0.252153\n",
       "2021-01-01 -0.894943 -0.554855\n",
       "2021-01-04 -1.511937 -1.656935"
      ]
     },
     "execution_count": 57,
     "metadata": {},
     "output_type": "execute_result"
    }
   ],
   "source": [
    "df.loc[:, [\"A\", \"B\"]]"
   ]
  },
  {
   "cell_type": "code",
   "execution_count": 61,
   "id": "87898e59-b578-4c51-83ab-28b9e5baf104",
   "metadata": {},
   "outputs": [
    {
     "data": {
      "text/html": [
       "<div>\n",
       "<style scoped>\n",
       "    .dataframe tbody tr th:only-of-type {\n",
       "        vertical-align: middle;\n",
       "    }\n",
       "\n",
       "    .dataframe tbody tr th {\n",
       "        vertical-align: top;\n",
       "    }\n",
       "\n",
       "    .dataframe thead th {\n",
       "        text-align: right;\n",
       "    }\n",
       "</style>\n",
       "<table border=\"1\" class=\"dataframe\">\n",
       "  <thead>\n",
       "    <tr style=\"text-align: right;\">\n",
       "      <th></th>\n",
       "      <th>A</th>\n",
       "      <th>D</th>\n",
       "    </tr>\n",
       "  </thead>\n",
       "  <tbody>\n",
       "    <tr>\n",
       "      <th>2021-01-03</th>\n",
       "      <td>1.263703</td>\n",
       "      <td>0.108046</td>\n",
       "    </tr>\n",
       "    <tr>\n",
       "      <th>2021-01-02</th>\n",
       "      <td>0.989038</td>\n",
       "      <td>-0.337069</td>\n",
       "    </tr>\n",
       "    <tr>\n",
       "      <th>2021-01-01</th>\n",
       "      <td>-0.894943</td>\n",
       "      <td>-0.249154</td>\n",
       "    </tr>\n",
       "    <tr>\n",
       "      <th>2021-01-04</th>\n",
       "      <td>-1.511937</td>\n",
       "      <td>-1.625076</td>\n",
       "    </tr>\n",
       "  </tbody>\n",
       "</table>\n",
       "</div>"
      ],
      "text/plain": [
       "                   A         D\n",
       "2021-01-03  1.263703  0.108046\n",
       "2021-01-02  0.989038 -0.337069\n",
       "2021-01-01 -0.894943 -0.249154\n",
       "2021-01-04 -1.511937 -1.625076"
      ]
     },
     "execution_count": 61,
     "metadata": {},
     "output_type": "execute_result"
    }
   ],
   "source": [
    "df.loc[\"20210101\":\"20210104\", [\"A\", \"D\"]]"
   ]
  },
  {
   "cell_type": "code",
   "execution_count": 62,
   "id": "cf78fe48-44b1-42ee-9466-3f78ce3db969",
   "metadata": {},
   "outputs": [
    {
     "data": {
      "text/html": [
       "<div>\n",
       "<style scoped>\n",
       "    .dataframe tbody tr th:only-of-type {\n",
       "        vertical-align: middle;\n",
       "    }\n",
       "\n",
       "    .dataframe tbody tr th {\n",
       "        vertical-align: top;\n",
       "    }\n",
       "\n",
       "    .dataframe thead th {\n",
       "        text-align: right;\n",
       "    }\n",
       "</style>\n",
       "<table border=\"1\" class=\"dataframe\">\n",
       "  <thead>\n",
       "    <tr style=\"text-align: right;\">\n",
       "      <th></th>\n",
       "      <th>A</th>\n",
       "      <th>B</th>\n",
       "      <th>C</th>\n",
       "      <th>D</th>\n",
       "    </tr>\n",
       "  </thead>\n",
       "  <tbody>\n",
       "    <tr>\n",
       "      <th>2021-01-03</th>\n",
       "      <td>1.263703</td>\n",
       "      <td>1.046320</td>\n",
       "      <td>0.263733</td>\n",
       "      <td>0.108046</td>\n",
       "    </tr>\n",
       "    <tr>\n",
       "      <th>2021-01-02</th>\n",
       "      <td>0.989038</td>\n",
       "      <td>-0.252153</td>\n",
       "      <td>0.356123</td>\n",
       "      <td>-0.337069</td>\n",
       "    </tr>\n",
       "    <tr>\n",
       "      <th>2021-01-04</th>\n",
       "      <td>-1.511937</td>\n",
       "      <td>-1.656935</td>\n",
       "      <td>-0.347664</td>\n",
       "      <td>-1.625076</td>\n",
       "    </tr>\n",
       "  </tbody>\n",
       "</table>\n",
       "</div>"
      ],
      "text/plain": [
       "                   A         B         C         D\n",
       "2021-01-03  1.263703  1.046320  0.263733  0.108046\n",
       "2021-01-02  0.989038 -0.252153  0.356123 -0.337069\n",
       "2021-01-04 -1.511937 -1.656935 -0.347664 -1.625076"
      ]
     },
     "execution_count": 62,
     "metadata": {},
     "output_type": "execute_result"
    }
   ],
   "source": [
    "df.loc[\"20210102\":\"20210104\", \"A\":\"D\"]"
   ]
  },
  {
   "cell_type": "markdown",
   "id": "d50f7142-f1f1-46fd-b4ed-a45e230fc4c8",
   "metadata": {},
   "source": [
    "- iloc : integer location\n",
    "    - 컴퓨터가 인식하는 인덱스 값으로 선택"
   ]
  },
  {
   "cell_type": "code",
   "execution_count": 64,
   "id": "ae5abf23-d04c-417b-a7a6-a31e15ecc835",
   "metadata": {},
   "outputs": [
    {
     "data": {
      "text/html": [
       "<div>\n",
       "<style scoped>\n",
       "    .dataframe tbody tr th:only-of-type {\n",
       "        vertical-align: middle;\n",
       "    }\n",
       "\n",
       "    .dataframe tbody tr th {\n",
       "        vertical-align: top;\n",
       "    }\n",
       "\n",
       "    .dataframe thead th {\n",
       "        text-align: right;\n",
       "    }\n",
       "</style>\n",
       "<table border=\"1\" class=\"dataframe\">\n",
       "  <thead>\n",
       "    <tr style=\"text-align: right;\">\n",
       "      <th></th>\n",
       "      <th>A</th>\n",
       "      <th>B</th>\n",
       "      <th>C</th>\n",
       "      <th>D</th>\n",
       "    </tr>\n",
       "  </thead>\n",
       "  <tbody>\n",
       "    <tr>\n",
       "      <th>2021-01-03</th>\n",
       "      <td>1.263703</td>\n",
       "      <td>1.046320</td>\n",
       "      <td>0.263733</td>\n",
       "      <td>0.108046</td>\n",
       "    </tr>\n",
       "    <tr>\n",
       "      <th>2021-01-05</th>\n",
       "      <td>-0.034722</td>\n",
       "      <td>0.599104</td>\n",
       "      <td>-0.938535</td>\n",
       "      <td>-0.911627</td>\n",
       "    </tr>\n",
       "    <tr>\n",
       "      <th>2021-01-06</th>\n",
       "      <td>0.078719</td>\n",
       "      <td>0.127529</td>\n",
       "      <td>-0.241641</td>\n",
       "      <td>0.256047</td>\n",
       "    </tr>\n",
       "    <tr>\n",
       "      <th>2021-01-02</th>\n",
       "      <td>0.989038</td>\n",
       "      <td>-0.252153</td>\n",
       "      <td>0.356123</td>\n",
       "      <td>-0.337069</td>\n",
       "    </tr>\n",
       "    <tr>\n",
       "      <th>2021-01-01</th>\n",
       "      <td>-0.894943</td>\n",
       "      <td>-0.554855</td>\n",
       "      <td>-0.160555</td>\n",
       "      <td>-0.249154</td>\n",
       "    </tr>\n",
       "    <tr>\n",
       "      <th>2021-01-04</th>\n",
       "      <td>-1.511937</td>\n",
       "      <td>-1.656935</td>\n",
       "      <td>-0.347664</td>\n",
       "      <td>-1.625076</td>\n",
       "    </tr>\n",
       "  </tbody>\n",
       "</table>\n",
       "</div>"
      ],
      "text/plain": [
       "                   A         B         C         D\n",
       "2021-01-03  1.263703  1.046320  0.263733  0.108046\n",
       "2021-01-05 -0.034722  0.599104 -0.938535 -0.911627\n",
       "2021-01-06  0.078719  0.127529 -0.241641  0.256047\n",
       "2021-01-02  0.989038 -0.252153  0.356123 -0.337069\n",
       "2021-01-01 -0.894943 -0.554855 -0.160555 -0.249154\n",
       "2021-01-04 -1.511937 -1.656935 -0.347664 -1.625076"
      ]
     },
     "execution_count": 64,
     "metadata": {},
     "output_type": "execute_result"
    }
   ],
   "source": [
    "df"
   ]
  },
  {
   "cell_type": "code",
   "execution_count": 65,
   "id": "1aea17fa-0ebe-4c6d-a317-4a13ccfcf44c",
   "metadata": {},
   "outputs": [
    {
     "data": {
      "text/plain": [
       "A    0.989038\n",
       "B   -0.252153\n",
       "C    0.356123\n",
       "D   -0.337069\n",
       "Name: 2021-01-02 00:00:00, dtype: float64"
      ]
     },
     "execution_count": 65,
     "metadata": {},
     "output_type": "execute_result"
    }
   ],
   "source": [
    "df.iloc[3]"
   ]
  },
  {
   "cell_type": "code",
   "execution_count": 66,
   "id": "9a1fe5d6-5e21-4786-b89a-d5b65937b072",
   "metadata": {},
   "outputs": [
    {
     "data": {
      "text/plain": [
       "0.3561228745140103"
      ]
     },
     "execution_count": 66,
     "metadata": {},
     "output_type": "execute_result"
    }
   ],
   "source": [
    "df.iloc[3, 2]"
   ]
  },
  {
   "cell_type": "code",
   "execution_count": 67,
   "id": "b23b2b0b-0cea-4d7d-b11f-18fae71838d8",
   "metadata": {},
   "outputs": [
    {
     "data": {
      "text/html": [
       "<div>\n",
       "<style scoped>\n",
       "    .dataframe tbody tr th:only-of-type {\n",
       "        vertical-align: middle;\n",
       "    }\n",
       "\n",
       "    .dataframe tbody tr th {\n",
       "        vertical-align: top;\n",
       "    }\n",
       "\n",
       "    .dataframe thead th {\n",
       "        text-align: right;\n",
       "    }\n",
       "</style>\n",
       "<table border=\"1\" class=\"dataframe\">\n",
       "  <thead>\n",
       "    <tr style=\"text-align: right;\">\n",
       "      <th></th>\n",
       "      <th>A</th>\n",
       "      <th>B</th>\n",
       "    </tr>\n",
       "  </thead>\n",
       "  <tbody>\n",
       "    <tr>\n",
       "      <th>2021-01-02</th>\n",
       "      <td>0.989038</td>\n",
       "      <td>-0.252153</td>\n",
       "    </tr>\n",
       "    <tr>\n",
       "      <th>2021-01-01</th>\n",
       "      <td>-0.894943</td>\n",
       "      <td>-0.554855</td>\n",
       "    </tr>\n",
       "  </tbody>\n",
       "</table>\n",
       "</div>"
      ],
      "text/plain": [
       "                   A         B\n",
       "2021-01-02  0.989038 -0.252153\n",
       "2021-01-01 -0.894943 -0.554855"
      ]
     },
     "execution_count": 67,
     "metadata": {},
     "output_type": "execute_result"
    }
   ],
   "source": [
    "df.iloc[3:5, 0:2]"
   ]
  },
  {
   "cell_type": "code",
   "execution_count": 68,
   "id": "2677428c-2c14-4887-ae94-3545bf5b76ee",
   "metadata": {},
   "outputs": [
    {
     "data": {
      "text/html": [
       "<div>\n",
       "<style scoped>\n",
       "    .dataframe tbody tr th:only-of-type {\n",
       "        vertical-align: middle;\n",
       "    }\n",
       "\n",
       "    .dataframe tbody tr th {\n",
       "        vertical-align: top;\n",
       "    }\n",
       "\n",
       "    .dataframe thead th {\n",
       "        text-align: right;\n",
       "    }\n",
       "</style>\n",
       "<table border=\"1\" class=\"dataframe\">\n",
       "  <thead>\n",
       "    <tr style=\"text-align: right;\">\n",
       "      <th></th>\n",
       "      <th>A</th>\n",
       "      <th>C</th>\n",
       "    </tr>\n",
       "  </thead>\n",
       "  <tbody>\n",
       "    <tr>\n",
       "      <th>2021-01-05</th>\n",
       "      <td>-0.034722</td>\n",
       "      <td>-0.938535</td>\n",
       "    </tr>\n",
       "    <tr>\n",
       "      <th>2021-01-06</th>\n",
       "      <td>0.078719</td>\n",
       "      <td>-0.241641</td>\n",
       "    </tr>\n",
       "    <tr>\n",
       "      <th>2021-01-01</th>\n",
       "      <td>-0.894943</td>\n",
       "      <td>-0.160555</td>\n",
       "    </tr>\n",
       "  </tbody>\n",
       "</table>\n",
       "</div>"
      ],
      "text/plain": [
       "                   A         C\n",
       "2021-01-05 -0.034722 -0.938535\n",
       "2021-01-06  0.078719 -0.241641\n",
       "2021-01-01 -0.894943 -0.160555"
      ]
     },
     "execution_count": 68,
     "metadata": {},
     "output_type": "execute_result"
    }
   ],
   "source": [
    "df.iloc[[1, 2, 4], [0, 2]]"
   ]
  },
  {
   "cell_type": "code",
   "execution_count": 69,
   "id": "91c8dddd-43d0-439d-ab53-9dd9b80f3020",
   "metadata": {},
   "outputs": [
    {
     "data": {
      "text/html": [
       "<div>\n",
       "<style scoped>\n",
       "    .dataframe tbody tr th:only-of-type {\n",
       "        vertical-align: middle;\n",
       "    }\n",
       "\n",
       "    .dataframe tbody tr th {\n",
       "        vertical-align: top;\n",
       "    }\n",
       "\n",
       "    .dataframe thead th {\n",
       "        text-align: right;\n",
       "    }\n",
       "</style>\n",
       "<table border=\"1\" class=\"dataframe\">\n",
       "  <thead>\n",
       "    <tr style=\"text-align: right;\">\n",
       "      <th></th>\n",
       "      <th>B</th>\n",
       "      <th>C</th>\n",
       "    </tr>\n",
       "  </thead>\n",
       "  <tbody>\n",
       "    <tr>\n",
       "      <th>2021-01-03</th>\n",
       "      <td>1.046320</td>\n",
       "      <td>0.263733</td>\n",
       "    </tr>\n",
       "    <tr>\n",
       "      <th>2021-01-05</th>\n",
       "      <td>0.599104</td>\n",
       "      <td>-0.938535</td>\n",
       "    </tr>\n",
       "    <tr>\n",
       "      <th>2021-01-06</th>\n",
       "      <td>0.127529</td>\n",
       "      <td>-0.241641</td>\n",
       "    </tr>\n",
       "    <tr>\n",
       "      <th>2021-01-02</th>\n",
       "      <td>-0.252153</td>\n",
       "      <td>0.356123</td>\n",
       "    </tr>\n",
       "    <tr>\n",
       "      <th>2021-01-01</th>\n",
       "      <td>-0.554855</td>\n",
       "      <td>-0.160555</td>\n",
       "    </tr>\n",
       "    <tr>\n",
       "      <th>2021-01-04</th>\n",
       "      <td>-1.656935</td>\n",
       "      <td>-0.347664</td>\n",
       "    </tr>\n",
       "  </tbody>\n",
       "</table>\n",
       "</div>"
      ],
      "text/plain": [
       "                   B         C\n",
       "2021-01-03  1.046320  0.263733\n",
       "2021-01-05  0.599104 -0.938535\n",
       "2021-01-06  0.127529 -0.241641\n",
       "2021-01-02 -0.252153  0.356123\n",
       "2021-01-01 -0.554855 -0.160555\n",
       "2021-01-04 -1.656935 -0.347664"
      ]
     },
     "execution_count": 69,
     "metadata": {},
     "output_type": "execute_result"
    }
   ],
   "source": [
    "df.iloc[:, 1:3]"
   ]
  },
  {
   "cell_type": "markdown",
   "id": "029cee77-71eb-42e1-b5af-adf2241ec1e2",
   "metadata": {},
   "source": [
    "#### condition"
   ]
  },
  {
   "cell_type": "code",
   "execution_count": 70,
   "id": "04aeec91-7c1a-473b-a9fe-84d231fefe9a",
   "metadata": {},
   "outputs": [
    {
     "data": {
      "text/html": [
       "<div>\n",
       "<style scoped>\n",
       "    .dataframe tbody tr th:only-of-type {\n",
       "        vertical-align: middle;\n",
       "    }\n",
       "\n",
       "    .dataframe tbody tr th {\n",
       "        vertical-align: top;\n",
       "    }\n",
       "\n",
       "    .dataframe thead th {\n",
       "        text-align: right;\n",
       "    }\n",
       "</style>\n",
       "<table border=\"1\" class=\"dataframe\">\n",
       "  <thead>\n",
       "    <tr style=\"text-align: right;\">\n",
       "      <th></th>\n",
       "      <th>A</th>\n",
       "      <th>B</th>\n",
       "      <th>C</th>\n",
       "      <th>D</th>\n",
       "    </tr>\n",
       "  </thead>\n",
       "  <tbody>\n",
       "    <tr>\n",
       "      <th>2021-01-03</th>\n",
       "      <td>1.263703</td>\n",
       "      <td>1.046320</td>\n",
       "      <td>0.263733</td>\n",
       "      <td>0.108046</td>\n",
       "    </tr>\n",
       "    <tr>\n",
       "      <th>2021-01-05</th>\n",
       "      <td>-0.034722</td>\n",
       "      <td>0.599104</td>\n",
       "      <td>-0.938535</td>\n",
       "      <td>-0.911627</td>\n",
       "    </tr>\n",
       "    <tr>\n",
       "      <th>2021-01-06</th>\n",
       "      <td>0.078719</td>\n",
       "      <td>0.127529</td>\n",
       "      <td>-0.241641</td>\n",
       "      <td>0.256047</td>\n",
       "    </tr>\n",
       "    <tr>\n",
       "      <th>2021-01-02</th>\n",
       "      <td>0.989038</td>\n",
       "      <td>-0.252153</td>\n",
       "      <td>0.356123</td>\n",
       "      <td>-0.337069</td>\n",
       "    </tr>\n",
       "    <tr>\n",
       "      <th>2021-01-01</th>\n",
       "      <td>-0.894943</td>\n",
       "      <td>-0.554855</td>\n",
       "      <td>-0.160555</td>\n",
       "      <td>-0.249154</td>\n",
       "    </tr>\n",
       "    <tr>\n",
       "      <th>2021-01-04</th>\n",
       "      <td>-1.511937</td>\n",
       "      <td>-1.656935</td>\n",
       "      <td>-0.347664</td>\n",
       "      <td>-1.625076</td>\n",
       "    </tr>\n",
       "  </tbody>\n",
       "</table>\n",
       "</div>"
      ],
      "text/plain": [
       "                   A         B         C         D\n",
       "2021-01-03  1.263703  1.046320  0.263733  0.108046\n",
       "2021-01-05 -0.034722  0.599104 -0.938535 -0.911627\n",
       "2021-01-06  0.078719  0.127529 -0.241641  0.256047\n",
       "2021-01-02  0.989038 -0.252153  0.356123 -0.337069\n",
       "2021-01-01 -0.894943 -0.554855 -0.160555 -0.249154\n",
       "2021-01-04 -1.511937 -1.656935 -0.347664 -1.625076"
      ]
     },
     "execution_count": 70,
     "metadata": {},
     "output_type": "execute_result"
    }
   ],
   "source": [
    "df"
   ]
  },
  {
   "cell_type": "code",
   "execution_count": 72,
   "id": "02b71759-91ce-462c-aa7c-adacf51f5434",
   "metadata": {},
   "outputs": [
    {
     "data": {
      "text/plain": [
       "2021-01-03     True\n",
       "2021-01-05    False\n",
       "2021-01-06     True\n",
       "2021-01-02     True\n",
       "2021-01-01    False\n",
       "2021-01-04    False\n",
       "Name: A, dtype: bool"
      ]
     },
     "execution_count": 72,
     "metadata": {},
     "output_type": "execute_result"
    }
   ],
   "source": [
    "# A 컬럼에서 0보다 큰 숫자(양수)만 선택\n",
    "\n",
    "df[\"A\"] > 0"
   ]
  },
  {
   "cell_type": "code",
   "execution_count": 73,
   "id": "b1284ced-ea86-43f5-bb16-76e75c358052",
   "metadata": {},
   "outputs": [
    {
     "data": {
      "text/html": [
       "<div>\n",
       "<style scoped>\n",
       "    .dataframe tbody tr th:only-of-type {\n",
       "        vertical-align: middle;\n",
       "    }\n",
       "\n",
       "    .dataframe tbody tr th {\n",
       "        vertical-align: top;\n",
       "    }\n",
       "\n",
       "    .dataframe thead th {\n",
       "        text-align: right;\n",
       "    }\n",
       "</style>\n",
       "<table border=\"1\" class=\"dataframe\">\n",
       "  <thead>\n",
       "    <tr style=\"text-align: right;\">\n",
       "      <th></th>\n",
       "      <th>A</th>\n",
       "      <th>B</th>\n",
       "      <th>C</th>\n",
       "      <th>D</th>\n",
       "    </tr>\n",
       "  </thead>\n",
       "  <tbody>\n",
       "    <tr>\n",
       "      <th>2021-01-03</th>\n",
       "      <td>1.263703</td>\n",
       "      <td>1.046320</td>\n",
       "      <td>0.263733</td>\n",
       "      <td>0.108046</td>\n",
       "    </tr>\n",
       "    <tr>\n",
       "      <th>2021-01-06</th>\n",
       "      <td>0.078719</td>\n",
       "      <td>0.127529</td>\n",
       "      <td>-0.241641</td>\n",
       "      <td>0.256047</td>\n",
       "    </tr>\n",
       "    <tr>\n",
       "      <th>2021-01-02</th>\n",
       "      <td>0.989038</td>\n",
       "      <td>-0.252153</td>\n",
       "      <td>0.356123</td>\n",
       "      <td>-0.337069</td>\n",
       "    </tr>\n",
       "  </tbody>\n",
       "</table>\n",
       "</div>"
      ],
      "text/plain": [
       "                   A         B         C         D\n",
       "2021-01-03  1.263703  1.046320  0.263733  0.108046\n",
       "2021-01-06  0.078719  0.127529 -0.241641  0.256047\n",
       "2021-01-02  0.989038 -0.252153  0.356123 -0.337069"
      ]
     },
     "execution_count": 73,
     "metadata": {},
     "output_type": "execute_result"
    }
   ],
   "source": [
    "df[df[\"A\"] > 0]"
   ]
  },
  {
   "cell_type": "code",
   "execution_count": 76,
   "id": "dfe569c8-8f76-41bc-b598-9ed41772672c",
   "metadata": {},
   "outputs": [
    {
     "data": {
      "text/html": [
       "<div>\n",
       "<style scoped>\n",
       "    .dataframe tbody tr th:only-of-type {\n",
       "        vertical-align: middle;\n",
       "    }\n",
       "\n",
       "    .dataframe tbody tr th {\n",
       "        vertical-align: top;\n",
       "    }\n",
       "\n",
       "    .dataframe thead th {\n",
       "        text-align: right;\n",
       "    }\n",
       "</style>\n",
       "<table border=\"1\" class=\"dataframe\">\n",
       "  <thead>\n",
       "    <tr style=\"text-align: right;\">\n",
       "      <th></th>\n",
       "      <th>A</th>\n",
       "      <th>B</th>\n",
       "      <th>C</th>\n",
       "      <th>D</th>\n",
       "    </tr>\n",
       "  </thead>\n",
       "  <tbody>\n",
       "    <tr>\n",
       "      <th>2021-01-03</th>\n",
       "      <td>1.263703</td>\n",
       "      <td>1.046320</td>\n",
       "      <td>0.263733</td>\n",
       "      <td>0.108046</td>\n",
       "    </tr>\n",
       "    <tr>\n",
       "      <th>2021-01-05</th>\n",
       "      <td>NaN</td>\n",
       "      <td>0.599104</td>\n",
       "      <td>NaN</td>\n",
       "      <td>NaN</td>\n",
       "    </tr>\n",
       "    <tr>\n",
       "      <th>2021-01-06</th>\n",
       "      <td>0.078719</td>\n",
       "      <td>0.127529</td>\n",
       "      <td>NaN</td>\n",
       "      <td>0.256047</td>\n",
       "    </tr>\n",
       "    <tr>\n",
       "      <th>2021-01-02</th>\n",
       "      <td>0.989038</td>\n",
       "      <td>NaN</td>\n",
       "      <td>0.356123</td>\n",
       "      <td>NaN</td>\n",
       "    </tr>\n",
       "    <tr>\n",
       "      <th>2021-01-01</th>\n",
       "      <td>NaN</td>\n",
       "      <td>NaN</td>\n",
       "      <td>NaN</td>\n",
       "      <td>NaN</td>\n",
       "    </tr>\n",
       "    <tr>\n",
       "      <th>2021-01-04</th>\n",
       "      <td>NaN</td>\n",
       "      <td>NaN</td>\n",
       "      <td>NaN</td>\n",
       "      <td>NaN</td>\n",
       "    </tr>\n",
       "  </tbody>\n",
       "</table>\n",
       "</div>"
      ],
      "text/plain": [
       "                   A         B         C         D\n",
       "2021-01-03  1.263703  1.046320  0.263733  0.108046\n",
       "2021-01-05       NaN  0.599104       NaN       NaN\n",
       "2021-01-06  0.078719  0.127529       NaN  0.256047\n",
       "2021-01-02  0.989038       NaN  0.356123       NaN\n",
       "2021-01-01       NaN       NaN       NaN       NaN\n",
       "2021-01-04       NaN       NaN       NaN       NaN"
      ]
     },
     "execution_count": 76,
     "metadata": {},
     "output_type": "execute_result"
    }
   ],
   "source": [
    "df[df > 0]"
   ]
  },
  {
   "cell_type": "markdown",
   "id": "40e76bc2-4b67-4bb0-87d2-f8024f3d03d0",
   "metadata": {},
   "source": [
    "- NaN : Not a Number"
   ]
  },
  {
   "cell_type": "markdown",
   "id": "05f2b7db-f37a-488c-af67-7efab43d7e51",
   "metadata": {},
   "source": [
    "#### 컬럼 추가\n",
    "- 기존 컬럼이 없으면 추가\n",
    "- 기존 컬럼이 있으면 수정"
   ]
  },
  {
   "cell_type": "code",
   "execution_count": 78,
   "id": "a664eb61-81d3-4b7d-a827-20a39f28cf12",
   "metadata": {},
   "outputs": [
    {
     "data": {
      "text/html": [
       "<div>\n",
       "<style scoped>\n",
       "    .dataframe tbody tr th:only-of-type {\n",
       "        vertical-align: middle;\n",
       "    }\n",
       "\n",
       "    .dataframe tbody tr th {\n",
       "        vertical-align: top;\n",
       "    }\n",
       "\n",
       "    .dataframe thead th {\n",
       "        text-align: right;\n",
       "    }\n",
       "</style>\n",
       "<table border=\"1\" class=\"dataframe\">\n",
       "  <thead>\n",
       "    <tr style=\"text-align: right;\">\n",
       "      <th></th>\n",
       "      <th>A</th>\n",
       "      <th>B</th>\n",
       "      <th>C</th>\n",
       "      <th>D</th>\n",
       "    </tr>\n",
       "  </thead>\n",
       "  <tbody>\n",
       "    <tr>\n",
       "      <th>2021-01-03</th>\n",
       "      <td>1.263703</td>\n",
       "      <td>1.046320</td>\n",
       "      <td>0.263733</td>\n",
       "      <td>0.108046</td>\n",
       "    </tr>\n",
       "    <tr>\n",
       "      <th>2021-01-05</th>\n",
       "      <td>-0.034722</td>\n",
       "      <td>0.599104</td>\n",
       "      <td>-0.938535</td>\n",
       "      <td>-0.911627</td>\n",
       "    </tr>\n",
       "    <tr>\n",
       "      <th>2021-01-06</th>\n",
       "      <td>0.078719</td>\n",
       "      <td>0.127529</td>\n",
       "      <td>-0.241641</td>\n",
       "      <td>0.256047</td>\n",
       "    </tr>\n",
       "    <tr>\n",
       "      <th>2021-01-02</th>\n",
       "      <td>0.989038</td>\n",
       "      <td>-0.252153</td>\n",
       "      <td>0.356123</td>\n",
       "      <td>-0.337069</td>\n",
       "    </tr>\n",
       "    <tr>\n",
       "      <th>2021-01-01</th>\n",
       "      <td>-0.894943</td>\n",
       "      <td>-0.554855</td>\n",
       "      <td>-0.160555</td>\n",
       "      <td>-0.249154</td>\n",
       "    </tr>\n",
       "    <tr>\n",
       "      <th>2021-01-04</th>\n",
       "      <td>-1.511937</td>\n",
       "      <td>-1.656935</td>\n",
       "      <td>-0.347664</td>\n",
       "      <td>-1.625076</td>\n",
       "    </tr>\n",
       "  </tbody>\n",
       "</table>\n",
       "</div>"
      ],
      "text/plain": [
       "                   A         B         C         D\n",
       "2021-01-03  1.263703  1.046320  0.263733  0.108046\n",
       "2021-01-05 -0.034722  0.599104 -0.938535 -0.911627\n",
       "2021-01-06  0.078719  0.127529 -0.241641  0.256047\n",
       "2021-01-02  0.989038 -0.252153  0.356123 -0.337069\n",
       "2021-01-01 -0.894943 -0.554855 -0.160555 -0.249154\n",
       "2021-01-04 -1.511937 -1.656935 -0.347664 -1.625076"
      ]
     },
     "execution_count": 78,
     "metadata": {},
     "output_type": "execute_result"
    }
   ],
   "source": [
    "df"
   ]
  },
  {
   "cell_type": "code",
   "execution_count": 81,
   "id": "5d4fa336-8f07-4968-808c-94d78f756ef0",
   "metadata": {},
   "outputs": [
    {
     "data": {
      "text/html": [
       "<div>\n",
       "<style scoped>\n",
       "    .dataframe tbody tr th:only-of-type {\n",
       "        vertical-align: middle;\n",
       "    }\n",
       "\n",
       "    .dataframe tbody tr th {\n",
       "        vertical-align: top;\n",
       "    }\n",
       "\n",
       "    .dataframe thead th {\n",
       "        text-align: right;\n",
       "    }\n",
       "</style>\n",
       "<table border=\"1\" class=\"dataframe\">\n",
       "  <thead>\n",
       "    <tr style=\"text-align: right;\">\n",
       "      <th></th>\n",
       "      <th>A</th>\n",
       "      <th>B</th>\n",
       "      <th>C</th>\n",
       "      <th>D</th>\n",
       "      <th>E</th>\n",
       "    </tr>\n",
       "  </thead>\n",
       "  <tbody>\n",
       "    <tr>\n",
       "      <th>2021-01-03</th>\n",
       "      <td>1.263703</td>\n",
       "      <td>1.046320</td>\n",
       "      <td>0.263733</td>\n",
       "      <td>0.108046</td>\n",
       "      <td>one</td>\n",
       "    </tr>\n",
       "    <tr>\n",
       "      <th>2021-01-05</th>\n",
       "      <td>-0.034722</td>\n",
       "      <td>0.599104</td>\n",
       "      <td>-0.938535</td>\n",
       "      <td>-0.911627</td>\n",
       "      <td>two</td>\n",
       "    </tr>\n",
       "    <tr>\n",
       "      <th>2021-01-06</th>\n",
       "      <td>0.078719</td>\n",
       "      <td>0.127529</td>\n",
       "      <td>-0.241641</td>\n",
       "      <td>0.256047</td>\n",
       "      <td>three</td>\n",
       "    </tr>\n",
       "    <tr>\n",
       "      <th>2021-01-02</th>\n",
       "      <td>0.989038</td>\n",
       "      <td>-0.252153</td>\n",
       "      <td>0.356123</td>\n",
       "      <td>-0.337069</td>\n",
       "      <td>four</td>\n",
       "    </tr>\n",
       "    <tr>\n",
       "      <th>2021-01-01</th>\n",
       "      <td>-0.894943</td>\n",
       "      <td>-0.554855</td>\n",
       "      <td>-0.160555</td>\n",
       "      <td>-0.249154</td>\n",
       "      <td>five</td>\n",
       "    </tr>\n",
       "    <tr>\n",
       "      <th>2021-01-04</th>\n",
       "      <td>-1.511937</td>\n",
       "      <td>-1.656935</td>\n",
       "      <td>-0.347664</td>\n",
       "      <td>-1.625076</td>\n",
       "      <td>six</td>\n",
       "    </tr>\n",
       "  </tbody>\n",
       "</table>\n",
       "</div>"
      ],
      "text/plain": [
       "                   A         B         C         D      E\n",
       "2021-01-03  1.263703  1.046320  0.263733  0.108046    one\n",
       "2021-01-05 -0.034722  0.599104 -0.938535 -0.911627    two\n",
       "2021-01-06  0.078719  0.127529 -0.241641  0.256047  three\n",
       "2021-01-02  0.989038 -0.252153  0.356123 -0.337069   four\n",
       "2021-01-01 -0.894943 -0.554855 -0.160555 -0.249154   five\n",
       "2021-01-04 -1.511937 -1.656935 -0.347664 -1.625076    six"
      ]
     },
     "execution_count": 81,
     "metadata": {},
     "output_type": "execute_result"
    }
   ],
   "source": [
    "df[\"E\"] = [\"one\", \"two\", \"three\", \"four\", \"five\", \"six\"]\n",
    "df"
   ]
  },
  {
   "cell_type": "markdown",
   "id": "e76a65b8-fae3-40da-947f-c989ccfe720f",
   "metadata": {},
   "source": [
    "#### isin()\n",
    "특정 요소가 있는지 확인"
   ]
  },
  {
   "cell_type": "code",
   "execution_count": 83,
   "id": "038068da-9342-47fc-b29f-25d7dfa602d9",
   "metadata": {},
   "outputs": [
    {
     "data": {
      "text/plain": [
       "2021-01-03    False\n",
       "2021-01-05     True\n",
       "2021-01-06    False\n",
       "2021-01-02    False\n",
       "2021-01-01    False\n",
       "2021-01-04    False\n",
       "Name: E, dtype: bool"
      ]
     },
     "execution_count": 83,
     "metadata": {},
     "output_type": "execute_result"
    }
   ],
   "source": [
    "df[\"E\"].isin([\"two\"])"
   ]
  },
  {
   "cell_type": "code",
   "execution_count": 84,
   "id": "6d29f8f4-2936-4b25-9780-5a5abd247ac3",
   "metadata": {},
   "outputs": [
    {
     "data": {
      "text/plain": [
       "2021-01-03    False\n",
       "2021-01-05     True\n",
       "2021-01-06     True\n",
       "2021-01-02     True\n",
       "2021-01-01    False\n",
       "2021-01-04    False\n",
       "Name: E, dtype: bool"
      ]
     },
     "execution_count": 84,
     "metadata": {},
     "output_type": "execute_result"
    }
   ],
   "source": [
    "df[\"E\"].isin([\"two\", \"three\", \"four\"])"
   ]
  },
  {
   "cell_type": "code",
   "execution_count": 85,
   "id": "85658c3d-f90d-46f1-8edc-02605f86a14c",
   "metadata": {},
   "outputs": [
    {
     "data": {
      "text/html": [
       "<div>\n",
       "<style scoped>\n",
       "    .dataframe tbody tr th:only-of-type {\n",
       "        vertical-align: middle;\n",
       "    }\n",
       "\n",
       "    .dataframe tbody tr th {\n",
       "        vertical-align: top;\n",
       "    }\n",
       "\n",
       "    .dataframe thead th {\n",
       "        text-align: right;\n",
       "    }\n",
       "</style>\n",
       "<table border=\"1\" class=\"dataframe\">\n",
       "  <thead>\n",
       "    <tr style=\"text-align: right;\">\n",
       "      <th></th>\n",
       "      <th>A</th>\n",
       "      <th>B</th>\n",
       "      <th>C</th>\n",
       "      <th>D</th>\n",
       "      <th>E</th>\n",
       "    </tr>\n",
       "  </thead>\n",
       "  <tbody>\n",
       "    <tr>\n",
       "      <th>2021-01-05</th>\n",
       "      <td>-0.034722</td>\n",
       "      <td>0.599104</td>\n",
       "      <td>-0.938535</td>\n",
       "      <td>-0.911627</td>\n",
       "      <td>two</td>\n",
       "    </tr>\n",
       "    <tr>\n",
       "      <th>2021-01-06</th>\n",
       "      <td>0.078719</td>\n",
       "      <td>0.127529</td>\n",
       "      <td>-0.241641</td>\n",
       "      <td>0.256047</td>\n",
       "      <td>three</td>\n",
       "    </tr>\n",
       "    <tr>\n",
       "      <th>2021-01-02</th>\n",
       "      <td>0.989038</td>\n",
       "      <td>-0.252153</td>\n",
       "      <td>0.356123</td>\n",
       "      <td>-0.337069</td>\n",
       "      <td>four</td>\n",
       "    </tr>\n",
       "  </tbody>\n",
       "</table>\n",
       "</div>"
      ],
      "text/plain": [
       "                   A         B         C         D      E\n",
       "2021-01-05 -0.034722  0.599104 -0.938535 -0.911627    two\n",
       "2021-01-06  0.078719  0.127529 -0.241641  0.256047  three\n",
       "2021-01-02  0.989038 -0.252153  0.356123 -0.337069   four"
      ]
     },
     "execution_count": 85,
     "metadata": {},
     "output_type": "execute_result"
    }
   ],
   "source": [
    "df[df[\"E\"].isin([\"two\", \"three\", \"four\"])]"
   ]
  },
  {
   "cell_type": "markdown",
   "id": "23e1b1f8-6f3c-4b1d-9851-0a8a4717e49a",
   "metadata": {},
   "source": [
    "#### 특정 컬럼 제거\n",
    "- del\n",
    "- drop"
   ]
  },
  {
   "cell_type": "code",
   "execution_count": 86,
   "id": "a3baaa68-572a-4bba-a077-b8fd63e8b3e7",
   "metadata": {},
   "outputs": [
    {
     "data": {
      "text/html": [
       "<div>\n",
       "<style scoped>\n",
       "    .dataframe tbody tr th:only-of-type {\n",
       "        vertical-align: middle;\n",
       "    }\n",
       "\n",
       "    .dataframe tbody tr th {\n",
       "        vertical-align: top;\n",
       "    }\n",
       "\n",
       "    .dataframe thead th {\n",
       "        text-align: right;\n",
       "    }\n",
       "</style>\n",
       "<table border=\"1\" class=\"dataframe\">\n",
       "  <thead>\n",
       "    <tr style=\"text-align: right;\">\n",
       "      <th></th>\n",
       "      <th>A</th>\n",
       "      <th>B</th>\n",
       "      <th>C</th>\n",
       "      <th>D</th>\n",
       "    </tr>\n",
       "  </thead>\n",
       "  <tbody>\n",
       "    <tr>\n",
       "      <th>2021-01-03</th>\n",
       "      <td>1.263703</td>\n",
       "      <td>1.046320</td>\n",
       "      <td>0.263733</td>\n",
       "      <td>0.108046</td>\n",
       "    </tr>\n",
       "    <tr>\n",
       "      <th>2021-01-05</th>\n",
       "      <td>-0.034722</td>\n",
       "      <td>0.599104</td>\n",
       "      <td>-0.938535</td>\n",
       "      <td>-0.911627</td>\n",
       "    </tr>\n",
       "    <tr>\n",
       "      <th>2021-01-06</th>\n",
       "      <td>0.078719</td>\n",
       "      <td>0.127529</td>\n",
       "      <td>-0.241641</td>\n",
       "      <td>0.256047</td>\n",
       "    </tr>\n",
       "    <tr>\n",
       "      <th>2021-01-02</th>\n",
       "      <td>0.989038</td>\n",
       "      <td>-0.252153</td>\n",
       "      <td>0.356123</td>\n",
       "      <td>-0.337069</td>\n",
       "    </tr>\n",
       "    <tr>\n",
       "      <th>2021-01-01</th>\n",
       "      <td>-0.894943</td>\n",
       "      <td>-0.554855</td>\n",
       "      <td>-0.160555</td>\n",
       "      <td>-0.249154</td>\n",
       "    </tr>\n",
       "    <tr>\n",
       "      <th>2021-01-04</th>\n",
       "      <td>-1.511937</td>\n",
       "      <td>-1.656935</td>\n",
       "      <td>-0.347664</td>\n",
       "      <td>-1.625076</td>\n",
       "    </tr>\n",
       "  </tbody>\n",
       "</table>\n",
       "</div>"
      ],
      "text/plain": [
       "                   A         B         C         D\n",
       "2021-01-03  1.263703  1.046320  0.263733  0.108046\n",
       "2021-01-05 -0.034722  0.599104 -0.938535 -0.911627\n",
       "2021-01-06  0.078719  0.127529 -0.241641  0.256047\n",
       "2021-01-02  0.989038 -0.252153  0.356123 -0.337069\n",
       "2021-01-01 -0.894943 -0.554855 -0.160555 -0.249154\n",
       "2021-01-04 -1.511937 -1.656935 -0.347664 -1.625076"
      ]
     },
     "execution_count": 86,
     "metadata": {},
     "output_type": "execute_result"
    }
   ],
   "source": [
    "del df[\"E\"]\n",
    "df"
   ]
  },
  {
   "cell_type": "code",
   "execution_count": 88,
   "id": "db784452-6b1f-4d0a-927b-c412e28e8ffd",
   "metadata": {},
   "outputs": [
    {
     "data": {
      "text/html": [
       "<div>\n",
       "<style scoped>\n",
       "    .dataframe tbody tr th:only-of-type {\n",
       "        vertical-align: middle;\n",
       "    }\n",
       "\n",
       "    .dataframe tbody tr th {\n",
       "        vertical-align: top;\n",
       "    }\n",
       "\n",
       "    .dataframe thead th {\n",
       "        text-align: right;\n",
       "    }\n",
       "</style>\n",
       "<table border=\"1\" class=\"dataframe\">\n",
       "  <thead>\n",
       "    <tr style=\"text-align: right;\">\n",
       "      <th></th>\n",
       "      <th>A</th>\n",
       "      <th>B</th>\n",
       "      <th>C</th>\n",
       "    </tr>\n",
       "  </thead>\n",
       "  <tbody>\n",
       "    <tr>\n",
       "      <th>2021-01-03</th>\n",
       "      <td>1.263703</td>\n",
       "      <td>1.046320</td>\n",
       "      <td>0.263733</td>\n",
       "    </tr>\n",
       "    <tr>\n",
       "      <th>2021-01-05</th>\n",
       "      <td>-0.034722</td>\n",
       "      <td>0.599104</td>\n",
       "      <td>-0.938535</td>\n",
       "    </tr>\n",
       "    <tr>\n",
       "      <th>2021-01-06</th>\n",
       "      <td>0.078719</td>\n",
       "      <td>0.127529</td>\n",
       "      <td>-0.241641</td>\n",
       "    </tr>\n",
       "    <tr>\n",
       "      <th>2021-01-02</th>\n",
       "      <td>0.989038</td>\n",
       "      <td>-0.252153</td>\n",
       "      <td>0.356123</td>\n",
       "    </tr>\n",
       "    <tr>\n",
       "      <th>2021-01-01</th>\n",
       "      <td>-0.894943</td>\n",
       "      <td>-0.554855</td>\n",
       "      <td>-0.160555</td>\n",
       "    </tr>\n",
       "    <tr>\n",
       "      <th>2021-01-04</th>\n",
       "      <td>-1.511937</td>\n",
       "      <td>-1.656935</td>\n",
       "      <td>-0.347664</td>\n",
       "    </tr>\n",
       "  </tbody>\n",
       "</table>\n",
       "</div>"
      ],
      "text/plain": [
       "                   A         B         C\n",
       "2021-01-03  1.263703  1.046320  0.263733\n",
       "2021-01-05 -0.034722  0.599104 -0.938535\n",
       "2021-01-06  0.078719  0.127529 -0.241641\n",
       "2021-01-02  0.989038 -0.252153  0.356123\n",
       "2021-01-01 -0.894943 -0.554855 -0.160555\n",
       "2021-01-04 -1.511937 -1.656935 -0.347664"
      ]
     },
     "execution_count": 88,
     "metadata": {},
     "output_type": "execute_result"
    }
   ],
   "source": [
    "df.drop([\"D\"], axis = 1) # axis=0 가로, axis=1 세로, default axis = 0"
   ]
  },
  {
   "cell_type": "code",
   "execution_count": 90,
   "id": "cda67255-aed6-495b-ac26-d6e6dc7d04e2",
   "metadata": {},
   "outputs": [
    {
     "data": {
      "text/html": [
       "<div>\n",
       "<style scoped>\n",
       "    .dataframe tbody tr th:only-of-type {\n",
       "        vertical-align: middle;\n",
       "    }\n",
       "\n",
       "    .dataframe tbody tr th {\n",
       "        vertical-align: top;\n",
       "    }\n",
       "\n",
       "    .dataframe thead th {\n",
       "        text-align: right;\n",
       "    }\n",
       "</style>\n",
       "<table border=\"1\" class=\"dataframe\">\n",
       "  <thead>\n",
       "    <tr style=\"text-align: right;\">\n",
       "      <th></th>\n",
       "      <th>A</th>\n",
       "      <th>B</th>\n",
       "      <th>C</th>\n",
       "      <th>D</th>\n",
       "    </tr>\n",
       "  </thead>\n",
       "  <tbody>\n",
       "    <tr>\n",
       "      <th>2021-01-03</th>\n",
       "      <td>1.263703</td>\n",
       "      <td>1.046320</td>\n",
       "      <td>0.263733</td>\n",
       "      <td>0.108046</td>\n",
       "    </tr>\n",
       "    <tr>\n",
       "      <th>2021-01-05</th>\n",
       "      <td>-0.034722</td>\n",
       "      <td>0.599104</td>\n",
       "      <td>-0.938535</td>\n",
       "      <td>-0.911627</td>\n",
       "    </tr>\n",
       "    <tr>\n",
       "      <th>2021-01-06</th>\n",
       "      <td>0.078719</td>\n",
       "      <td>0.127529</td>\n",
       "      <td>-0.241641</td>\n",
       "      <td>0.256047</td>\n",
       "    </tr>\n",
       "    <tr>\n",
       "      <th>2021-01-02</th>\n",
       "      <td>0.989038</td>\n",
       "      <td>-0.252153</td>\n",
       "      <td>0.356123</td>\n",
       "      <td>-0.337069</td>\n",
       "    </tr>\n",
       "    <tr>\n",
       "      <th>2021-01-01</th>\n",
       "      <td>-0.894943</td>\n",
       "      <td>-0.554855</td>\n",
       "      <td>-0.160555</td>\n",
       "      <td>-0.249154</td>\n",
       "    </tr>\n",
       "  </tbody>\n",
       "</table>\n",
       "</div>"
      ],
      "text/plain": [
       "                   A         B         C         D\n",
       "2021-01-03  1.263703  1.046320  0.263733  0.108046\n",
       "2021-01-05 -0.034722  0.599104 -0.938535 -0.911627\n",
       "2021-01-06  0.078719  0.127529 -0.241641  0.256047\n",
       "2021-01-02  0.989038 -0.252153  0.356123 -0.337069\n",
       "2021-01-01 -0.894943 -0.554855 -0.160555 -0.249154"
      ]
     },
     "execution_count": 90,
     "metadata": {},
     "output_type": "execute_result"
    }
   ],
   "source": [
    "df.drop([\"20210104\"])"
   ]
  },
  {
   "cell_type": "markdown",
   "id": "eea95590-83c6-4748-b9e5-a90909b29820",
   "metadata": {},
   "source": [
    "#### apply()"
   ]
  },
  {
   "cell_type": "code",
   "execution_count": 91,
   "id": "5d7b28d0-8eec-413e-aaea-7f1e8942ee72",
   "metadata": {},
   "outputs": [
    {
     "data": {
      "text/html": [
       "<div>\n",
       "<style scoped>\n",
       "    .dataframe tbody tr th:only-of-type {\n",
       "        vertical-align: middle;\n",
       "    }\n",
       "\n",
       "    .dataframe tbody tr th {\n",
       "        vertical-align: top;\n",
       "    }\n",
       "\n",
       "    .dataframe thead th {\n",
       "        text-align: right;\n",
       "    }\n",
       "</style>\n",
       "<table border=\"1\" class=\"dataframe\">\n",
       "  <thead>\n",
       "    <tr style=\"text-align: right;\">\n",
       "      <th></th>\n",
       "      <th>A</th>\n",
       "      <th>B</th>\n",
       "      <th>C</th>\n",
       "      <th>D</th>\n",
       "    </tr>\n",
       "  </thead>\n",
       "  <tbody>\n",
       "    <tr>\n",
       "      <th>2021-01-03</th>\n",
       "      <td>1.263703</td>\n",
       "      <td>1.046320</td>\n",
       "      <td>0.263733</td>\n",
       "      <td>0.108046</td>\n",
       "    </tr>\n",
       "    <tr>\n",
       "      <th>2021-01-05</th>\n",
       "      <td>-0.034722</td>\n",
       "      <td>0.599104</td>\n",
       "      <td>-0.938535</td>\n",
       "      <td>-0.911627</td>\n",
       "    </tr>\n",
       "    <tr>\n",
       "      <th>2021-01-06</th>\n",
       "      <td>0.078719</td>\n",
       "      <td>0.127529</td>\n",
       "      <td>-0.241641</td>\n",
       "      <td>0.256047</td>\n",
       "    </tr>\n",
       "    <tr>\n",
       "      <th>2021-01-02</th>\n",
       "      <td>0.989038</td>\n",
       "      <td>-0.252153</td>\n",
       "      <td>0.356123</td>\n",
       "      <td>-0.337069</td>\n",
       "    </tr>\n",
       "    <tr>\n",
       "      <th>2021-01-01</th>\n",
       "      <td>-0.894943</td>\n",
       "      <td>-0.554855</td>\n",
       "      <td>-0.160555</td>\n",
       "      <td>-0.249154</td>\n",
       "    </tr>\n",
       "    <tr>\n",
       "      <th>2021-01-04</th>\n",
       "      <td>-1.511937</td>\n",
       "      <td>-1.656935</td>\n",
       "      <td>-0.347664</td>\n",
       "      <td>-1.625076</td>\n",
       "    </tr>\n",
       "  </tbody>\n",
       "</table>\n",
       "</div>"
      ],
      "text/plain": [
       "                   A         B         C         D\n",
       "2021-01-03  1.263703  1.046320  0.263733  0.108046\n",
       "2021-01-05 -0.034722  0.599104 -0.938535 -0.911627\n",
       "2021-01-06  0.078719  0.127529 -0.241641  0.256047\n",
       "2021-01-02  0.989038 -0.252153  0.356123 -0.337069\n",
       "2021-01-01 -0.894943 -0.554855 -0.160555 -0.249154\n",
       "2021-01-04 -1.511937 -1.656935 -0.347664 -1.625076"
      ]
     },
     "execution_count": 91,
     "metadata": {},
     "output_type": "execute_result"
    }
   ],
   "source": [
    "df"
   ]
  },
  {
   "cell_type": "code",
   "execution_count": 92,
   "id": "556e606d-5e7f-4f2f-8b65-dd73fbe5e206",
   "metadata": {},
   "outputs": [
    {
     "data": {
      "text/plain": [
       "-0.11014261011560555"
      ]
     },
     "execution_count": 92,
     "metadata": {},
     "output_type": "execute_result"
    }
   ],
   "source": [
    "df[\"A\"].apply(\"sum\")"
   ]
  },
  {
   "cell_type": "code",
   "execution_count": 93,
   "id": "ed3b77cb-1d82-423b-9210-9ebcb51a2119",
   "metadata": {},
   "outputs": [
    {
     "data": {
      "text/plain": [
       "-0.018357101685934258"
      ]
     },
     "execution_count": 93,
     "metadata": {},
     "output_type": "execute_result"
    }
   ],
   "source": [
    "df[\"A\"].apply(\"mean\")"
   ]
  },
  {
   "cell_type": "code",
   "execution_count": 94,
   "id": "3fb6a79d-bd9f-4390-9dea-8a76be51d2dc",
   "metadata": {},
   "outputs": [
    {
     "data": {
      "text/plain": [
       "(-1.5119366463887578, 1.2637027034751178)"
      ]
     },
     "execution_count": 94,
     "metadata": {},
     "output_type": "execute_result"
    }
   ],
   "source": [
    "df[\"A\"].apply(\"min\"), df[\"A\"].apply(\"max\")"
   ]
  },
  {
   "cell_type": "code",
   "execution_count": 95,
   "id": "4283e71d-6e5a-40b4-8c4e-c38b84b692ed",
   "metadata": {},
   "outputs": [
    {
     "data": {
      "text/plain": [
       "A   -0.110143\n",
       "D   -2.758832\n",
       "dtype: float64"
      ]
     },
     "execution_count": 95,
     "metadata": {},
     "output_type": "execute_result"
    }
   ],
   "source": [
    "df[[\"A\", \"D\"]].apply(\"sum\")"
   ]
  },
  {
   "cell_type": "code",
   "execution_count": 96,
   "id": "e42ea4ff-2a80-48f7-bb03-845dc9a6a7ad",
   "metadata": {},
   "outputs": [
    {
     "data": {
      "text/plain": [
       "2021-01-03    1.263703\n",
       "2021-01-05   -0.034722\n",
       "2021-01-06    0.078719\n",
       "2021-01-02    0.989038\n",
       "2021-01-01   -0.894943\n",
       "2021-01-04   -1.511937\n",
       "Name: A, dtype: float64"
      ]
     },
     "execution_count": 96,
     "metadata": {},
     "output_type": "execute_result"
    }
   ],
   "source": [
    "df[\"A\"].apply(np.sum)"
   ]
  },
  {
   "cell_type": "code",
   "execution_count": 98,
   "id": "7bdf2b77-a0ab-4b96-aff6-169216b25bab",
   "metadata": {},
   "outputs": [],
   "source": [
    "def plusminus(num):\n",
    "    return \"plus\" if num > 0  else \"minus\""
   ]
  },
  {
   "cell_type": "code",
   "execution_count": 100,
   "id": "b0b64e6a-df11-4956-95ef-273c96577f2e",
   "metadata": {},
   "outputs": [
    {
     "data": {
      "text/plain": [
       "2021-01-03     plus\n",
       "2021-01-05    minus\n",
       "2021-01-06     plus\n",
       "2021-01-02     plus\n",
       "2021-01-01    minus\n",
       "2021-01-04    minus\n",
       "Name: A, dtype: object"
      ]
     },
     "execution_count": 100,
     "metadata": {},
     "output_type": "execute_result"
    }
   ],
   "source": [
    "df[\"A\"].apply(plusminus)"
   ]
  },
  {
   "cell_type": "code",
   "execution_count": 101,
   "id": "0069d4d9-c592-4aab-b374-a31df704ec30",
   "metadata": {},
   "outputs": [
    {
     "data": {
      "text/plain": [
       "2021-01-03     plus\n",
       "2021-01-05    minus\n",
       "2021-01-06     plus\n",
       "2021-01-02     plus\n",
       "2021-01-01    minus\n",
       "2021-01-04    minus\n",
       "Name: A, dtype: object"
      ]
     },
     "execution_count": 101,
     "metadata": {},
     "output_type": "execute_result"
    }
   ],
   "source": [
    "df[\"A\"].apply(lambda num: \"plus\" if num > 0  else \"minus\")"
   ]
  }
 ],
 "metadata": {
  "kernelspec": {
   "display_name": "Python 3 (ipykernel)",
   "language": "python",
   "name": "python3"
  },
  "language_info": {
   "codemirror_mode": {
    "name": "ipython",
    "version": 3
   },
   "file_extension": ".py",
   "mimetype": "text/x-python",
   "name": "python",
   "nbconvert_exporter": "python",
   "pygments_lexer": "ipython3",
   "version": "3.8.19"
  }
 },
 "nbformat": 4,
 "nbformat_minor": 5
}
